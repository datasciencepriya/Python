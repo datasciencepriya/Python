{
 "cells": [
  {
   "cell_type": "markdown",
   "id": "b1fedce5",
   "metadata": {},
   "source": [
    "# print "
   ]
  },
  {
   "cell_type": "code",
   "execution_count": 1,
   "id": "52dc5f9c",
   "metadata": {},
   "outputs": [
    {
     "name": "stdout",
     "output_type": "stream",
     "text": [
      "Hello world\n",
      "Hello world\n",
      "Hello world\n"
     ]
    }
   ],
   "source": [
    "print('Hello world')\n",
    "print('Hello world')\n",
    "print('Hello world')\n"
   ]
  },
  {
   "cell_type": "code",
   "execution_count": 3,
   "id": "0f2f709e",
   "metadata": {},
   "outputs": [
    {
     "name": "stdout",
     "output_type": "stream",
     "text": [
      "Hello world\n",
      "Hello world\n",
      "Hello world\n"
     ]
    }
   ],
   "source": [
    "print('Hello world\\nHello world\\nHello world')\n"
   ]
  },
  {
   "cell_type": "code",
   "execution_count": 4,
   "id": "3f3a02e4",
   "metadata": {},
   "outputs": [
    {
     "name": "stdout",
     "output_type": "stream",
     "text": [
      "HelloPriya\n"
     ]
    }
   ],
   "source": [
    "#cancat string\n",
    "print(\"Hello\" + \"Priya\")"
   ]
  },
  {
   "cell_type": "code",
   "execution_count": 5,
   "id": "9648dbbe",
   "metadata": {},
   "outputs": [
    {
     "name": "stdout",
     "output_type": "stream",
     "text": [
      "Hello Priya\n"
     ]
    }
   ],
   "source": [
    "print(\"Hello\" + \" \"+ \"Priya\")"
   ]
  },
  {
   "cell_type": "code",
   "execution_count": 6,
   "id": "15423414",
   "metadata": {},
   "outputs": [
    {
     "name": "stdout",
     "output_type": "stream",
     "text": [
      "Hello  Priya\n"
     ]
    }
   ],
   "source": [
    "print(\"Hello \" + \" \"+ \"Priya\")"
   ]
  },
  {
   "cell_type": "code",
   "execution_count": 7,
   "id": "7db913a9",
   "metadata": {},
   "outputs": [
    {
     "name": "stdout",
     "output_type": "stream",
     "text": [
      "Hello  Priya\n"
     ]
    }
   ],
   "source": [
    "print(\"Hello\" + \" \"+ \" Priya\")"
   ]
  },
  {
   "cell_type": "markdown",
   "id": "ddcce41f",
   "metadata": {},
   "source": [
    "spaces are really imp in python"
   ]
  },
  {
   "cell_type": "code",
   "execution_count": 8,
   "id": "5618f2f3",
   "metadata": {},
   "outputs": [
    {
     "name": "stdout",
     "output_type": "stream",
     "text": [
      "\"Hello\" + '\" \" '+ \"Angela\"\n"
     ]
    }
   ],
   "source": [
    "print('''\"Hello\" + '\" \" '+ \"Angela\"''')\n",
    "\n",
    "\n"
   ]
  },
  {
   "cell_type": "code",
   "execution_count": 9,
   "id": "46bd86c0",
   "metadata": {},
   "outputs": [
    {
     "name": "stdout",
     "output_type": "stream",
     "text": [
      "\"Hello\"   \"Angela\"\n"
     ]
    }
   ],
   "source": [
    "print('\"Hello\" '+ \" \" +' \"Angela\"')"
   ]
  },
  {
   "cell_type": "code",
   "execution_count": 10,
   "id": "3833b116",
   "metadata": {},
   "outputs": [
    {
     "name": "stdout",
     "output_type": "stream",
     "text": [
      "Hello Angela\n"
     ]
    }
   ],
   "source": [
    "print(\"Hello\"+ \" \" +\"Angela\")"
   ]
  },
  {
   "cell_type": "code",
   "execution_count": 14,
   "id": "4b72272f",
   "metadata": {},
   "outputs": [
    {
     "name": "stdout",
     "output_type": "stream",
     "text": [
      "Day 1 - String Manipulation\n",
      "String Concatenation is done with the \"+\" sign.\n",
      "e.g print(\"Hello\" + \"World\")\n",
      "New lines can be created with a backslash and n.\n"
     ]
    }
   ],
   "source": [
    "print('Day 1 - String Manipulation')\n",
    "print('String Concatenation is done with the \"+\" sign.')\n",
    "print('e.g print(\"Hello\" + \"World\")')\n",
    "print('New lines can be created with a backslash and n.')"
   ]
  },
  {
   "cell_type": "code",
   "execution_count": 15,
   "id": "c23f969d",
   "metadata": {},
   "outputs": [
    {
     "name": "stdout",
     "output_type": "stream",
     "text": [
      "what is your name?\n"
     ]
    }
   ],
   "source": [
    "print('what is your name?')"
   ]
  },
  {
   "cell_type": "code",
   "execution_count": 16,
   "id": "c8d0fc9f",
   "metadata": {},
   "outputs": [
    {
     "name": "stdout",
     "output_type": "stream",
     "text": [
      "what is your name?priya\n"
     ]
    },
    {
     "data": {
      "text/plain": [
       "'priya'"
      ]
     },
     "execution_count": 16,
     "metadata": {},
     "output_type": "execute_result"
    }
   ],
   "source": [
    "input(\"what is your name?\")"
   ]
  },
  {
   "cell_type": "code",
   "execution_count": 17,
   "id": "2b1fc879",
   "metadata": {},
   "outputs": [
    {
     "name": "stdout",
     "output_type": "stream",
     "text": [
      "Enter your name?priya\n",
      "Hellopriya\n"
     ]
    }
   ],
   "source": [
    "print('Hello' + input('Enter your name?'))"
   ]
  },
  {
   "cell_type": "markdown",
   "id": "cac0f868",
   "metadata": {},
   "source": [
    "ctrl + \\ will change the code as comment"
   ]
  },
  {
   "cell_type": "markdown",
   "id": "d065b753",
   "metadata": {},
   "source": [
    "Ctrl + z for undo"
   ]
  },
  {
   "cell_type": "code",
   "execution_count": 18,
   "id": "89ea6cb7",
   "metadata": {},
   "outputs": [
    {
     "name": "stdout",
     "output_type": "stream",
     "text": [
      "Enter the name :Bakkiyalakshmi\n"
     ]
    },
    {
     "data": {
      "text/plain": [
       "14"
      ]
     },
     "execution_count": 18,
     "metadata": {},
     "output_type": "execute_result"
    }
   ],
   "source": [
    "len(input('Enter the name :'))"
   ]
  },
  {
   "cell_type": "code",
   "execution_count": 1,
   "id": "4dacfce7",
   "metadata": {},
   "outputs": [
    {
     "name": "stdout",
     "output_type": "stream",
     "text": [
      "Enter the name :priya\n",
      "5\n"
     ]
    }
   ],
   "source": [
    "print(len(input('Enter the name :')))"
   ]
  },
  {
   "cell_type": "markdown",
   "id": "fe01754d",
   "metadata": {},
   "source": [
    "Python variables"
   ]
  },
  {
   "cell_type": "code",
   "execution_count": 20,
   "id": "ba584b97",
   "metadata": {},
   "outputs": [
    {
     "name": "stdout",
     "output_type": "stream",
     "text": [
      "What is your name?priya\n"
     ]
    },
    {
     "data": {
      "text/plain": [
       "'priya'"
      ]
     },
     "execution_count": 20,
     "metadata": {},
     "output_type": "execute_result"
    }
   ],
   "source": [
    "input('What is your name?')"
   ]
  },
  {
   "cell_type": "code",
   "execution_count": 21,
   "id": "173ac102",
   "metadata": {},
   "outputs": [
    {
     "name": "stdout",
     "output_type": "stream",
     "text": [
      "What is your name?priya\n"
     ]
    }
   ],
   "source": [
    "name = input('What is your name?')"
   ]
  },
  {
   "cell_type": "code",
   "execution_count": 22,
   "id": "1a18627e",
   "metadata": {},
   "outputs": [
    {
     "name": "stdout",
     "output_type": "stream",
     "text": [
      "priya\n"
     ]
    }
   ],
   "source": [
    "print(name)  # here name is var"
   ]
  },
  {
   "cell_type": "code",
   "execution_count": 23,
   "id": "2631457a",
   "metadata": {},
   "outputs": [],
   "source": [
    "priya = 9600273835"
   ]
  },
  {
   "cell_type": "code",
   "execution_count": 24,
   "id": "b7bee1cd",
   "metadata": {},
   "outputs": [
    {
     "name": "stdout",
     "output_type": "stream",
     "text": [
      "9600273835\n"
     ]
    }
   ],
   "source": [
    "print(priya)"
   ]
  },
  {
   "cell_type": "code",
   "execution_count": 25,
   "id": "cc841b46",
   "metadata": {},
   "outputs": [
    {
     "name": "stdout",
     "output_type": "stream",
     "text": [
      "Bakkiyalakshmi\n"
     ]
    }
   ],
   "source": [
    "priya = 'Bakkiyalakshmi'\n",
    "print(priya)"
   ]
  },
  {
   "cell_type": "code",
   "execution_count": 26,
   "id": "60d60edd",
   "metadata": {},
   "outputs": [
    {
     "name": "stdout",
     "output_type": "stream",
     "text": [
      "priya\n"
     ]
    }
   ],
   "source": [
    "print('priya')"
   ]
  },
  {
   "cell_type": "code",
   "execution_count": 27,
   "id": "b05bcf8d",
   "metadata": {},
   "outputs": [
    {
     "name": "stdout",
     "output_type": "stream",
     "text": [
      "what is your name :Bakkiyalakshmi\n",
      "14\n"
     ]
    }
   ],
   "source": [
    "print(len(input('what is your name :')))"
   ]
  },
  {
   "cell_type": "code",
   "execution_count": 28,
   "id": "0d6148bc",
   "metadata": {},
   "outputs": [],
   "source": [
    "length = len(name)"
   ]
  },
  {
   "cell_type": "code",
   "execution_count": 29,
   "id": "be417dfa",
   "metadata": {},
   "outputs": [
    {
     "name": "stdout",
     "output_type": "stream",
     "text": [
      "5\n"
     ]
    }
   ],
   "source": [
    "print(length)"
   ]
  },
  {
   "cell_type": "code",
   "execution_count": 30,
   "id": "1c58c92b",
   "metadata": {},
   "outputs": [
    {
     "name": "stdout",
     "output_type": "stream",
     "text": [
      "What is your name?priya\n"
     ]
    }
   ],
   "source": [
    "name = input('What is your name?')"
   ]
  },
  {
   "cell_type": "code",
   "execution_count": 31,
   "id": "48274f2a",
   "metadata": {},
   "outputs": [],
   "source": [
    "length=(len(name))"
   ]
  },
  {
   "cell_type": "code",
   "execution_count": 32,
   "id": "b536e77e",
   "metadata": {},
   "outputs": [
    {
     "name": "stdout",
     "output_type": "stream",
     "text": [
      "5\n"
     ]
    }
   ],
   "source": [
    "print(length)"
   ]
  },
  {
   "cell_type": "code",
   "execution_count": 33,
   "id": "48b13050",
   "metadata": {},
   "outputs": [
    {
     "name": "stdout",
     "output_type": "stream",
     "text": [
      "4\n",
      "3\n",
      "a:4\n",
      "b:3\n"
     ]
    }
   ],
   "source": [
    "# two input\n",
    "a = input()\n",
    "b = input()\n",
    "\n",
    "print(\"a:\" + a)\n",
    "print(\"b:\" + b)\n"
   ]
  },
  {
   "cell_type": "code",
   "execution_count": 34,
   "id": "cdad729e",
   "metadata": {},
   "outputs": [
    {
     "name": "stdout",
     "output_type": "stream",
     "text": [
      "6\n",
      "7\n",
      "a:7\n",
      "b:6\n"
     ]
    }
   ],
   "source": [
    "a = input()\n",
    "b = input()\n",
    "\n",
    "c = a\n",
    "a = b\n",
    "b = c\n",
    "\n",
    "print(\"a:\" + a)\n",
    "print(\"b:\" + b)\n"
   ]
  },
  {
   "cell_type": "code",
   "execution_count": 35,
   "id": "6275f59e",
   "metadata": {},
   "outputs": [
    {
     "name": "stdout",
     "output_type": "stream",
     "text": [
      "priya\n",
      "lakshmi\n",
      "a:lakshmi\n",
      "b:priya\n"
     ]
    }
   ],
   "source": [
    "a = input()\n",
    "b = input()\n",
    "\n",
    "c = a\n",
    "a = b\n",
    "b = c\n",
    "\n",
    "print(\"a:\" + a)\n",
    "print(\"b:\" + b)\n"
   ]
  },
  {
   "cell_type": "markdown",
   "id": "1ddab86f",
   "metadata": {},
   "source": [
    "## variable naming"
   ]
  },
  {
   "cell_type": "markdown",
   "id": "757a9fa9",
   "metadata": {},
   "source": [
    "- write name which is meaaning\n",
    "- when we have space use _\n",
    "- we cant say 1length\n",
    "- dont use the names of var  keywords\n"
   ]
  },
  {
   "cell_type": "code",
   "execution_count": 36,
   "id": "27aede45",
   "metadata": {},
   "outputs": [
    {
     "name": "stdout",
     "output_type": "stream",
     "text": [
      "there are5 hrs untill\n"
     ]
    }
   ],
   "source": [
    "time = \"5\"\n",
    "print(\"there are\" + time + \" hrs untill\")"
   ]
  },
  {
   "cell_type": "code",
   "execution_count": 37,
   "id": "b17f966e",
   "metadata": {},
   "outputs": [
    {
     "name": "stdout",
     "output_type": "stream",
     "text": [
      "there are5 hrs untill\n"
     ]
    }
   ],
   "source": [
    "num = \"5\"\n",
    "print(\"there are\" + num + \" hrs untill\")"
   ]
  },
  {
   "cell_type": "code",
   "execution_count": 38,
   "id": "a454a705",
   "metadata": {},
   "outputs": [
    {
     "name": "stdout",
     "output_type": "stream",
     "text": [
      "there are45 hrs untill\n"
     ]
    }
   ],
   "source": [
    "tme_untl_night = \"45\"\n",
    "print(\"there are\"+tme_untl_night+\" hrs untill\")"
   ]
  },
  {
   "cell_type": "code",
   "execution_count": 39,
   "id": "4328b63c",
   "metadata": {},
   "outputs": [
    {
     "name": "stdout",
     "output_type": "stream",
     "text": [
      "Welcome to the Brand Name Gnerator.\n",
      "what is the name of the city you grew up inchennai\n"
     ]
    }
   ],
   "source": [
    "print(\"Welcome to the Brand Name Gnerator.\")\n",
    "city_name = input(\"what is the name of the city you grew up in\")"
   ]
  },
  {
   "cell_type": "code",
   "execution_count": null,
   "id": "3d5ccc33",
   "metadata": {},
   "outputs": [],
   "source": [
    "pet_name = input('what is the name of the pet')"
   ]
  }
 ],
 "metadata": {
  "kernelspec": {
   "display_name": "Python 3 (ipykernel)",
   "language": "python",
   "name": "python3"
  },
  "language_info": {
   "codemirror_mode": {
    "name": "ipython",
    "version": 3
   },
   "file_extension": ".py",
   "mimetype": "text/x-python",
   "name": "python",
   "nbconvert_exporter": "python",
   "pygments_lexer": "ipython3",
   "version": "3.11.4"
  }
 },
 "nbformat": 4,
 "nbformat_minor": 5
}

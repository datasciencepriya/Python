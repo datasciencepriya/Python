{
 "cells": [
  {
   "cell_type": "code",
   "execution_count": 3,
   "id": "047ad2a6",
   "metadata": {},
   "outputs": [
    {
     "name": "stdout",
     "output_type": "stream",
     "text": [
      "Welcome to the session!\n",
      "Enter Your City name :\n",
      "Chennai\n",
      "User city name is : Chennai\n",
      "Enter your pet name:\n",
      "Rosy\n",
      "User pet name is : Rosy\n",
      "The band name is : Chennai Rosy\n"
     ]
    }
   ],
   "source": [
    "# create a greeting for program\n",
    "print('Welcome to the session!')\n",
    "\n",
    "#ask user city name\n",
    "city_name = input('Enter Your City name :\\n')\n",
    "print('User city name is :',city_name)\n",
    "\n",
    "# ask user pet name\n",
    "pet_name = input('Enter your pet name:\\n')\n",
    "print('User pet name is :',pet_name)\n",
    "\n",
    "# combine city and pet name as band name\n",
    "band_name = city_name + ' '+ pet_name\n",
    "print('The band name is :',band_name)\n",
    "\n",
    "#input cusor on new line"
   ]
  },
  {
   "cell_type": "markdown",
   "id": "bf78e04c",
   "metadata": {},
   "source": [
    "### Project by mentor"
   ]
  },
  {
   "cell_type": "code",
   "execution_count": 5,
   "id": "5e0da9d8",
   "metadata": {},
   "outputs": [
    {
     "name": "stdout",
     "output_type": "stream",
     "text": [
      "Welcome to the name generator.\n",
      "Which city did You grow up in?\n",
      "chennai\n",
      "chennai\n",
      "What is the name of a pet?\n",
      "rosy\n",
      "Your band name could be :chennai rosy\n"
     ]
    }
   ],
   "source": [
    "print(\"Welcome to the name generator.\")\n",
    "\n",
    "city = input(\"Which city did You grow up in?\\n\")\n",
    "\n",
    "print(city)\n",
    "\n",
    "pet = input(\"What is the name of a pet?\\n\")\n",
    "\n",
    "print(\"Your band name could be :\" + city + \" \" + pet)"
   ]
  },
  {
   "cell_type": "code",
   "execution_count": null,
   "id": "304e51c7",
   "metadata": {},
   "outputs": [],
   "source": []
  }
 ],
 "metadata": {
  "kernelspec": {
   "display_name": "Python 3 (ipykernel)",
   "language": "python",
   "name": "python3"
  },
  "language_info": {
   "codemirror_mode": {
    "name": "ipython",
    "version": 3
   },
   "file_extension": ".py",
   "mimetype": "text/x-python",
   "name": "python",
   "nbconvert_exporter": "python",
   "pygments_lexer": "ipython3",
   "version": "3.11.4"
  }
 },
 "nbformat": 4,
 "nbformat_minor": 5
}

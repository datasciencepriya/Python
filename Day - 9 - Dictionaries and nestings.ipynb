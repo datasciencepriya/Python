{
 "cells": [
  {
   "cell_type": "markdown",
   "id": "5d1f1b9e",
   "metadata": {},
   "source": [
    "### Dictionaries:"
   ]
  },
  {
   "cell_type": "markdown",
   "id": "82305e9d",
   "metadata": {},
   "source": [
    "{key : value } ---> content of the dict ex: key : bug value : an err in a pgm that prevents the pgm from running as expected(def for bug)"
   ]
  },
  {
   "cell_type": "code",
   "execution_count": 6,
   "id": "fbc54d19",
   "metadata": {},
   "outputs": [
    {
     "name": "stdout",
     "output_type": "stream",
     "text": [
      "A piece of code that you can easily call over and over again\n"
     ]
    }
   ],
   "source": [
    "programming_dictionary = {\n",
    " \"Bug\": \"An error in a program that prevents the program from running as expected.\",\n",
    " \"Function\": \"A piece of code that you can easily call over and over again\",\n",
    " \"Loop\" : \" The action of doing something over and over again.\",\n",
    "}\n",
    "\n",
    "\n",
    "print(programming_dictionary[\"Function\"])\n"
   ]
  },
  {
   "cell_type": "code",
   "execution_count": 8,
   "id": "4dc2058c",
   "metadata": {},
   "outputs": [
    {
     "name": "stdout",
     "output_type": "stream",
     "text": [
      "A piece of code that you can easily call over and over again\n",
      "{'Bug': 'An error in a program that prevents the program from running as expected.', 'Function': 'A piece of code that you can easily call over and over again', 'Loop': 'The action of doing something over and over again.'}\n"
     ]
    }
   ],
   "source": [
    "programming_dictionary = {\n",
    " \"Bug\": \"An error in a program that prevents the program from running as expected.\",\n",
    " \"Function\": \"A piece of code that you can easily call over and over again\",\n",
    "}\n",
    "\n",
    "\n",
    "print(programming_dictionary[\"Function\"])\n",
    "\n",
    "# adding ne entery\n",
    "\n",
    "programming_dictionary[\"Loop\"] = \"The action of doing something over and over again.\"\n",
    "\n",
    "print(programming_dictionary)"
   ]
  },
  {
   "cell_type": "code",
   "execution_count": 9,
   "id": "40c9dc4b",
   "metadata": {},
   "outputs": [
    {
     "name": "stdout",
     "output_type": "stream",
     "text": [
      "{'Bug': 'A moth in your computer.', 'Function': 'A piece of code that you can easily call over and over again', 'Loop': 'The action of doing something over and over again.'}\n"
     ]
    }
   ],
   "source": [
    "empty_dictionary = {}\n",
    "\n",
    "#wipe an existing dictionary\n",
    "#programming_dictionary = {}\n",
    "#print(programming_dictionary)\n",
    "\n",
    "#edit an item in dict\n",
    "\n",
    "\n",
    "programming_dictionary[\"Bug\"]= \"A moth in your computer.\"\n",
    "print(programming_dictionary)"
   ]
  },
  {
   "cell_type": "code",
   "execution_count": 12,
   "id": "4c6f8868",
   "metadata": {},
   "outputs": [
    {
     "name": "stdout",
     "output_type": "stream",
     "text": [
      "Bug\n",
      "Function\n",
      "Loop\n"
     ]
    }
   ],
   "source": [
    "for thing in programming_dictionary:\n",
    "    print(thing)"
   ]
  },
  {
   "cell_type": "code",
   "execution_count": 13,
   "id": "2718cc88",
   "metadata": {},
   "outputs": [
    {
     "name": "stdout",
     "output_type": "stream",
     "text": [
      "Bug\n",
      "Function\n",
      "Loop\n"
     ]
    }
   ],
   "source": [
    "for key in programming_dictionary:\n",
    "    print(key)\n",
    "    "
   ]
  },
  {
   "cell_type": "code",
   "execution_count": 14,
   "id": "192a5ec1",
   "metadata": {},
   "outputs": [
    {
     "name": "stdout",
     "output_type": "stream",
     "text": [
      "Bug\n",
      "A moth in your computer.\n",
      "Function\n",
      "A piece of code that you can easily call over and over again\n",
      "Loop\n",
      "The action of doing something over and over again.\n"
     ]
    }
   ],
   "source": [
    "for key in programming_dictionary:\n",
    "    print(key)\n",
    "    print(programming_dictionary[key])"
   ]
  },
  {
   "cell_type": "markdown",
   "id": "00971836",
   "metadata": {},
   "source": [
    "### student test scores"
   ]
  },
  {
   "cell_type": "markdown",
   "id": "3ed2a810",
   "metadata": {},
   "source": [
    "write a program that converts their scores to grades\n",
    "91-100 : outstanding\n",
    "81-90  : exceeds expectation\n",
    "71-80  : Acceptable\n",
    "70 or lower = fail"
   ]
  },
  {
   "cell_type": "code",
   "execution_count": 16,
   "id": "316686b2",
   "metadata": {},
   "outputs": [
    {
     "name": "stdout",
     "output_type": "stream",
     "text": [
      "{'Harry': 'Excess expectation', 'Ron': 'Acceptable', 'Hermione': 'Outstanding', 'Draco': 'Acceptable', 'Naville': 'Fail'}\n"
     ]
    }
   ],
   "source": [
    "student_scores = {\n",
    "    \"Harry\"    : 81,\n",
    "    \"Ron\"      : 78,\n",
    "    \"Hermione\" :99,\n",
    "    \"Draco\"    : 74,\n",
    "    \"Naville\"  : 62\n",
    "}\n",
    "\n",
    "student_grades = {}\n",
    "\n",
    "for student in student_scores:\n",
    "    score = student_scores[student]\n",
    "    if score > 90:\n",
    "        student_grades[student] = \"Outstanding\"\n",
    "    elif score > 80:\n",
    "        student_grades[student] = \"Excess expectation\"\n",
    "    elif score > 70:\n",
    "        student_grades[student] = \"Acceptable\"\n",
    "    else:\n",
    "        student_grades[student] = \"Fail\"\n",
    "\n",
    "print(student_grades)"
   ]
  },
  {
   "cell_type": "markdown",
   "id": "4c85f029",
   "metadata": {},
   "source": [
    "### Nesting lists and nesting dictionaries"
   ]
  },
  {
   "cell_type": "markdown",
   "id": "20dde229",
   "metadata": {},
   "source": [
    "{key : [list]\n",
    "key2 : {dict}\n",
    "}"
   ]
  },
  {
   "cell_type": "code",
   "execution_count": null,
   "id": "a97941d3",
   "metadata": {},
   "outputs": [],
   "source": [
    "capitals = {\"France\": \"Paris\",\n",
    "           \"Germany\" : \"Berlin\",}\n",
    "\n"
   ]
  },
  {
   "cell_type": "code",
   "execution_count": null,
   "id": "004e29e0",
   "metadata": {},
   "outputs": [],
   "source": [
    "#nesting list\n",
    "tavel_log = {\n",
    "    \"France\": \"Paris\", \"Lille\", \"Dijon\"\n",
    "}\n",
    " #value can have only one value"
   ]
  },
  {
   "cell_type": "code",
   "execution_count": 17,
   "id": "aef6bf8e",
   "metadata": {},
   "outputs": [],
   "source": [
    "tavel_log = {\n",
    "    \"France\": [\"Paris\", \"Lille\", \"Dijon\"]\n",
    "    \"Germany\": [\"Berlin\", \"Hamburg\", \"Stuttgart\"],\n",
    "}\n",
    "\n"
   ]
  },
  {
   "cell_type": "code",
   "execution_count": null,
   "id": "cbed0b72",
   "metadata": {},
   "outputs": [],
   "source": [
    "# nesting dict in a dict"
   ]
  },
  {
   "cell_type": "code",
   "execution_count": null,
   "id": "5952c57a",
   "metadata": {},
   "outputs": [],
   "source": [
    "tavel_log = {\n",
    "    \"France\":{ \"cities_visited\"[\"Paris\", \"Lille\", \"Dijon\"],\"Total_visits\": 12}\n",
    "    \"Germany\":{ \"cities_visited\" [\"Berlin\", \"Hamburg\", \"Stuttgart\"],\"Total_visits\": 5}\n",
    "}\n"
   ]
  },
  {
   "cell_type": "code",
   "execution_count": null,
   "id": "fdfaac23",
   "metadata": {},
   "outputs": [],
   "source": [
    "# nesting a dictionary in a list\n",
    "tavel_log = [\n",
    "    { \"country\" :\"France\",\n",
    "     \"cities_visited\"[\"Paris\", \"Lille\", \"Dijon\"],\n",
    "     \"Total_visits\": 12\n",
    "    }\n",
    "    {\"country\":\"Germany\", \n",
    "     \"cities_visited\" [\"Berlin\", \"Hamburg\", \"Stuttgart\"],\n",
    "     \"Total_visits\": 5\n",
    "    },\n",
    "]"
   ]
  },
  {
   "cell_type": "markdown",
   "id": "80040724",
   "metadata": {},
   "source": [
    "### travel log program using list of dictionaries"
   ]
  },
  {
   "cell_type": "code",
   "execution_count": 20,
   "id": "501852da",
   "metadata": {},
   "outputs": [
    {
     "ename": "SyntaxError",
     "evalue": "f-string: expecting '}' (968021227.py, line 27)",
     "output_type": "error",
     "traceback": [
      "\u001b[1;36m  Cell \u001b[1;32mIn[20], line 27\u001b[1;36m\u001b[0m\n\u001b[1;33m    print(f\"my favorite city was  {travel_log[2]['cities'][0].\")\u001b[0m\n\u001b[1;37m                                                               ^\u001b[0m\n\u001b[1;31mSyntaxError\u001b[0m\u001b[1;31m:\u001b[0m f-string: expecting '}'\n"
     ]
    }
   ],
   "source": [
    "country = input()\n",
    "visits = int(input())\n",
    "list_of_cities = eval(input())\n",
    "travel_log= [\n",
    "    {\n",
    "        \"country\" : \"France\",\n",
    "        \"visits\"  : 12,\n",
    "        \"cities\"  : ['Paris', \"Lille\", \"Dijon\"]\n",
    "    },\n",
    "    {\n",
    "        \"country\" : \"Germany\",\n",
    "        \"visits\"  : 5,\n",
    "        \"cities\"  :[\"Berlin\",\"Hamburg\",\"stuttgart\"]\n",
    "    }\n",
    "]\n",
    "\n",
    "\n",
    "def add_new_country(name, time_visyited, cities_visited):\n",
    "    new_country = {}\n",
    "    new_country[\"country\"] = name\n",
    "    new_country[\"visits\"] =  time_visited\n",
    "    new_country[\"cities\"] =  cities_visited\n",
    "    travel_log.append(new_country)\n",
    "\n",
    "add_new_country(country, visits, list_of_visits)\n",
    "print(f\"I've been to {travel_log[2]['country']} {travel_log[2]['visits']} times.\")\n",
    "print(f\"my favorite city was  {travel_log[2]['cities'][0].\")"
   ]
  },
  {
   "cell_type": "code",
   "execution_count": 22,
   "id": "960eb351",
   "metadata": {},
   "outputs": [
    {
     "name": "stdout",
     "output_type": "stream",
     "text": [
      "italy\n",
      "7\n",
      "rome venice florence\n"
     ]
    },
    {
     "ename": "SyntaxError",
     "evalue": "invalid syntax (<string>, line 1)",
     "output_type": "error",
     "traceback": [
      "Traceback \u001b[1;36m(most recent call last)\u001b[0m:\n",
      "\u001b[0m  File \u001b[0;32m~\\anaconda3\\Lib\\site-packages\\IPython\\core\\interactiveshell.py:3505\u001b[0m in \u001b[0;35mrun_code\u001b[0m\n    exec(code_obj, self.user_global_ns, self.user_ns)\u001b[0m\n",
      "\u001b[1;36m  Cell \u001b[1;32mIn[22], line 3\u001b[1;36m\n\u001b[1;33m    list_of_cities = eval(input())\u001b[1;36m\n",
      "\u001b[1;36m  File \u001b[1;32m<string>:1\u001b[1;36m\u001b[0m\n\u001b[1;33m    rome venice florence\u001b[0m\n\u001b[1;37m         ^\u001b[0m\n\u001b[1;31mSyntaxError\u001b[0m\u001b[1;31m:\u001b[0m invalid syntax\n"
     ]
    }
   ],
   "source": [
    "country = input()\n",
    "visits = int(input())\n",
    "list_of_cities = eval(input())\n",
    "travel_log = [\n",
    "    {\n",
    "        \"country\": \"France\",\n",
    "        \"visits\": 12,\n",
    "        \"cities\": ['Paris', \"Lille\", \"Dijon\"]\n",
    "    },\n",
    "    {\n",
    "        \"country\": \"Germany\",\n",
    "        \"visits\": 5,\n",
    "        \"cities\": [\"Berlin\", \"Hamburg\", \"Stuttgart\"]\n",
    "    }\n",
    "]\n",
    "\n",
    "def add_new_country(name, time_visited, cities_visited):\n",
    "    new_country = {}\n",
    "    new_country[\"country\"] = name\n",
    "    new_country[\"visits\"] = time_visited\n",
    "    new_country[\"cities\"] = cities_visited\n",
    "    travel_log.append(new_country)\n",
    "\n",
    "add_new_country(country, visits, list_of_cities)\n",
    "print(f\"I've been to {travel_log[2]['country']} {travel_log[2]['visits']} times.\")\n",
    "print(f\"My favorite city was {travel_log[2]['cities'][0]}.\")\n"
   ]
  },
  {
   "cell_type": "code",
   "execution_count": null,
   "id": "87a71fa7",
   "metadata": {},
   "outputs": [],
   "source": []
  }
 ],
 "metadata": {
  "kernelspec": {
   "display_name": "Python 3 (ipykernel)",
   "language": "python",
   "name": "python3"
  },
  "language_info": {
   "codemirror_mode": {
    "name": "ipython",
    "version": 3
   },
   "file_extension": ".py",
   "mimetype": "text/x-python",
   "name": "python",
   "nbconvert_exporter": "python",
   "pygments_lexer": "ipython3",
   "version": "3.11.4"
  }
 },
 "nbformat": 4,
 "nbformat_minor": 5
}

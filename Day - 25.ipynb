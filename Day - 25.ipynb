{
 "cells": [
  {
   "cell_type": "code",
   "execution_count": 2,
   "id": "114a3332",
   "metadata": {},
   "outputs": [
    {
     "name": "stdout",
     "output_type": "stream",
     "text": [
      "['day,temp,condition\\n', 'Monday,12,Sunny\\n', 'Tuesday,15,Rain\\n', 'Wednesday,14,Rain\\n', 'Thursday,21,Cloudy\\n', 'Friday,23,Sunny\\n', 'Saturday,24,Sunny\\n', 'Sunday,16,Sunny\\n']\n"
     ]
    }
   ],
   "source": [
    "with open(\"weather_data.csv\") as data_file:\n",
    "    data = data_file.readlines()\n",
    "    print(data)"
   ]
  },
  {
   "cell_type": "code",
   "execution_count": 3,
   "id": "8fdea373",
   "metadata": {},
   "outputs": [
    {
     "name": "stdout",
     "output_type": "stream",
     "text": [
      "<_csv.reader object at 0x00000216BA48B760>\n"
     ]
    }
   ],
   "source": [
    "import csv\n",
    "\n",
    "with open(\"weather_data.csv\") as data_file:\n",
    "    data = csv.reader(data_file)\n",
    "    print(data)"
   ]
  },
  {
   "cell_type": "code",
   "execution_count": 4,
   "id": "f096a411",
   "metadata": {},
   "outputs": [
    {
     "name": "stdout",
     "output_type": "stream",
     "text": [
      "['day', 'temp', 'condition']\n",
      "['Monday', '12', 'Sunny']\n",
      "['Tuesday', '15', 'Rain']\n",
      "['Wednesday', '14', 'Rain']\n",
      "['Thursday', '21', 'Cloudy']\n",
      "['Friday', '23', 'Sunny']\n",
      "['Saturday', '24', 'Sunny']\n",
      "['Sunday', '16', 'Sunny']\n"
     ]
    }
   ],
   "source": [
    "import csv\n",
    "\n",
    "with open(\"weather_data.csv\") as data_file:\n",
    "    data = csv.reader(data_file)\n",
    "    for row in data:\n",
    "        print(row)"
   ]
  },
  {
   "cell_type": "code",
   "execution_count": 6,
   "id": "dffc52f7",
   "metadata": {},
   "outputs": [
    {
     "name": "stdout",
     "output_type": "stream",
     "text": [
      "temp\n",
      "12\n",
      "15\n",
      "14\n",
      "21\n",
      "23\n",
      "24\n",
      "16\n"
     ]
    }
   ],
   "source": [
    "with open(\"weather_data.csv\") as data_file:\n",
    "    data = csv.reader(data_file)\n",
    "    temperatures = []\n",
    "    for row in data:\n",
    "        temparatures = row[1]\n",
    "        print(temparatures)\n",
    "    "
   ]
  },
  {
   "cell_type": "code",
   "execution_count": 7,
   "id": "d1bae425",
   "metadata": {},
   "outputs": [
    {
     "name": "stdout",
     "output_type": "stream",
     "text": [
      "temp\n",
      "12\n",
      "15\n",
      "14\n",
      "21\n",
      "23\n",
      "24\n",
      "16\n"
     ]
    }
   ],
   "source": [
    "with open(\"weather_data.csv\") as data_file:\n",
    "    data = csv.reader(data_file)\n",
    "    temperatures = []\n",
    "    for row in data:\n",
    "        \n",
    "        print(row[1])"
   ]
  },
  {
   "cell_type": "code",
   "execution_count": 8,
   "id": "9f0b5e5f",
   "metadata": {},
   "outputs": [
    {
     "name": "stdout",
     "output_type": "stream",
     "text": [
      "temp\n",
      "12\n",
      "15\n",
      "14\n",
      "21\n",
      "23\n",
      "24\n",
      "16\n"
     ]
    }
   ],
   "source": [
    "with open(\"weather_data.csv\") as data_file:\n",
    "    data = csv.reader(data_file)\n",
    "   \n",
    "    for row in data:\n",
    "        \n",
    "        print(row[1])"
   ]
  },
  {
   "cell_type": "code",
   "execution_count": 9,
   "id": "14ba4197",
   "metadata": {},
   "outputs": [
    {
     "name": "stdout",
     "output_type": "stream",
     "text": [
      "['temp']\n",
      "['temp']\n",
      "['temp']\n",
      "['temp']\n",
      "['temp']\n",
      "['temp']\n",
      "['temp']\n",
      "['temp']\n"
     ]
    }
   ],
   "source": [
    "with open(\"weather_data.csv\") as data_file:\n",
    "    data = csv.reader(data_file)\n",
    "    temperatures = []\n",
    "    for row in data:\n",
    "        if row[1] == \"temp\":\n",
    "            temperatures.append(row[1])\n",
    "        print(temperatures)"
   ]
  },
  {
   "cell_type": "code",
   "execution_count": 15,
   "id": "39ef9496",
   "metadata": {},
   "outputs": [
    {
     "ename": "ValueError",
     "evalue": "invalid literal for int() with base 10: 'temp'",
     "output_type": "error",
     "traceback": [
      "\u001b[1;31m---------------------------------------------------------------------------\u001b[0m",
      "\u001b[1;31mValueError\u001b[0m                                Traceback (most recent call last)",
      "Cell \u001b[1;32mIn[15], line 6\u001b[0m\n\u001b[0;32m      4\u001b[0m \u001b[38;5;28;01mfor\u001b[39;00m row \u001b[38;5;129;01min\u001b[39;00m data:\n\u001b[0;32m      5\u001b[0m     \u001b[38;5;28;01mif\u001b[39;00m row[\u001b[38;5;241m1\u001b[39m] \u001b[38;5;241m==\u001b[39m \u001b[38;5;124m\"\u001b[39m\u001b[38;5;124mtemp\u001b[39m\u001b[38;5;124m\"\u001b[39m:\n\u001b[1;32m----> 6\u001b[0m         temperatures\u001b[38;5;241m.\u001b[39mappend(\u001b[38;5;28mint\u001b[39m(row[\u001b[38;5;241m1\u001b[39m]))\n\u001b[0;32m      7\u001b[0m \u001b[38;5;28mprint\u001b[39m(temperatures)\n",
      "\u001b[1;31mValueError\u001b[0m: invalid literal for int() with base 10: 'temp'"
     ]
    }
   ],
   "source": [
    "with open(\"weather_data.csv\") as data_file:\n",
    "    data = csv.reader(data_file)\n",
    "    temperatures = []\n",
    "    for row in data:\n",
    "        if row[1] == \"temp\":\n",
    "            temperatures.append(int(row[1]))\n",
    "    print(temperatures)"
   ]
  },
  {
   "cell_type": "code",
   "execution_count": 16,
   "id": "6ed8e2ee",
   "metadata": {},
   "outputs": [
    {
     "name": "stdout",
     "output_type": "stream",
     "text": [
      "[12, 15, 14, 21, 23, 24, 16]\n"
     ]
    }
   ],
   "source": [
    "with open(\"weather_data.csv\") as data_file:\n",
    "    data = csv.reader(data_file)\n",
    "    temperatures = []\n",
    "    for row in data:\n",
    "        if row[1] != \"temp\":\n",
    "            temperatures.append(int(row[1]))\n",
    "    print(temperatures)"
   ]
  },
  {
   "cell_type": "code",
   "execution_count": 19,
   "id": "bdc8e202",
   "metadata": {},
   "outputs": [
    {
     "name": "stdout",
     "output_type": "stream",
     "text": [
      "[12, 15, 14, 21, 23, 24, 16]\n"
     ]
    }
   ],
   "source": [
    "import csv\n",
    "\n",
    "with open(\"weather_data.csv\") as data_file:\n",
    "    data = csv.reader(data_file)\n",
    "    temperatures = []\n",
    "    for row in data:\n",
    "        if row[1] != \"temp\":\n",
    "            temperatures.append(int(row[1]))\n",
    "\n",
    "    print(temperatures)\n"
   ]
  },
  {
   "cell_type": "markdown",
   "id": "d059ef3c",
   "metadata": {},
   "source": [
    "### pandas is powerful tool to perform with the complex files"
   ]
  },
  {
   "cell_type": "markdown",
   "id": "a49d41df",
   "metadata": {},
   "source": [
    "pandas.pydata.org/docs"
   ]
  },
  {
   "cell_type": "code",
   "execution_count": 3,
   "id": "9507a885",
   "metadata": {},
   "outputs": [],
   "source": [
    "import pandas as pd"
   ]
  },
  {
   "cell_type": "code",
   "execution_count": 5,
   "id": "ae37d395",
   "metadata": {},
   "outputs": [],
   "source": [
    "data = pd.read_csv(\"weather_data.csv\")"
   ]
  },
  {
   "cell_type": "markdown",
   "id": "6f30da9d",
   "metadata": {},
   "source": [
    "### if we want to print single col"
   ]
  },
  {
   "cell_type": "code",
   "execution_count": 6,
   "id": "1bbca456",
   "metadata": {},
   "outputs": [
    {
     "name": "stdout",
     "output_type": "stream",
     "text": [
      "0    12\n",
      "1    15\n",
      "2    14\n",
      "3    21\n",
      "4    23\n",
      "5    24\n",
      "6    16\n",
      "Name: temp, dtype: int64\n"
     ]
    }
   ],
   "source": [
    "print(data[\"temp\"])"
   ]
  },
  {
   "cell_type": "markdown",
   "id": "2f303286",
   "metadata": {},
   "source": [
    "### dataframes & series : working with rows and cols"
   ]
  },
  {
   "cell_type": "code",
   "execution_count": 7,
   "id": "051438af",
   "metadata": {},
   "outputs": [
    {
     "data": {
      "text/plain": [
       "pandas.core.frame.DataFrame"
      ]
     },
     "execution_count": 7,
     "metadata": {},
     "output_type": "execute_result"
    }
   ],
   "source": [
    "type(data)"
   ]
  },
  {
   "cell_type": "code",
   "execution_count": 8,
   "id": "a88ec87d",
   "metadata": {},
   "outputs": [
    {
     "data": {
      "text/plain": [
       "pandas.core.series.Series"
      ]
     },
     "execution_count": 8,
     "metadata": {},
     "output_type": "execute_result"
    }
   ],
   "source": [
    "type(data[\"temp\"])"
   ]
  },
  {
   "cell_type": "markdown",
   "id": "1073e03d",
   "metadata": {},
   "source": [
    "series and df imp in pyhon docmentatn"
   ]
  },
  {
   "cell_type": "code",
   "execution_count": 9,
   "id": "471d7177",
   "metadata": {},
   "outputs": [
    {
     "name": "stdout",
     "output_type": "stream",
     "text": [
      "{'day': {0: 'Monday', 1: 'Tuesday', 2: 'Wednesday', 3: 'Thursday', 4: 'Friday', 5: 'Saturday', 6: 'Sunday'}, 'temp': {0: 12, 1: 15, 2: 14, 3: 21, 4: 23, 5: 24, 6: 16}, 'condition': {0: 'Sunny', 1: 'Rain', 2: 'Rain', 3: 'Cloudy', 4: 'Sunny', 5: 'Sunny', 6: 'Sunny'}}\n"
     ]
    }
   ],
   "source": [
    "data_dict = data.to_dict()\n",
    "print(data_dict)"
   ]
  },
  {
   "cell_type": "code",
   "execution_count": 10,
   "id": "71e059ca",
   "metadata": {},
   "outputs": [
    {
     "name": "stdout",
     "output_type": "stream",
     "text": [
      "[12, 15, 14, 21, 23, 24, 16]\n"
     ]
    }
   ],
   "source": [
    "temp_list = data[\"temp\"].to_list()\n",
    "print(temp_list)"
   ]
  },
  {
   "cell_type": "code",
   "execution_count": 11,
   "id": "1ad19e42",
   "metadata": {},
   "outputs": [
    {
     "name": "stdout",
     "output_type": "stream",
     "text": [
      "7\n"
     ]
    }
   ],
   "source": [
    "print(len(temp_list))"
   ]
  },
  {
   "cell_type": "code",
   "execution_count": 15,
   "id": "e9ffa8ca",
   "metadata": {},
   "outputs": [
    {
     "data": {
      "text/plain": [
       "17.86"
      ]
     },
     "execution_count": 15,
     "metadata": {},
     "output_type": "execute_result"
    }
   ],
   "source": [
    "avg_temp = sum(temp_list) / len(temp_list)\n",
    "\n",
    "round(avg_temp,2)"
   ]
  },
  {
   "cell_type": "code",
   "execution_count": 18,
   "id": "ca1e63ba",
   "metadata": {},
   "outputs": [
    {
     "ename": "NameError",
     "evalue": "name 'mean' is not defined",
     "output_type": "error",
     "traceback": [
      "\u001b[1;31m---------------------------------------------------------------------------\u001b[0m",
      "\u001b[1;31mNameError\u001b[0m                                 Traceback (most recent call last)",
      "Cell \u001b[1;32mIn[18], line 1\u001b[0m\n\u001b[1;32m----> 1\u001b[0m \u001b[38;5;28mprint\u001b[39m(data[\u001b[38;5;124m'\u001b[39m\u001b[38;5;124mtemp\u001b[39m\u001b[38;5;124m'\u001b[39m]\u001b[38;5;241m.\u001b[39mround(mean(),\u001b[38;5;241m2\u001b[39m))\n",
      "\u001b[1;31mNameError\u001b[0m: name 'mean' is not defined"
     ]
    }
   ],
   "source": [
    "print(data['temp'].round(mean(),2))"
   ]
  },
  {
   "cell_type": "code",
   "execution_count": 19,
   "id": "2da56295",
   "metadata": {},
   "outputs": [
    {
     "name": "stdout",
     "output_type": "stream",
     "text": [
      "17.86\n"
     ]
    }
   ],
   "source": [
    "\n",
    "rounded_mean_temp = data['temp'].mean().round(2)\n",
    "\n",
    "print(rounded_mean_temp)\n"
   ]
  },
  {
   "cell_type": "markdown",
   "id": "9b4edddb",
   "metadata": {},
   "source": [
    "Certainly! If you want to round the mean of the 'temp' column in a pandas DataFrame using various methods, you can consider the following options:\n",
    "\n",
    "```python\n",
    "import pandas as pd\n",
    "\n",
    "# Assuming 'data' is your DataFrame\n",
    "mean_temp = data['temp'].mean()\n",
    "\n",
    "# Method 1: Use round function\n",
    "rounded_mean_temp_method1 = round(mean_temp, 2)\n",
    "print(\"Method 1:\", rounded_mean_temp_method1)\n",
    "\n",
    "# Method 2: Use numpy round function\n",
    "import numpy as np\n",
    "rounded_mean_temp_method2 = np.round(mean_temp, 2)\n",
    "print(\"Method 2:\", rounded_mean_temp_method2)\n",
    "\n",
    "# Method 3: Use pandas round method\n",
    "rounded_mean_temp_method3 = mean_temp.round(2)\n",
    "print(\"Method 3:\", rounded_mean_temp_method3)\n",
    "\n",
    "# Method 4: Format the mean using f-string\n",
    "formatted_mean_temp = f\"{mean_temp:.2f}\"\n",
    "print(\"Method 4:\", formatted_mean_temp)\n",
    "```\n",
    "\n",
    "In this example, four different methods are used to round the mean of the 'temp' column to two decimal places. Choose the one that suits your preference or coding style."
   ]
  },
  {
   "cell_type": "code",
   "execution_count": 20,
   "id": "396da5c0",
   "metadata": {},
   "outputs": [
    {
     "ename": "NameError",
     "evalue": "name 'mean_temp' is not defined",
     "output_type": "error",
     "traceback": [
      "\u001b[1;31m---------------------------------------------------------------------------\u001b[0m",
      "\u001b[1;31mNameError\u001b[0m                                 Traceback (most recent call last)",
      "Cell \u001b[1;32mIn[20], line 1\u001b[0m\n\u001b[1;32m----> 1\u001b[0m rounded_mean_temp_method1 \u001b[38;5;241m=\u001b[39m \u001b[38;5;28mround\u001b[39m(mean_temp, \u001b[38;5;241m2\u001b[39m)\n\u001b[0;32m      2\u001b[0m \u001b[38;5;28mprint\u001b[39m(\u001b[38;5;124m\"\u001b[39m\u001b[38;5;124mMethod 1:\u001b[39m\u001b[38;5;124m\"\u001b[39m, rounded_mean_temp_method1)\n",
      "\u001b[1;31mNameError\u001b[0m: name 'mean_temp' is not defined"
     ]
    }
   ],
   "source": [
    "rounded_mean_temp_method1 = round(mean_temp, 2)\n",
    "print(\"Method 1:\", rounded_mean_temp_method1)"
   ]
  },
  {
   "cell_type": "code",
   "execution_count": 21,
   "id": "95183d19",
   "metadata": {},
   "outputs": [
    {
     "ename": "NameError",
     "evalue": "name 'np' is not defined",
     "output_type": "error",
     "traceback": [
      "\u001b[1;31m---------------------------------------------------------------------------\u001b[0m",
      "\u001b[1;31mNameError\u001b[0m                                 Traceback (most recent call last)",
      "Cell \u001b[1;32mIn[21], line 1\u001b[0m\n\u001b[1;32m----> 1\u001b[0m rounded_mean_temp_method2 \u001b[38;5;241m=\u001b[39m np\u001b[38;5;241m.\u001b[39mround(mean_temp, \u001b[38;5;241m2\u001b[39m)\n\u001b[0;32m      2\u001b[0m \u001b[38;5;28mprint\u001b[39m(\u001b[38;5;124m\"\u001b[39m\u001b[38;5;124mMethod 2:\u001b[39m\u001b[38;5;124m\"\u001b[39m, rounded_mean_temp_method2)\n",
      "\u001b[1;31mNameError\u001b[0m: name 'np' is not defined"
     ]
    }
   ],
   "source": [
    "rounded_mean_temp_method2 = np.round(mean_temp, 2)\n",
    "print(\"Method 2:\", rounded_mean_temp_method2)"
   ]
  },
  {
   "cell_type": "code",
   "execution_count": 22,
   "id": "a6d1d792",
   "metadata": {},
   "outputs": [
    {
     "ename": "NameError",
     "evalue": "name 'mean_temp' is not defined",
     "output_type": "error",
     "traceback": [
      "\u001b[1;31m---------------------------------------------------------------------------\u001b[0m",
      "\u001b[1;31mNameError\u001b[0m                                 Traceback (most recent call last)",
      "Cell \u001b[1;32mIn[22], line 1\u001b[0m\n\u001b[1;32m----> 1\u001b[0m formatted_mean_temp \u001b[38;5;241m=\u001b[39m \u001b[38;5;124mf\u001b[39m\u001b[38;5;124m\"\u001b[39m\u001b[38;5;132;01m{\u001b[39;00mmean_temp\u001b[38;5;132;01m:\u001b[39;00m\u001b[38;5;124m.2f\u001b[39m\u001b[38;5;132;01m}\u001b[39;00m\u001b[38;5;124m\"\u001b[39m\n\u001b[0;32m      2\u001b[0m \u001b[38;5;28mprint\u001b[39m(\u001b[38;5;124m\"\u001b[39m\u001b[38;5;124mMethod 4:\u001b[39m\u001b[38;5;124m\"\u001b[39m, formatted_mean_temp)\n",
      "\u001b[1;31mNameError\u001b[0m: name 'mean_temp' is not defined"
     ]
    }
   ],
   "source": [
    "formatted_mean_temp = f\"{mean_temp:.2f}\"\n",
    "print(\"Method 4:\", formatted_mean_temp)"
   ]
  },
  {
   "cell_type": "code",
   "execution_count": null,
   "id": "00ffea49",
   "metadata": {},
   "outputs": [],
   "source": []
  },
  {
   "cell_type": "code",
   "execution_count": null,
   "id": "69490464",
   "metadata": {},
   "outputs": [],
   "source": []
  }
 ],
 "metadata": {
  "kernelspec": {
   "display_name": "Python 3 (ipykernel)",
   "language": "python",
   "name": "python3"
  },
  "language_info": {
   "codemirror_mode": {
    "name": "ipython",
    "version": 3
   },
   "file_extension": ".py",
   "mimetype": "text/x-python",
   "name": "python",
   "nbconvert_exporter": "python",
   "pygments_lexer": "ipython3",
   "version": "3.11.4"
  }
 },
 "nbformat": 4,
 "nbformat_minor": 5
}

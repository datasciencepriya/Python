{
 "cells": [
  {
   "cell_type": "code",
   "execution_count": null,
   "id": "569fab4e",
   "metadata": {},
   "outputs": [],
   "source": [
    "enemies = 1\n",
    "\n",
    "def increase_enemies():\n",
    "    enemies = 2\n",
    "    print(f\"enemies inside function: {enemies}\")\n",
    "    \n",
    "increase_enemies()\n",
    "print(f\"enemies outside function:{enemies}\")\n",
    "\n",
    "#Local scope\n",
    "\n",
    "def drink_potion():\n",
    "    potion_strength =2\n",
    "    print(potion_strength)\n",
    "    \n",
    "    \n",
    "drink_potion()\n",
    "print(potion_strength) # here we cannot use the val of potion strength bcz its only valid inside drink potion()\n",
    "\n",
    "\n"
   ]
  },
  {
   "cell_type": "code",
   "execution_count": 2,
   "id": "bb3fb6a6",
   "metadata": {},
   "outputs": [
    {
     "name": "stdout",
     "output_type": "stream",
     "text": [
      "10\n",
      "10\n"
     ]
    }
   ],
   "source": [
    "#global scope\n",
    "\n",
    "player_health =10 # global var\n",
    "\n",
    "def game()\n",
    "\n",
    "    def drink_potion():\n",
    "        potion_strength = 2 # local var\n",
    "        print(player_health)\n",
    "    \n",
    "    \n",
    "drink_potion()\n",
    "print(player_health)"
   ]
  },
  {
   "cell_type": "markdown",
   "id": "d8d8b8d2",
   "metadata": {},
   "source": [
    "Does python have block scope?"
   ]
  },
  {
   "cell_type": "code",
   "execution_count": null,
   "id": "73bd5b4e",
   "metadata": {},
   "outputs": [],
   "source": [
    "# ther is no block scope"
   ]
  },
  {
   "cell_type": "code",
   "execution_count": null,
   "id": "64df50e6",
   "metadata": {},
   "outputs": [],
   "source": [
    "if 3 > 2:\n",
    "    a_var  = 10"
   ]
  },
  {
   "cell_type": "code",
   "execution_count": null,
   "id": "1e46073b",
   "metadata": {},
   "outputs": [],
   "source": [
    "game_level = 3\n",
    "def create_enemy():\n",
    "    enemies = [\"skeleton\",\"zombie\", \"Alien\"]\n",
    "    if game_level < 5:\n",
    "        new_enemy = enemies[0] # if we are creating var inside if  and while , for  and any indendation thats not counting as creatng local scope\n",
    "        \n",
    "print(new_enemy)"
   ]
  },
  {
   "cell_type": "markdown",
   "id": "a3216597",
   "metadata": {},
   "source": [
    "### Modyfing global var"
   ]
  },
  {
   "cell_type": "code",
   "execution_count": 4,
   "id": "9225421f",
   "metadata": {},
   "outputs": [
    {
     "name": "stdout",
     "output_type": "stream",
     "text": [
      "enemies inside function: 2\n",
      "enemies outside function: 1\n"
     ]
    }
   ],
   "source": [
    "enemies = 1 # global var\n",
    "\n",
    "def increase_enemies():\n",
    "    enemies = 2 # loc var\n",
    "    print(f\"enemies inside function: {enemies}\")\n",
    "    \n",
    "increase_enemies()\n",
    "print(f\"enemies outside function: {enemies}\")"
   ]
  },
  {
   "cell_type": "code",
   "execution_count": 3,
   "id": "777c5bf3",
   "metadata": {},
   "outputs": [
    {
     "name": "stdout",
     "output_type": "stream",
     "text": [
      "enemies inside function: Zombie\n",
      "enemies outside function: Skleton\n"
     ]
    }
   ],
   "source": [
    "enemies = \"Skleton\" # global var\n",
    "\n",
    "def increase_enemies():\n",
    "    enemies = \"Zombie\" # loc var\n",
    "    print(f\"enemies inside function: {enemies}\")\n",
    "    \n",
    "increase_enemies()\n",
    "print(f\"enemies outside function: {enemies}\")"
   ]
  },
  {
   "cell_type": "code",
   "execution_count": 5,
   "id": "95e6d7a6",
   "metadata": {},
   "outputs": [
    {
     "ename": "UnboundLocalError",
     "evalue": "cannot access local variable 'enemies' where it is not associated with a value",
     "output_type": "error",
     "traceback": [
      "\u001b[1;31m---------------------------------------------------------------------------\u001b[0m",
      "\u001b[1;31mUnboundLocalError\u001b[0m                         Traceback (most recent call last)",
      "Cell \u001b[1;32mIn[5], line 7\u001b[0m\n\u001b[0;32m      4\u001b[0m     enemies \u001b[38;5;241m+\u001b[39m\u001b[38;5;241m=\u001b[39m \u001b[38;5;241m1\u001b[39m \u001b[38;5;66;03m# loc var\u001b[39;00m\n\u001b[0;32m      5\u001b[0m     \u001b[38;5;28mprint\u001b[39m(\u001b[38;5;124mf\u001b[39m\u001b[38;5;124m\"\u001b[39m\u001b[38;5;124menemies inside function: \u001b[39m\u001b[38;5;132;01m{\u001b[39;00menemies\u001b[38;5;132;01m}\u001b[39;00m\u001b[38;5;124m\"\u001b[39m)\n\u001b[1;32m----> 7\u001b[0m increase_enemies()\n\u001b[0;32m      8\u001b[0m \u001b[38;5;28mprint\u001b[39m(\u001b[38;5;124mf\u001b[39m\u001b[38;5;124m\"\u001b[39m\u001b[38;5;124menemies outside function: \u001b[39m\u001b[38;5;132;01m{\u001b[39;00menemies\u001b[38;5;132;01m}\u001b[39;00m\u001b[38;5;124m\"\u001b[39m)\n",
      "Cell \u001b[1;32mIn[5], line 4\u001b[0m, in \u001b[0;36mincrease_enemies\u001b[1;34m()\u001b[0m\n\u001b[0;32m      3\u001b[0m \u001b[38;5;28;01mdef\u001b[39;00m \u001b[38;5;21mincrease_enemies\u001b[39m():\n\u001b[1;32m----> 4\u001b[0m     enemies \u001b[38;5;241m+\u001b[39m\u001b[38;5;241m=\u001b[39m \u001b[38;5;241m1\u001b[39m \u001b[38;5;66;03m# loc var\u001b[39;00m\n\u001b[0;32m      5\u001b[0m     \u001b[38;5;28mprint\u001b[39m(\u001b[38;5;124mf\u001b[39m\u001b[38;5;124m\"\u001b[39m\u001b[38;5;124menemies inside function: \u001b[39m\u001b[38;5;132;01m{\u001b[39;00menemies\u001b[38;5;132;01m}\u001b[39;00m\u001b[38;5;124m\"\u001b[39m)\n",
      "\u001b[1;31mUnboundLocalError\u001b[0m: cannot access local variable 'enemies' where it is not associated with a value"
     ]
    }
   ],
   "source": [
    "enemies = 1 # global var\n",
    "\n",
    "def increase_enemies():\n",
    "    enemies += 1 # loc var\n",
    "    print(f\"enemies inside function: {enemies}\")\n",
    "    \n",
    "increase_enemies()\n",
    "print(f\"enemies outside function: {enemies}\")"
   ]
  },
  {
   "cell_type": "code",
   "execution_count": 6,
   "id": "c15ce7bb",
   "metadata": {},
   "outputs": [
    {
     "name": "stdout",
     "output_type": "stream",
     "text": [
      "enemies inside function: 1\n",
      "enemies outside function: 1\n"
     ]
    }
   ],
   "source": [
    "enemies = 1 # global var\n",
    "\n",
    "def increase_enemies():\n",
    "    enemies = 0\n",
    "    enemies += 1 # loc var\n",
    "    print(f\"enemies inside function: {enemies}\")\n",
    "    \n",
    "increase_enemies()\n",
    "print(f\"enemies outside function: {enemies}\")"
   ]
  },
  {
   "cell_type": "code",
   "execution_count": null,
   "id": "e1f4f651",
   "metadata": {},
   "outputs": [],
   "source": [
    "enemies = 1 # global var\n",
    "\n",
    "def increase_enemies():\n",
    "    global enemies  # global with in local scope\n",
    "    enemies += 1 # loc var\n",
    "    print(f\"enemies inside function: {enemies}\")\n",
    "    \n",
    "increase_enemies()\n",
    "print(f\"enemies outside function: {enemies}\")\n",
    "\n",
    "# we shouldnot use global var name as it is in local fn it may create issues .it will fail our code often\n"
   ]
  },
  {
   "cell_type": "markdown",
   "id": "08f78003",
   "metadata": {},
   "source": [
    "### Python constants & Global scope"
   ]
  },
  {
   "cell_type": "markdown",
   "id": "a502132a",
   "metadata": {},
   "source": [
    "global var increadible useful when we are using global constants"
   ]
  },
  {
   "cell_type": "code",
   "execution_count": null,
   "id": "8bfbe413",
   "metadata": {},
   "outputs": [],
   "source": [
    "PI  = 3.14159\n",
    "URL =  \"https://www.google.com\"\n",
    "TWITTER_HANDLE = '@yu_angela' # we should use this as capital\n",
    "def cal():\n",
    "    pi "
   ]
  },
  {
   "cell_type": "code",
   "execution_count": 7,
   "id": "efd948bd",
   "metadata": {},
   "outputs": [
    {
     "name": "stdout",
     "output_type": "stream",
     "text": [
      "50\n"
     ]
    }
   ],
   "source": [
    "i =50\n",
    "def foo():\n",
    "    i =100\n",
    "    return i\n",
    "\n",
    "foo()\n",
    "print(i)"
   ]
  },
  {
   "cell_type": "markdown",
   "id": "68879b45",
   "metadata": {},
   "source": [
    "In the provided code, the function `foo` is defined to return the local variable `i` with a value of 100. However, when you call the `foo()` function, it returns the value 100, but this value is not stored or printed.\n",
    "\n",
    "When you subsequently print the global variable `i` with the statement `print(i)`, it prints the global variable, which has a value of 50.\n",
    "\n",
    "Let's break down the code and its execution:\n",
    "\n",
    "```python\n",
    "i = 50  # Global variable\n",
    "\n",
    "def foo():\n",
    "    i = 100  # Local variable within the function\n",
    "    return i\n",
    "\n",
    "foo()  # The function is called, but its return value (100) is not stored or printed\n",
    "\n",
    "print(i)  # Prints the global variable i, which is 50\n",
    "```\n",
    "\n",
    "So, the output of this code will be:\n",
    "\n",
    "```\n",
    "50\n",
    "```\n",
    "\n",
    "The call to `foo()` does not affect the global variable `i` because the local variable `i` inside the function is separate from the global variable `i`. If you want to print the result of the `foo()` function, you should store its return value in a variable and then print that variable:\n",
    "\n",
    "```python\n",
    "result = foo()\n",
    "print(result)\n",
    "```\n",
    "\n",
    "This would output:\n",
    "\n",
    "```\n",
    "100\n",
    "```"
   ]
  },
  {
   "cell_type": "code",
   "execution_count": 9,
   "id": "73b4d556",
   "metadata": {},
   "outputs": [
    {
     "name": "stdout",
     "output_type": "stream",
     "text": [
      "50\n"
     ]
    }
   ],
   "source": [
    "foo()\n",
    "print(i)"
   ]
  },
  {
   "cell_type": "code",
   "execution_count": 11,
   "id": "164970ca",
   "metadata": {},
   "outputs": [
    {
     "name": "stdout",
     "output_type": "stream",
     "text": [
      "16\n"
     ]
    }
   ],
   "source": [
    "def bar():\n",
    "    my_var = 9\n",
    "    \n",
    "    if 16 > 9:\n",
    "        my_var = 16\n",
    "    print(my_var)\n",
    "    \n",
    "bar()"
   ]
  },
  {
   "cell_type": "markdown",
   "id": "589f7f3a",
   "metadata": {},
   "source": [
    "Remember that in python there is no block scope. inside a if/else/for/while code block is the same as outside"
   ]
  },
  {
   "cell_type": "code",
   "execution_count": 12,
   "id": "f7c2e0be",
   "metadata": {},
   "outputs": [
    {
     "ename": "NameError",
     "evalue": "name 'a_var' is not defined",
     "output_type": "error",
     "traceback": [
      "\u001b[1;31m---------------------------------------------------------------------------\u001b[0m",
      "\u001b[1;31mNameError\u001b[0m                                 Traceback (most recent call last)",
      "Cell \u001b[1;32mIn[12], line 6\u001b[0m\n\u001b[0;32m      3\u001b[0m     \u001b[38;5;28;01mreturn\u001b[39;00m a_parameter\n\u001b[0;32m      5\u001b[0m a_func(\u001b[38;5;241m10\u001b[39m)\n\u001b[1;32m----> 6\u001b[0m \u001b[38;5;28mprint\u001b[39m(a_var)\n",
      "\u001b[1;31mNameError\u001b[0m: name 'a_var' is not defined"
     ]
    }
   ],
   "source": [
    "def a_func(a_parameter):\n",
    "    a_var = 15\n",
    "    return a_parameter\n",
    "\n",
    "a_func(10)\n",
    "print(a_var)"
   ]
  },
  {
   "cell_type": "markdown",
   "id": "0d8394d5",
   "metadata": {},
   "source": [
    "Its trying to print a var that is local to a_func and is onlyy availble inside the function"
   ]
  },
  {
   "cell_type": "code",
   "execution_count": null,
   "id": "145737d5",
   "metadata": {},
   "outputs": [],
   "source": []
  }
 ],
 "metadata": {
  "kernelspec": {
   "display_name": "Python 3 (ipykernel)",
   "language": "python",
   "name": "python3"
  },
  "language_info": {
   "codemirror_mode": {
    "name": "ipython",
    "version": 3
   },
   "file_extension": ".py",
   "mimetype": "text/x-python",
   "name": "python",
   "nbconvert_exporter": "python",
   "pygments_lexer": "ipython3",
   "version": "3.11.4"
  }
 },
 "nbformat": 4,
 "nbformat_minor": 5
}

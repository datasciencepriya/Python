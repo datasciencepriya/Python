{
 "cells": [
  {
   "cell_type": "code",
   "execution_count": 2,
   "id": "f9755034",
   "metadata": {},
   "outputs": [
    {
     "name": "stdout",
     "output_type": "stream",
     "text": [
      "Guess a letter :d\n",
      "wrong\n",
      "wrong\n",
      "wrong\n",
      "wrong\n",
      "wrong\n"
     ]
    }
   ],
   "source": [
    "import random \n",
    "word_list = ['advark','baboon','camel']\n",
    "\n",
    "choosen_word = random.choice(word_list)\n",
    "\n",
    "guess = input(\"Guess a letter :\").lower()\n",
    "\n",
    "for letter in choosen_word:\n",
    "    if letter == guess:\n",
    "        print(\"Right\")\n",
    "    else:\n",
    "        print(\"wrong\")\n",
    "\n"
   ]
  },
  {
   "cell_type": "code",
   "execution_count": null,
   "id": "a98d9a5c",
   "metadata": {},
   "outputs": [],
   "source": []
  },
  {
   "cell_type": "code",
   "execution_count": 8,
   "id": "96c195d6",
   "metadata": {},
   "outputs": [
    {
     "name": "stdout",
     "output_type": "stream",
     "text": [
      "Pssst, the solution is advark.\n",
      "['_', '_', '_', '_', '_', '_']\n",
      "Guess a letter :a\n",
      "['_', '_', '_', '_', '_', '_']\n"
     ]
    }
   ],
   "source": [
    "b"
   ]
  },
  {
   "cell_type": "code",
   "execution_count": null,
   "id": "21d613c7",
   "metadata": {},
   "outputs": [],
   "source": [
    "### replacing  the blanks\n",
    "\n",
    "a = 3\n",
    "if not a > 1:\n",
    "    \n",
    "    \n",
    "import random \n",
    "word_list = ['advark','baboon','camel']\n",
    "\n",
    "chosen_word = random.choice(word_list)\n",
    "\n",
    "print(f'Pssst, the solution is {chosen_word}.')\n",
    "\n",
    "display = []\n",
    "word_length = len(chosen_word)\n",
    "for _ in range(word_length):\n",
    "    display += \"_\"\n",
    "print(display)\n",
    "\n",
    "end_of_game = False\n",
    "\n",
    "while end_of_game:\n",
    "\n",
    "    guess = input(\"Guess a letter :\").lower()\n",
    "\n",
    "    for position in range(len(chosen_word)):\n",
    "        letter == chosen_word[position]\n",
    "        print(f\"Current Position: {position}\n",
    "        \\n current letter: {letter}\\n Guesses\n",
    "        letter: {guess}\")\n",
    "        if letter == guess:\n",
    "            display[position] = letter\n",
    "        \n",
    "print(display)\n",
    "\n",
    "if \"_\" not in display:\n",
    "    end_of_game = True\n",
    "    print(\"You win!\")"
   ]
  },
  {
   "cell_type": "code",
   "execution_count": null,
   "id": "8bb32329",
   "metadata": {},
   "outputs": [],
   "source": [
    "### replacing  the blanks\n",
    "\n",
    "a = 3\n",
    "if not a > 1:\n",
    "    \n",
    "    \n",
    "import random \n",
    "word_list = ['advark','baboon','camel']\n",
    "\n",
    "chosen_word = random.choice(word_list)\n",
    "\n",
    "print(f'Pssst, the solution is {chosen_word}.')\n",
    "\n",
    "display = []\n",
    "word_length = len(chosen_word)\n",
    "for _ in range(word_length):\n",
    "    display += \"_\"\n",
    "print(display)\n",
    "\n",
    "end_of_game = False\n",
    "\n",
    "while end_of_game:\n",
    "\n",
    "    guess = input(\"Guess a letter :\").lower()\n",
    "\n",
    "    for position in range(len(chosen_word)):\n",
    "        letter == chosen_word[position]\n",
    "        print(f\"Current Position: {position}\n",
    "        \\n current letter: {letter}\\n Guesses\n",
    "        letter: {guess}\")\n",
    "        if letter == guess:\n",
    "            display[position] = letter\n",
    "        \n",
    "\n",
    "        if letter == guess:\n",
    "              display[position] = letter\n",
    "              \n",
    "if guess not inchosen_word:\n",
    "    lives -= 1\n",
    "    if lives == 0:\n",
    "              \n",
    "\n",
    "print(f\"{' '.join(display)\")\n",
    "\n",
    "if \"_\" not in display:\n",
    "    end_of_game = True\n",
    "    print(\"You win!\")"
   ]
  },
  {
   "cell_type": "code",
   "execution_count": null,
   "id": "092cffa1",
   "metadata": {},
   "outputs": [],
   "source": []
  },
  {
   "cell_type": "code",
   "execution_count": null,
   "id": "b4978191",
   "metadata": {},
   "outputs": [],
   "source": [
    "# keeping track of palyers list\n",
    "\n",
    "+-------+\n",
    "|       |\n",
    "0\n",
    "|\n",
    "        |\n",
    "        |\n",
    "        |\n",
    "        |"
   ]
  },
  {
   "cell_type": "markdown",
   "id": "3b4ccd85",
   "metadata": {},
   "source": [
    "### refer the flow chart"
   ]
  },
  {
   "cell_type": "markdown",
   "id": "0ed25911",
   "metadata": {},
   "source": [
    "refer the resources"
   ]
  },
  {
   "cell_type": "code",
   "execution_count": null,
   "id": "d541d8d1",
   "metadata": {},
   "outputs": [],
   "source": [
    "### replacing  the blanks\n",
    "   \n",
    "import random \n",
    "word_list = ['advark','baboon','camel']\n",
    "\n",
    "# importing hangman words from another file\n",
    "from hangman_words import word_list\n",
    "chosen_word = random.choice(hangman_words.word_list)\n",
    "word_length = len(chosen_word)\n",
    "\n",
    "end_of_game = False\n",
    "lives       = 6\n",
    "\n",
    "print(f'Pssst, the solution is {chosen_word}.')\n",
    "\n",
    "display = []\n",
    "word_length = len(chosen_word)\n",
    "for _ in range(word_length):\n",
    "    display += \"_\"\n",
    "print(display)\n",
    "\n",
    "end_of_game = False\n",
    "\n",
    "while end_of_game:\n",
    "\n",
    "    guess = input(\"Guess a letter :\").lower()\n",
    "\n",
    "    for position in range(len(chosen_word)):\n",
    "        letter == chosen_word[position]\n",
    "        print(f\"Current Position: {position}\n",
    "        \\n current letter: {letter}\\n Guesses\n",
    "        letter: {guess}\")\n",
    "        if letter == guess:\n",
    "            display[position] = letter\n",
    "        \n",
    "\n",
    "        if letter == guess:\n",
    "              display[position] = letter\n",
    "              \n",
    "if guess not inchosen_word:\n",
    "    lives -= 1\n",
    "    if lives == 0:\n",
    "              \n",
    "\n",
    "print(f\"{' '.join(display)\")\n",
    "\n",
    "if \"_\" not in display:\n",
    "    end_of_game = True\n",
    "    print(\"You win!\")\n",
    "\n",
    "from hangman_art"
   ]
  }
 ],
 "metadata": {
  "kernelspec": {
   "display_name": "Python 3 (ipykernel)",
   "language": "python",
   "name": "python3"
  },
  "language_info": {
   "codemirror_mode": {
    "name": "ipython",
    "version": 3
   },
   "file_extension": ".py",
   "mimetype": "text/x-python",
   "name": "python",
   "nbconvert_exporter": "python",
   "pygments_lexer": "ipython3",
   "version": "3.11.4"
  }
 },
 "nbformat": 4,
 "nbformat_minor": 5
}

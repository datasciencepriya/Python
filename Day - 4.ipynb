{
 "cells": [
  {
   "cell_type": "markdown",
   "id": "32432947",
   "metadata": {},
   "source": [
    "### randomisation and python lists"
   ]
  },
  {
   "cell_type": "markdown",
   "id": "242df14d",
   "metadata": {},
   "source": [
    "### random module"
   ]
  },
  {
   "cell_type": "markdown",
   "id": "40eabbda",
   "metadata": {},
   "source": [
    "### refer khan academy spsuedo random number generator video"
   ]
  },
  {
   "cell_type": "markdown",
   "id": "e36b15dd",
   "metadata": {},
   "source": [
    "wikipedia mersene twister"
   ]
  },
  {
   "cell_type": "code",
   "execution_count": 1,
   "id": "2fc57429",
   "metadata": {},
   "outputs": [
    {
     "name": "stdout",
     "output_type": "stream",
     "text": [
      "6\n"
     ]
    }
   ],
   "source": [
    "import random\n",
    "\n",
    "random_integer = random.randint(1,10)\n",
    "\n",
    "print(random_integer)"
   ]
  },
  {
   "cell_type": "markdown",
   "id": "b0c57d8b",
   "metadata": {},
   "source": [
    "### random mudule"
   ]
  },
  {
   "cell_type": "code",
   "execution_count": 10,
   "id": "01c60528",
   "metadata": {},
   "outputs": [
    {
     "ename": "ModuleNotFoundError",
     "evalue": "No module named 'module'",
     "output_type": "error",
     "traceback": [
      "\u001b[1;31m---------------------------------------------------------------------------\u001b[0m",
      "\u001b[1;31mModuleNotFoundError\u001b[0m                       Traceback (most recent call last)",
      "Cell \u001b[1;32mIn[10], line 2\u001b[0m\n\u001b[0;32m      1\u001b[0m \u001b[38;5;28;01mimport\u001b[39;00m \u001b[38;5;21;01mrandom\u001b[39;00m\n\u001b[1;32m----> 2\u001b[0m \u001b[38;5;28;01mimport\u001b[39;00m \u001b[38;5;21;01mmodule\u001b[39;00m\n\u001b[0;32m      4\u001b[0m \u001b[38;5;28mprint\u001b[39m(module\u001b[38;5;241m.\u001b[39mpi)\n",
      "\u001b[1;31mModuleNotFoundError\u001b[0m: No module named 'module'"
     ]
    }
   ],
   "source": [
    "import random\n",
    "import module\n",
    "\n",
    "print(module.pi)"
   ]
  },
  {
   "cell_type": "code",
   "execution_count": 16,
   "id": "dc7098b9",
   "metadata": {},
   "outputs": [
    {
     "name": "stdout",
     "output_type": "stream",
     "text": [
      "8\n",
      "0.4962373352269931\n",
      "2.4811866761349655\n",
      "5\n"
     ]
    }
   ],
   "source": [
    "import random\n",
    "\n",
    "random_integer = random.randint(1,10)\n",
    "\n",
    "print(random_integer)\n",
    "\n",
    "random_float = random.random()\n",
    "print(random_float)\n",
    "\n",
    "print(random_float * 5)\n",
    "\n",
    "random_decimal =random.randint(1,5)\n",
    "print(random_decimal)\n"
   ]
  },
  {
   "cell_type": "code",
   "execution_count": 18,
   "id": "5de35dd2",
   "metadata": {},
   "outputs": [
    {
     "name": "stdout",
     "output_type": "stream",
     "text": [
      "Your love score is 77\n"
     ]
    }
   ],
   "source": [
    "love_score = random.randint(1,100)\n",
    "print(f\"Your love score is {love_score}\")"
   ]
  },
  {
   "cell_type": "markdown",
   "id": "d6bb6f99",
   "metadata": {},
   "source": [
    "### virtual coin toss program"
   ]
  },
  {
   "cell_type": "code",
   "execution_count": 25,
   "id": "ffd2e07d",
   "metadata": {},
   "outputs": [
    {
     "name": "stdout",
     "output_type": "stream",
     "text": [
      "Heads\n"
     ]
    }
   ],
   "source": [
    "import random\n",
    "\n",
    "toss = random.randint(0 , 1)\n",
    "H = 1\n",
    "T = 0\n",
    "if toss == 1:\n",
    "    print('Heads')\n",
    "else:\n",
    "    print(\"Tails\")"
   ]
  },
  {
   "cell_type": "markdown",
   "id": "c76cbc06",
   "metadata": {},
   "source": [
    "### mwentors code"
   ]
  },
  {
   "cell_type": "code",
   "execution_count": null,
   "id": "e0f80c40",
   "metadata": {},
   "outputs": [],
   "source": [
    "import random\n",
    "\n",
    "random_side = random.randint(0,1)\n",
    "\n",
    "if random_side == 1:\n",
    "    print('Heads')\n",
    "else:\n",
    "    print('Tails')\n",
    "\n"
   ]
  },
  {
   "cell_type": "code",
   "execution_count": 26,
   "id": "9c7db8c9",
   "metadata": {},
   "outputs": [
    {
     "name": "stdout",
     "output_type": "stream",
     "text": [
      "Heads\n"
     ]
    }
   ],
   "source": [
    "import random\n",
    "\n",
    "outcomes = {1: 'Heads', 0: 'Tails'}\n",
    "\n",
    "toss = random.randint(0, 1)\n",
    "\n",
    "print(outcomes[toss])\n"
   ]
  },
  {
   "cell_type": "code",
   "execution_count": 27,
   "id": "05653918",
   "metadata": {},
   "outputs": [
    {
     "name": "stdout",
     "output_type": "stream",
     "text": [
      "Tails\n"
     ]
    }
   ],
   "source": [
    "import random\n",
    "\n",
    "def simulate_coin_toss():\n",
    "    toss = random.randint(0, 1)\n",
    "    return 'Heads' if toss == 1 else 'Tails'\n",
    "\n",
    "result = simulate_coin_toss()\n",
    "print(result)\n"
   ]
  },
  {
   "cell_type": "code",
   "execution_count": 28,
   "id": "aaee18de",
   "metadata": {},
   "outputs": [
    {
     "name": "stdout",
     "output_type": "stream",
     "text": [
      "Enter the number of coin tosses: 4\n",
      "Heads\n",
      "Heads\n",
      "Heads\n",
      "Tails\n"
     ]
    }
   ],
   "source": [
    "import random\n",
    "\n",
    "def simulate_coin_toss():\n",
    "    toss = random.randint(0, 1)\n",
    "    return 'Heads' if toss == 1 else 'Tails'\n",
    "\n",
    "num_tosses = int(input('Enter the number of coin tosses: '))\n",
    "\n",
    "for _ in range(num_tosses):\n",
    "    result = simulate_coin_toss()\n",
    "    print(result)\n"
   ]
  },
  {
   "cell_type": "markdown",
   "id": "2f90b168",
   "metadata": {},
   "source": [
    "## Lists"
   ]
  },
  {
   "cell_type": "markdown",
   "id": "aea03db2",
   "metadata": {},
   "source": [
    "if we want to store all related values in one var we can use list .\n",
    "for ex if we want to store all the state name in one var we can use list.\n",
    "all the people name in one list"
   ]
  },
  {
   "cell_type": "markdown",
   "id": "78a91592",
   "metadata": {},
   "source": [
    "In Python, a list is a built-in data structure that represents an ordered and mutable collection of elements. Lists can contain items of different data types, and the elements can be accessed by their index. Lists are created using square brackets `[]`. Here's an explanation with five examples:\n",
    "\n",
    "### Examples of Lists:\n",
    "\n",
    "#### Example 1: List of Numbers\n",
    "```python\n",
    "numbers = [1, 2, 3, 4, 5]\n",
    "```\n",
    "\n",
    "#### Example 2: List of Strings\n",
    "```python\n",
    "fruits = ['apple', 'banana', 'orange']\n",
    "```\n",
    "\n",
    "#### Example 3: List of Mixed Data Types\n",
    "```python\n",
    "mixed_list = [1, 'apple', 3.14, True]\n",
    "```\n",
    "\n",
    "#### Example 4: List of Lists (Nested Lists)\n",
    "```python\n",
    "nested_list = [[1, 2, 3], ['a', 'b', 'c'], [True, False]]\n",
    "```\n",
    "\n",
    "#### Example 5: Empty List\n",
    "```python\n",
    "empty_list = []\n",
    "```\n",
    "\n",
    "### Pros and Cons of Lists:\n",
    "\n",
    "#### Pros:\n",
    "1. **Mutable:** Lists are mutable, meaning you can modify their elements by adding, removing, or changing values.\n",
    "2. **Ordered:** Lists maintain the order of elements, allowing for easy indexing and retrieval.\n",
    "3. **Flexible:** Lists can contain elements of different data types and support nesting.\n",
    "4. **Built-In Methods:** Python provides a variety of built-in methods (e.g., `append`, `extend`, `pop`, `remove`) for convenient list manipulation.\n",
    "5. **Versatile:** Lists are widely used and versatile, making them suitable for various programming tasks.\n",
    "\n",
    "#### Cons:\n",
    "1. **Linear Search:** Accessing elements by index in a list requires a linear search, which can be less efficient for large lists.\n",
    "2. **Memory Overhead:** Lists may consume more memory than more specialized data structures when storing elements of different types.\n",
    "3. **No Built-In Sorting:** While lists can be sorted using the `sort` method, there's no built-in method for sorting in descending order or based on multiple criteria.\n",
    "4. **Shallow Copy Limitation:** The `copy` method creates a shallow copy, which may not be sufficient for complex nested structures.\n",
    "\n",
    "### Where and When to Use Lists:\n",
    "\n",
    "- **Use Case:** Lists are suitable for situations where you need an ordered and mutable collection of elements.\n",
    "- **When to Use:** Use lists when you need to store and manipulate a sequence of items, and the order of the items is important.\n",
    "\n",
    "### Example Use Case:\n",
    "\n",
    "```python\n",
    "# Storing and manipulating a list of student names\n",
    "students = ['Alice', 'Bob', 'Charlie', 'David']\n",
    "\n",
    "# Adding a new student\n",
    "students.append('Eva')\n",
    "\n",
    "# Removing a student\n",
    "students.remove('Bob')\n",
    "\n",
    "# Displaying the modified list\n",
    "print(students)\n",
    "# Output: ['Alice', 'Charlie', 'David', 'Eva']\n",
    "```\n",
    "\n",
    "In summary, lists in Python are versatile and commonly used for handling sequences of elements. They offer flexibility and ease of use, making them suitable for a wide range of programming scenarios."
   ]
  },
  {
   "cell_type": "markdown",
   "id": "e049cc77",
   "metadata": {},
   "source": [
    "Lists in Python are versatile data structures that can be used in various scenarios. Here are some situations where you may want to use lists and where they are commonly employed:\n",
    "\n",
    "1. **Sequence of Elements:**\n",
    "   - **Use Case:** When you need to store and manipulate an ordered sequence of elements.\n",
    "   - **Example:** Storing a list of tasks, a list of items in a shopping cart, or a list of steps in a process.\n",
    "\n",
    "2. **Mutable Collection:**\n",
    "   - **Use Case:** When you need a collection that can be modified, such as adding, removing, or updating elements.\n",
    "   - **Example:** Maintaining a list of user preferences that can be updated, or managing a dynamic list of online users.\n",
    "\n",
    "3. **Heterogeneous Data Types:**\n",
    "   - **Use Case:** When you need to store elements of different data types within the same collection.\n",
    "   - **Example:** Creating a list that contains integers, strings, and booleans to represent diverse information.\n",
    "\n",
    "4. **Easy Indexing and Slicing:**\n",
    "   - **Use Case:** When you need to access elements by index or perform slicing operations.\n",
    "   - **Example:** Retrieving specific elements from a list using index positions or extracting subsets of data using slicing.\n",
    "\n",
    "5. **Sequential Processing:**\n",
    "   - **Use Case:** When you need to process elements sequentially, performing operations on each element in turn.\n",
    "   - **Example:** Iterating through a list of files to perform a specific operation on each file or processing a list of numeric values.\n",
    "\n",
    "6. **Dynamic Size:**\n",
    "   - **Use Case:** When the size of the collection is not fixed and needs to grow or shrink dynamically.\n",
    "   - **Example:** Maintaining a list of messages in a chat application, where new messages can be added or old ones removed.\n",
    "\n",
    "7. **Versatility and Convenience:**\n",
    "   - **Use Case:** When you need a general-purpose data structure that is easy to use and widely applicable.\n",
    "   - **Example:** Storing and managing information in a way that doesn't require complex data structures, where a list's simplicity suffices.\n",
    "\n",
    "8. **Ordered Iteration:**\n",
    "   - **Use Case:** When maintaining the order of elements is important, and you need to iterate through the elements in a specific sequence.\n",
    "   - **Example:** Representing the steps in a workflow or processing items in a specific order.\n",
    "\n",
    "9. **Storing Multiple Values:**\n",
    "   - **Use Case:** When you need to store multiple values in a single variable.\n",
    "   - **Example:** Storing the coordinates (x, y, z) of points in three-dimensional space using a list.\n",
    "\n",
    "In summary, lists are suitable for scenarios where you need an ordered, mutable, and versatile collection of elements. They are widely used in Python programming due to their simplicity, ease of use, and flexibility."
   ]
  },
  {
   "cell_type": "code",
   "execution_count": 31,
   "id": "1db13208",
   "metadata": {},
   "outputs": [
    {
     "data": {
      "text/plain": [
       "['cherry', 'apple', 'Guava']"
      ]
     },
     "execution_count": 31,
     "metadata": {},
     "output_type": "execute_result"
    }
   ],
   "source": [
    "# fruits = [item1, item2]\n",
    "\n",
    "fruits = [\"cherry\",\"apple\",\"Guavaa\"]\n",
    "\n",
    "fruits"
   ]
  },
  {
   "cell_type": "code",
   "execution_count": 34,
   "id": "a8d1ae94",
   "metadata": {},
   "outputs": [
    {
     "data": {
      "text/plain": [
       "['Tamilnadu', 'Kerala', 'Rajasthan']"
      ]
     },
     "execution_count": 34,
     "metadata": {},
     "output_type": "execute_result"
    }
   ],
   "source": [
    "states_of_india = ['Tamilnadu','Kerala','Rajasthan']\n",
    "\n",
    "states_of_india"
   ]
  },
  {
   "cell_type": "code",
   "execution_count": 35,
   "id": "caa8951d",
   "metadata": {},
   "outputs": [
    {
     "name": "stdout",
     "output_type": "stream",
     "text": [
      "Tamilnadu\n"
     ]
    }
   ],
   "source": [
    "print(states_of_india[0])"
   ]
  },
  {
   "cell_type": "code",
   "execution_count": 36,
   "id": "51008bd0",
   "metadata": {},
   "outputs": [
    {
     "name": "stdout",
     "output_type": "stream",
     "text": [
      "Rajasthan\n"
     ]
    }
   ],
   "source": [
    "print(states_of_india[-1]) # starts from end of the list"
   ]
  },
  {
   "cell_type": "code",
   "execution_count": 39,
   "id": "22cb7461",
   "metadata": {},
   "outputs": [],
   "source": [
    "states_of_india[1] = 'Andhrapradhesh'"
   ]
  },
  {
   "cell_type": "code",
   "execution_count": 40,
   "id": "fc58694c",
   "metadata": {},
   "outputs": [
    {
     "data": {
      "text/plain": [
       "'Andhrapradhesh'"
      ]
     },
     "execution_count": 40,
     "metadata": {},
     "output_type": "execute_result"
    }
   ],
   "source": [
    "states_of_india[1]"
   ]
  },
  {
   "cell_type": "code",
   "execution_count": 43,
   "id": "c1834fc7",
   "metadata": {},
   "outputs": [],
   "source": [
    "states_of_india.append(\"Kerala\")"
   ]
  },
  {
   "cell_type": "code",
   "execution_count": 44,
   "id": "bf753b4e",
   "metadata": {},
   "outputs": [
    {
     "data": {
      "text/plain": [
       "['Tamilnadu', 'Andhrapradhesh', 'Rajasthan', 'Tamilnadu', 'Kerala']"
      ]
     },
     "execution_count": 44,
     "metadata": {},
     "output_type": "execute_result"
    }
   ],
   "source": [
    "states_of_india"
   ]
  },
  {
   "cell_type": "markdown",
   "id": "98f1df4d",
   "metadata": {},
   "source": [
    "docs.python.org/3/tutorial/datastructure for other list methods"
   ]
  },
  {
   "cell_type": "markdown",
   "id": "e82adadc",
   "metadata": {},
   "source": [
    "https://docs.python.org/3/tutorial/datastructures.html"
   ]
  },
  {
   "cell_type": "code",
   "execution_count": 47,
   "id": "5bf4f6f2",
   "metadata": {},
   "outputs": [
    {
     "data": {
      "text/plain": [
       "['Tamilnadu',\n",
       " 'Andhrapradhesh',\n",
       " 'Rajasthan',\n",
       " 'Tamilnadu',\n",
       " 'Kerala',\n",
       " 'Karnataka',\n",
       " 'Karnataka']"
      ]
     },
     "execution_count": 47,
     "metadata": {},
     "output_type": "execute_result"
    }
   ],
   "source": [
    "states_of_india.append(\"Karnataka\")\n",
    "\n",
    "states_of_india\n"
   ]
  },
  {
   "cell_type": "code",
   "execution_count": 48,
   "id": "215a1ae0",
   "metadata": {},
   "outputs": [
    {
     "data": {
      "text/plain": [
       "['Tamilnadu',\n",
       " 'Andhrapradhesh',\n",
       " 'Rajasthan',\n",
       " 'Tamilnadu',\n",
       " 'Kerala',\n",
       " 'Karnataka',\n",
       " 'Karnataka',\n",
       " 'K',\n",
       " 'a',\n",
       " 'r',\n",
       " 'n',\n",
       " 'a',\n",
       " 't',\n",
       " 'a',\n",
       " 'k',\n",
       " 'a']"
      ]
     },
     "execution_count": 48,
     "metadata": {},
     "output_type": "execute_result"
    }
   ],
   "source": [
    "states_of_india.extend(\"Karnataka\")\n",
    "\n",
    "states_of_india\n"
   ]
  },
  {
   "cell_type": "markdown",
   "id": "3e22c3a7",
   "metadata": {},
   "source": [
    "### Examples of `append`:\n",
    "\n",
    "#### Example 1: Adding a Single Element to a List\n",
    "```python\n",
    "my_list = [1, 2, 3]\n",
    "my_list.append(4)\n",
    "print(my_list)\n",
    "# Output: [1, 2, 3, 4]\n",
    "```\n",
    "\n",
    "#### Example 2: Appending a String to a List\n",
    "```python\n",
    "words = ['apple', 'orange', 'banana']\n",
    "words.append('grape')\n",
    "print(words)\n",
    "# Output: ['apple', 'orange', 'banana', 'grape']\n",
    "```\n",
    "\n",
    "#### Example 3: Appending a Nested List\n",
    "```python\n",
    "nested_list = [[1, 2], [3, 4]]\n",
    "nested_list.append([5, 6])\n",
    "print(nested_list)\n",
    "# Output: [[1, 2], [3, 4], [5, 6]]\n",
    "```\n",
    "\n",
    "### Examples of `extend`:\n",
    "\n",
    "#### Example 1: Concatenating Lists\n",
    "```python\n",
    "list1 = [1, 2, 3]\n",
    "list2 = [4, 5, 6]\n",
    "list1.extend(list2)\n",
    "print(list1)\n",
    "# Output: [1, 2, 3, 4, 5, 6]\n",
    "```\n",
    "\n",
    "#### Example 2: Extending with a Tuple\n",
    "```python\n",
    "numbers = [1, 2, 3]\n",
    "tuple_numbers = (4, 5, 6)\n",
    "numbers.extend(tuple_numbers)\n",
    "print(numbers)\n",
    "# Output: [1, 2, 3, 4, 5, 6]\n",
    "```\n",
    "\n",
    "#### Example 3: Extending with a String\n",
    "```python\n",
    "letters = ['a', 'b', 'c']\n",
    "word = 'hello'\n",
    "letters.extend(word)\n",
    "print(letters)\n",
    "# Output: ['a', 'b', 'c', 'h', 'e', 'l', 'l', 'o']\n",
    "```\n",
    "\n",
    "In these examples, you can see how `append` adds a single element, while `extend` is used to add multiple elements from an iterable to the end of a list."
   ]
  },
  {
   "cell_type": "markdown",
   "id": "88db9d21",
   "metadata": {},
   "source": [
    " The `insert` method in Python is used to insert an element at a specified index in a list. It takes two arguments: the index at which the element will be inserted, and the element itself. Here are five examples demonstrating the use of `insert`:\n",
    "\n",
    "### Examples of `insert`:\n",
    "\n",
    "#### Example 1: Inserting an Element at the Beginning\n",
    "```python\n",
    "my_list = [2, 3, 4]\n",
    "my_list.insert(0, 1)\n",
    "print(my_list)\n",
    "# Output: [1, 2, 3, 4]\n",
    "```\n",
    "\n",
    "#### Example 2: Inserting an Element in the Middle\n",
    "```python\n",
    "numbers = [1, 2, 4, 5]\n",
    "numbers.insert(2, 3)\n",
    "print(numbers)\n",
    "# Output: [1, 2, 3, 4, 5]\n",
    "```\n",
    "\n",
    "#### Example 3: Inserting at the End\n",
    "```python\n",
    "animals = ['cat', 'dog']\n",
    "animals.insert(len(animals), 'rabbit')\n",
    "print(animals)\n",
    "# Output: ['cat', 'dog', 'rabbit']\n",
    "```\n",
    "\n",
    "#### Example 4: Inserting Multiple Elements\n",
    "```python\n",
    "fruits = ['apple', 'banana', 'grape']\n",
    "fruits.insert(1, 'orange')\n",
    "fruits.insert(3, 'kiwi')\n",
    "print(fruits)\n",
    "# Output: ['apple', 'orange', 'banana', 'kiwi', 'grape']\n",
    "```\n",
    "\n",
    "#### Example 5: Inserting a List as an Element\n",
    "```python\n",
    "original_list = [1, 2, 3]\n",
    "original_list.insert(1, [4, 5])\n",
    "print(original_list)\n",
    "# Output: [1, [4, 5], 2, 3]\n",
    "```\n",
    "\n",
    "### Pros and Cons of `insert`:\n",
    "\n",
    "#### Pros:\n",
    "1. **Precise Insertion:** You can insert an element at a specific position, providing more control over the list structure.\n",
    "2. **Versatility:** `insert` can be used to insert elements anywhere in the list, not just at the end or beginning.\n",
    "\n",
    "#### Cons:\n",
    "1. **Time Complexity:** The time complexity of `insert` is O(n), where n is the length of the list. This means that inserting at the beginning or in the middle of a large list can be inefficient compared to other operations like `append` or `extend`.\n",
    "2. **Index Error Risk:** You need to ensure that the index provided is within the valid range; otherwise, it may raise an `IndexError`.\n",
    "\n",
    "In summary, `insert` is a powerful method for precise list manipulation but may be less efficient than other methods for large lists due to its time complexity."
   ]
  },
  {
   "cell_type": "code",
   "execution_count": 51,
   "id": "e926615b",
   "metadata": {},
   "outputs": [],
   "source": [
    "list = [2,3,4]\n",
    "list.insert(0,7)"
   ]
  },
  {
   "cell_type": "code",
   "execution_count": 52,
   "id": "ac111485",
   "metadata": {},
   "outputs": [
    {
     "data": {
      "text/plain": [
       "[7, 2, 3, 4]"
      ]
     },
     "execution_count": 52,
     "metadata": {},
     "output_type": "execute_result"
    }
   ],
   "source": [
    "list"
   ]
  },
  {
   "cell_type": "markdown",
   "id": "0274444d",
   "metadata": {},
   "source": [
    "The `remove` method in Python is used to remove the first occurrence of a specified element from a list. It takes one argument, which is the element to be removed. Here are five examples demonstrating the use of `remove`:\n",
    "\n",
    "### Examples of `remove`:\n",
    "\n",
    "#### Example 1: Removing an Element\n",
    "```python\n",
    "numbers = [1, 2, 3, 2, 4]\n",
    "numbers.remove(2)\n",
    "print(numbers)\n",
    "# Output: [1, 3, 2, 4]\n",
    "```\n",
    "\n",
    "#### Example 2: Removing a String\n",
    "```python\n",
    "fruits = ['apple', 'banana', 'orange', 'banana']\n",
    "fruits.remove('banana')\n",
    "print(fruits)\n",
    "# Output: ['apple', 'orange', 'banana']\n",
    "```\n",
    "\n",
    "#### Example 3: Removing a Character\n",
    "```python\n",
    "letters = ['a', 'b', 'c', 'b']\n",
    "letters.remove('b')\n",
    "print(letters)\n",
    "# Output: ['a', 'c', 'b']\n",
    "```\n",
    "\n",
    "#### Example 4: Removing an Element that Doesn't Exist\n",
    "```python\n",
    "colors = ['red', 'green', 'blue']\n",
    "colors.remove('yellow')  # Raises ValueError: 'yellow' not in list\n",
    "print(colors)\n",
    "# Output: ValueError: list.remove(x): x not in list\n",
    "```\n",
    "\n",
    "#### Example 5: Removing an Element from a Nested List\n",
    "```python\n",
    "nested_list = [[1, 2], [3, 4], [5, 6]]\n",
    "nested_list.remove([3, 4])\n",
    "print(nested_list)\n",
    "# Output: [[1, 2], [5, 6]]\n",
    "```\n",
    "\n",
    "### Pros and Cons of `remove`:\n",
    "\n",
    "#### Pros:\n",
    "1. **Ease of Use:** The `remove` method provides a simple and intuitive way to remove a specific element from a list.\n",
    "2. **No Need for Index:** You don't need to know the index of the element; you can directly specify the value to be removed.\n",
    "\n",
    "#### Cons:\n",
    "1. **Single Occurrence:** `remove` removes only the first occurrence of the specified element. If there are multiple occurrences, only the first one is removed.\n",
    "2. **Value Error:** If the specified element is not found in the list, `remove` raises a `ValueError`. It's essential to ensure the element exists before using `remove`.\n",
    "\n",
    "### Where and When to Use `remove`:\n",
    "\n",
    "- **Use Case:** When you want to remove a specific element from a list and you know the value of the element.\n",
    "- **When to Use:** If you need to remove a specific occurrence of an element and don't need to deal with the element's index.\n",
    "\n",
    "In summary, `remove` is a convenient method for removing a specific element from a list when you know the value of the element. However, if there are multiple occurrences or you need to handle the index, other methods like `pop` or list comprehensions might be more suitable."
   ]
  },
  {
   "cell_type": "markdown",
   "id": "71ba231e",
   "metadata": {},
   "source": [
    "The `pop` method in Python is used to remove and return the item at the specified index (default is the last item) from a list. It takes one optional argument, which is the index of the item to be removed. Here are five examples demonstrating the use of `pop`:\n",
    "\n",
    "### Examples of `pop`:\n",
    "\n",
    "#### Example 1: Popping the Last Element\n",
    "```python\n",
    "numbers = [1, 2, 3, 4]\n",
    "last_item = numbers.pop()\n",
    "print(last_item, numbers)\n",
    "# Output: 4 [1, 2, 3]\n",
    "```\n",
    "\n",
    "#### Example 2: Popping a Specific Index\n",
    "```python\n",
    "fruits = ['apple', 'banana', 'orange']\n",
    "removed_fruit = fruits.pop(1)\n",
    "print(removed_fruit, fruits)\n",
    "# Output: banana ['apple', 'orange']\n",
    "```\n",
    "\n",
    "#### Example 3: Popping from an Empty List\n",
    "```python\n",
    "empty_list = []\n",
    "# empty_list.pop()  # Raises IndexError: pop from empty list\n",
    "print(empty_list)\n",
    "# Output: IndexError: pop from empty list\n",
    "```\n",
    "\n",
    "#### Example 4: Popping the First Element\n",
    "```python\n",
    "letters = ['a', 'b', 'c']\n",
    "first_letter = letters.pop(0)\n",
    "print(first_letter, letters)\n",
    "# Output: a ['b', 'c']\n",
    "```\n",
    "\n",
    "#### Example 5: Popping with Default Index\n",
    "```python\n",
    "colors = ['red', 'green', 'blue']\n",
    "last_color = colors.pop()\n",
    "print(last_color, colors)\n",
    "# Output: blue ['red', 'green']\n",
    "```\n",
    "\n",
    "### Pros and Cons of `pop`:\n",
    "\n",
    "#### Pros:\n",
    "1. **Removes and Returns:** `pop` not only removes the item but also returns it. This allows you to use the popped item immediately if needed.\n",
    "2. **Specific Index:** You can remove an item at a specific index, giving you more control over the operation.\n",
    "\n",
    "#### Cons:\n",
    "1. **Index Error:** If the specified index is out of range, `pop` raises an `IndexError`.\n",
    "2. **Slower than `del`:** For simple removal of elements without needing the value, using `del` or other methods may be faster.\n",
    "\n",
    "### Where and When to Use `pop`:\n",
    "\n",
    "- **Use Case:** When you need to remove and use an item from a specific index.\n",
    "- **When to Use:** If you need the removed item or if you specifically want to remove an item at a particular index.\n",
    "\n",
    "In summary, `pop` is useful when you need to remove and use an item at a specific index. However, if you don't need the removed item or want to delete elements by value or slice, other methods like `del`, `remove`, or list comprehensions might be more suitable."
   ]
  },
  {
   "cell_type": "markdown",
   "id": "fbd1ac54",
   "metadata": {},
   "source": [
    "The `clear` method in Python is used to remove all elements from a list, essentially making it an empty list. It doesn't take any arguments. Here's an explanation with an example:\n",
    "\n",
    "### Example of `clear`:\n",
    "\n",
    "```python\n",
    "numbers = [1, 2, 3, 4, 5]\n",
    "numbers.clear()\n",
    "print(numbers)\n",
    "# Output: []\n",
    "```\n",
    "\n",
    "In this example, the `clear` method removes all elements from the `numbers` list, resulting in an empty list (`[]`).\n",
    "\n",
    "### Pros and Cons of `clear`:\n",
    "\n",
    "#### Pros:\n",
    "1. **Clears Entire List:** `clear` efficiently removes all elements from the list, providing a concise way to empty a list.\n",
    "\n",
    "#### Cons:\n",
    "1. **Irreversible:** Once the `clear` method is applied, the original list is modified, and there is no direct way to retrieve the removed elements.\n",
    "2. **In-Place Operation:** `clear` modifies the original list in place. If you need to preserve the original list, you may want to create a copy before using `clear`.\n",
    "\n",
    "### Where and When to Use `clear`:\n",
    "\n",
    "- **Use Case:** When you want to quickly remove all elements from a list.\n",
    "- **When to Use:** Use `clear` when you need to reuse an existing list or want to empty it for a new set of elements.\n",
    "\n",
    "### Example Use Case:\n",
    "\n",
    "```python\n",
    "# Clearing a list to reuse it\n",
    "my_list = [10, 20, 30]\n",
    "print(\"Original List:\", my_list)\n",
    "\n",
    "# Perform some operations...\n",
    "\n",
    "# Clear the list for reuse\n",
    "my_list.clear()\n",
    "print(\"Cleared List:\", my_list)\n",
    "# Output: Original List: [10, 20, 30]\n",
    "#         Cleared List: []\n",
    "```\n",
    "\n",
    "In summary, `clear` is a convenient method when you need to quickly remove all elements from a list. However, keep in mind that it modifies the original list in place, and the removed elements are not recoverable."
   ]
  },
  {
   "cell_type": "markdown",
   "id": "0b274aa8",
   "metadata": {},
   "source": [
    "The `index` method in Python is used to find the index of the first occurrence of a specified element in a list. It takes one mandatory argument `x`, which is the element to be searched, and two optional arguments `start` and `end`, which define the search range within the list. Here's an explanation with an example:\n",
    "\n",
    "### Example of `index`:\n",
    "\n",
    "```python\n",
    "numbers = [10, 20, 30, 20, 40, 50]\n",
    "index_20 = numbers.index(20)\n",
    "print(index_20)\n",
    "# Output: 1\n",
    "```\n",
    "\n",
    "In this example, the `index` method is used to find the index of the first occurrence of the element `20` in the `numbers` list. The result is `1`, which is the index where `20` is first found.\n",
    "\n",
    "### Pros and Cons of `index`:\n",
    "\n",
    "#### Pros:\n",
    "1. **Returns Index:** `index` returns the index of the first occurrence of the specified element.\n",
    "2. **Optional Start and End:** You can specify optional `start` and `end` parameters to limit the search range.\n",
    "\n",
    "#### Cons:\n",
    "1. **Value Error:** If the specified element is not found in the list, `index` raises a `ValueError`. It's important to check whether the element exists before using `index`.\n",
    "2. **Finds Only First Occurrence:** `index` returns the index of the first occurrence only. If you need all occurrences, you may need to use a loop or list comprehension.\n",
    "\n",
    "### Where and When to Use `index`:\n",
    "\n",
    "- **Use Case:** When you need to find the index of the first occurrence of a specific element in a list.\n",
    "- **When to Use:** Use `index` when you are confident that the element exists in the list and you want the index of its first occurrence.\n",
    "\n",
    "### Example Use Case:\n",
    "\n",
    "```python\n",
    "# Finding the index of an element and checking its existence\n",
    "colors = ['red', 'green', 'blue']\n",
    "search_color = 'green'\n",
    "\n",
    "if search_color in colors:\n",
    "    color_index = colors.index(search_color)\n",
    "    print(f\"The index of {search_color} is {color_index}\")\n",
    "else:\n",
    "    print(f\"{search_color} not found in the list\")\n",
    "# Output: The index of green is 1\n",
    "```\n",
    "\n",
    "In summary, `index` is useful when you want to find the index of the first occurrence of a specific element in a list. However, it's essential to handle the possibility of the element not being present in the list to avoid a `ValueError`."
   ]
  },
  {
   "cell_type": "markdown",
   "id": "801a67c0",
   "metadata": {},
   "source": [
    "The `count` method in Python is used to count the number of occurrences of a specified element in a list. It takes one mandatory argument `x`, which is the element to be counted. Here's an explanation with five examples:\n",
    "\n",
    "### Examples of `count`:\n",
    "\n",
    "#### Example 1: Counting Occurrences of an Element\n",
    "```python\n",
    "numbers = [1, 2, 3, 2, 4, 2, 5]\n",
    "count_2 = numbers.count(2)\n",
    "print(count_2)\n",
    "# Output: 3\n",
    "```\n",
    "\n",
    "#### Example 2: Counting Occurrences of a String\n",
    "```python\n",
    "colors = ['red', 'green', 'blue', 'green']\n",
    "count_green = colors.count('green')\n",
    "print(count_green)\n",
    "# Output: 2\n",
    "```\n",
    "\n",
    "#### Example 3: Counting Occurrences of a Character\n",
    "```python\n",
    "letters = ['a', 'b', 'c', 'b']\n",
    "count_b = letters.count('b')\n",
    "print(count_b)\n",
    "# Output: 2\n",
    "```\n",
    "\n",
    "#### Example 4: Counting Occurrences of a Nested List\n",
    "```python\n",
    "nested_list = [[1, 2], [3, 4], [1, 2]]\n",
    "count_1_2 = nested_list.count([1, 2])\n",
    "print(count_1_2)\n",
    "# Output: 2\n",
    "```\n",
    "\n",
    "#### Example 5: Counting Occurrences of an Element Not Present\n",
    "```python\n",
    "fruits = ['apple', 'banana', 'orange']\n",
    "count_cherry = fruits.count('cherry')\n",
    "print(count_cherry)\n",
    "# Output: 0\n",
    "```\n",
    "\n",
    "### Pros and Cons of `count`:\n",
    "\n",
    "#### Pros:\n",
    "1. **Returns Count:** `count` returns the number of occurrences of the specified element.\n",
    "2. **Straightforward:** It provides a straightforward way to count occurrences without the need for loops or list comprehensions.\n",
    "\n",
    "#### Cons:\n",
    "1. **Single Element:** `count` counts the occurrences of a single element only. If you need to count multiple elements, other methods may be more appropriate.\n",
    "2. **No Range Specification:** Unlike `index`, `count` does not support specifying a range for the search.\n",
    "\n",
    "### Where and When to Use `count`:\n",
    "\n",
    "- **Use Case:** When you need to count the occurrences of a specific element in a list.\n",
    "- **When to Use:** Use `count` when you are interested in the number of times a particular element appears in the list.\n",
    "\n",
    "### Example Use Case:\n",
    "\n",
    "```python\n",
    "# Counting occurrences and taking action based on count\n",
    "grades = ['A', 'B', 'C', 'A', 'B', 'A']\n",
    "count_a = grades.count('A')\n",
    "\n",
    "if count_a >= 2:\n",
    "    print(\"Student has achieved excellence!\")\n",
    "else:\n",
    "    print(\"Student needs improvement.\")\n",
    "# Output: Student has achieved excellence!\n",
    "```\n",
    "\n",
    "In summary, `count` is a useful method when you want to determine the number of occurrences of a specific element in a list. It's a straightforward way to obtain this count without using explicit loops."
   ]
  },
  {
   "cell_type": "markdown",
   "id": "af7bb147",
   "metadata": {},
   "source": [
    "The `sort` method in Python is used to sort the elements of a list in ascending order. It can take three optional arguments: `key`, `reverse`, and `*`. Here's an explanation of the arguments and how to use them:\n",
    "\n",
    "### Syntax:\n",
    "\n",
    "```python\n",
    "list.sort(*, key=None, reverse=False)\n",
    "```\n",
    "\n",
    "- `*`: The asterisk (*) denotes that it's a positional-only parameter, meaning you must use the correct position for these arguments.\n",
    "\n",
    "- `key` (optional): A function to execute to decide the order. The elements will be sorted based on the result of this function. By default, it's set to `None`, meaning the elements are sorted based on their natural order.\n",
    "\n",
    "- `reverse` (optional): A Boolean value. If `True`, the list is sorted in descending order. If `False` (default), the list is sorted in ascending order.\n",
    "\n",
    "### Examples:\n",
    "\n",
    "#### Example 1: Sorting in Ascending Order (Default)\n",
    "```python\n",
    "numbers = [4, 2, 7, 1, 9]\n",
    "numbers.sort()\n",
    "print(numbers)\n",
    "# Output: [1, 2, 4, 7, 9]\n",
    "```\n",
    "\n",
    "#### Example 2: Sorting in Descending Order\n",
    "```python\n",
    "numbers = [4, 2, 7, 1, 9]\n",
    "numbers.sort(reverse=True)\n",
    "print(numbers)\n",
    "# Output: [9, 7, 4, 2, 1]\n",
    "```\n",
    "\n",
    "#### Example 3: Sorting with a Key Function\n",
    "```python\n",
    "words = ['apple', 'banana', 'kiwi', 'orange']\n",
    "words.sort(key=len)\n",
    "print(words)\n",
    "# Output: ['kiwi', 'apple', 'banana', 'orange']\n",
    "```\n",
    "\n",
    "#### Example 4: Sorting a List of Tuples\n",
    "```python\n",
    "tuples = [(1, 3), (2, 1), (0, 5)]\n",
    "tuples.sort(key=lambda x: x[1])\n",
    "print(tuples)\n",
    "# Output: [(2, 1), (1, 3), (0, 5)]\n",
    "```\n",
    "\n",
    "#### Example 5: Sorting in Descending Order with Custom Key\n",
    "```python\n",
    "words = ['apple', 'banana', 'kiwi', 'orange']\n",
    "words.sort(key=len, reverse=True)\n",
    "print(words)\n",
    "# Output: ['banana', 'orange', 'apple', 'kiwi']\n",
    "```\n",
    "\n",
    "### Pros and Cons of `sort`:\n",
    "\n",
    "#### Pros:\n",
    "1. **In-Place Sorting:** `sort` performs in-place sorting, meaning it modifies the original list directly.\n",
    "2. **Efficiency:** Sorting in-place can be more memory-efficient than creating a sorted copy of the list.\n",
    "\n",
    "#### Cons:\n",
    "1. **Original List Modified:** The original list is modified, and the order of the elements is changed.\n",
    "2. **Limited Functionality:** While powerful, `sort` might not be suitable for complex sorting requirements that require more flexibility.\n",
    "\n",
    "### Where and When to Use `sort`:\n",
    "\n",
    "- **Use Case:** When you need to sort a list of comparable elements in either ascending or descending order.\n",
    "- **When to Use:** Use `sort` when you want to modify the original list directly and don't need to preserve the original order.\n",
    "\n",
    "In summary, `sort` is a handy method for in-place sorting of lists, providing a convenient way to order elements based on their natural order or a custom key function."
   ]
  },
  {
   "cell_type": "markdown",
   "id": "2bf45d5e",
   "metadata": {},
   "source": [
    "The `reverse` method in Python is used to reverse the order of elements in a list. It doesn't take any arguments. Here's an explanation of the `reverse` method:\n",
    "\n",
    "### Syntax:\n",
    "\n",
    "```python\n",
    "list.reverse()\n",
    "```\n",
    "\n",
    "### Example:\n",
    "\n",
    "```python\n",
    "numbers = [1, 2, 3, 4, 5]\n",
    "numbers.reverse()\n",
    "print(numbers)\n",
    "# Output: [5, 4, 3, 2, 1]\n",
    "```\n",
    "\n",
    "In this example, the `reverse` method is called on the `numbers` list, and it reverses the order of the elements in-place.\n",
    "\n",
    "### Pros and Cons of `reverse`:\n",
    "\n",
    "#### Pros:\n",
    "1. **In-Place Reversal:** `reverse` performs in-place reversal, meaning it modifies the original list directly.\n",
    "2. **Simple to Use:** The method is simple to use, requiring no additional arguments.\n",
    "\n",
    "#### Cons:\n",
    "1. **Original List Modified:** The original list is modified, and the order of the elements is changed.\n",
    "\n",
    "### Where and When to Use `reverse`:\n",
    "\n",
    "- **Use Case:** When you need to reverse the order of elements in a list.\n",
    "- **When to Use:** Use `reverse` when you want to modify the original list directly and don't need to preserve the original order.\n",
    "\n",
    "### Example Use Case:\n",
    "\n",
    "```python\n",
    "# Reversing a list of characters\n",
    "characters = ['a', 'b', 'c', 'd']\n",
    "characters.reverse()\n",
    "print(characters)\n",
    "# Output: ['d', 'c', 'b', 'a']\n",
    "```\n",
    "\n",
    "In summary, `reverse` is a useful method for in-place reversal of lists, providing a straightforward way to change the order of elements within the list."
   ]
  },
  {
   "cell_type": "markdown",
   "id": "772a67c7",
   "metadata": {},
   "source": [
    "The `copy` method in Python is used to create a shallow copy of a list. It returns a new list containing the same elements as the original list. Here's an explanation of the `copy` method:\n",
    "\n",
    "### Syntax:\n",
    "\n",
    "```python\n",
    "new_list = list.copy()\n",
    "```\n",
    "\n",
    "### Example:\n",
    "\n",
    "```python\n",
    "original_list = [1, 2, 3, 4, 5]\n",
    "copied_list = original_list.copy()\n",
    "print(copied_list)\n",
    "# Output: [1, 2, 3, 4, 5]\n",
    "```\n",
    "\n",
    "In this example, the `copy` method is called on the `original_list` to create a new list `copied_list` with the same elements.\n",
    "\n",
    "### Pros and Cons of `copy`:\n",
    "\n",
    "#### Pros:\n",
    "1. **Creates a New List:** `copy` creates a new list with the same elements as the original list, allowing modifications to one list without affecting the other.\n",
    "2. **Shallow Copy:** It creates a shallow copy, meaning that if the list contains nested objects (e.g., other lists), the references to those objects will be copied, but the objects themselves will not be duplicated.\n",
    "\n",
    "#### Cons:\n",
    "1. **Shallow Copy Limitation:** While useful for simple lists, a shallow copy might not be sufficient if the list contains complex nested structures that need a deep copy.\n",
    "\n",
    "### Where and When to Use `copy`:\n",
    "\n",
    "- **Use Case:** When you need to create an independent copy of a list.\n",
    "- **When to Use:** Use `copy` when you want a new list with the same elements as the original list and need to avoid modifying the original list.\n",
    "\n",
    "### Example Use Case:\n",
    "\n",
    "```python\n",
    "# Creating an independent copy for modification\n",
    "original_numbers = [1, 2, 3, 4, 5]\n",
    "modified_numbers = original_numbers.copy()\n",
    "\n",
    "# Modifying the copied list\n",
    "modified_numbers.append(6)\n",
    "\n",
    "# Original list remains unchanged\n",
    "print(original_numbers)  # Output: [1, 2, 3, 4, 5]\n",
    "print(modified_numbers)  # Output: [1, 2, 3, 4, 5, 6]\n",
    "```\n",
    "\n",
    "In summary, `copy` is a useful method for creating a new list with the same elements as the original list, providing independence for modifications. Keep in mind that it creates a shallow copy, and if the list contains nested structures, modifications to those structures may affect both the original and copied lists."
   ]
  },
  {
   "cell_type": "code",
   "execution_count": 60,
   "id": "cb18cf2b",
   "metadata": {},
   "outputs": [
    {
     "name": "stdout",
     "output_type": "stream",
     "text": [
      "Hey Jay is going to pay the bill\n"
     ]
    }
   ],
   "source": [
    "### create a program to slect random name from a list to pay the bill\n",
    "import random\n",
    "name = [ 'Amanda', 'Jay', 'Tamara', 'Abdullah', 'Anna', 'Abdul', 'May', 'Jai', 'Tara', 'Rohan', 'Ana', 'Ajay',\n",
    "         'Aisha', 'Ram', 'Alisha', 'Sanjay', 'Anya', 'Ravi', 'Lila', 'Arman', 'Amara', 'Sandeep', 'Fatima', 'Amit',\n",
    "         'Anika', 'Vijay', 'Anita', 'Rahul', 'Trisha', 'Ira', 'Arya', 'Ibrahim', 'Anjali', 'Ashwin', 'Jasmin'\n",
    "         'Kiran', 'Priya', 'Krish', 'Asha', 'Arjun', 'Ida', 'Rajesh', 'Riya', 'Dev', 'Mira', 'Arun', 'Shyla', 'Deepak', 'Maran', 'Anand']\n",
    "random_index = random.randint(0,len(name)-1)\n",
    "random_name  = name[random_index]\n",
    "print(f'Hey {random_name} is going to pay the bill')"
   ]
  },
  {
   "cell_type": "code",
   "execution_count": 58,
   "id": "fd879bfb",
   "metadata": {},
   "outputs": [
    {
     "name": "stdout",
     "output_type": "stream",
     "text": [
      "Hey Anya is going to pay the bill\n"
     ]
    }
   ],
   "source": [
    "import random\n",
    "\n",
    "names = [\"Amanda\", \"Jay\", \"Tamara\", \"Abdullah\", \"Anna\", \"Abdul\", \"May\", \"Jai\", \"Tara\", \"Rohan\", \"Ana\", \"Ajay\",\n",
    "         \"Aisha\", \"Ram\", \"Alisha\", \"Sanjay\", \"Anya\", \"Ravi\", \"Lila\", \"Arman\", \"Amara\", \"Sandeep\", \"Fatima\", \"Amit\",\n",
    "         \"Anika\", \"Vijay\", \"Anita\", \"Rahul\", \"Trisha\", \"Ira\", \"Arya\", \"Ibrahim\", \"Anjali\", \"Ashwin\", \"Jasmin\",\n",
    "         \"Kiran\", \"Priya\", \"Krish\", \"Asha\", \"Arjun\", \"Ida\", \"Rajesh\", \"Riya\", \"Dev\", \"Mira\", \"Arun\", \"Shyla\", \"Deepak\", \"Maran\", \"Anand\"]\n",
    "\n",
    "random_name = random.choice(names)\n",
    "print(f'Hey {random_name} is going to pay the bill')\n"
   ]
  },
  {
   "cell_type": "code",
   "execution_count": 59,
   "id": "883847ef",
   "metadata": {},
   "outputs": [
    {
     "name": "stdout",
     "output_type": "stream",
     "text": [
      "Hey Mira is going to pay the bill\n"
     ]
    }
   ],
   "source": [
    "import random\n",
    "\n",
    "names = [\"Amanda\", \"Jay\", \"Tamara\", \"Abdullah\", \"Anna\", \"Abdul\", \"May\", \"Jai\", \"Tara\", \"Rohan\", \"Ana\", \"Ajay\",\n",
    "         \"Aisha\", \"Ram\", \"Alisha\", \"Sanjay\", \"Anya\", \"Ravi\", \"Lila\", \"Arman\", \"Amara\", \"Sandeep\", \"Fatima\", \"Amit\",\n",
    "         \"Anika\", \"Vijay\", \"Anita\", \"Rahul\", \"Trisha\", \"Ira\", \"Arya\", \"Ibrahim\", \"Anjali\", \"Ashwin\", \"Jasmin\",\n",
    "         \"Kiran\", \"Priya\", \"Krish\", \"Asha\", \"Arjun\", \"Ida\", \"Rajesh\", \"Riya\", \"Dev\", \"Mira\", \"Arun\", \"Shyla\", \"Deepak\", \"Maran\", \"Anand\"]\n",
    "\n",
    "random_index = random.randint(0, len(names) - 1)\n",
    "random_name = names[random_index]\n",
    "\n",
    "print(f'Hey {random_name} is going to pay the bill')\n"
   ]
  },
  {
   "cell_type": "code",
   "execution_count": 61,
   "id": "ce504f61",
   "metadata": {},
   "outputs": [],
   "source": [
    "### mentor sol"
   ]
  },
  {
   "cell_type": "code",
   "execution_count": null,
   "id": "757ddbf1",
   "metadata": {},
   "outputs": [],
   "source": [
    "\n",
    "names = [\"Amanda\", \"Jay\", \"Tamara\", \"Abdullah\", \"Anna\", \"Abdul\", \"May\", \"Jai\", \"Tara\", \"Rohan\", \"Ana\", \"Ajay\",\n",
    "         \"Aisha\", \"Ram\", \"Alisha\", \"Sanjay\", \"Anya\", \"Ravi\", \"Lila\", \"Arman\", \"Amara\", \"Sandeep\", \"Fatima\", \"Amit\",\n",
    "         \"Anika\", \"Vijay\", \"Anita\", \"Rahul\", \"Trisha\", \"Ira\", \"Arya\", \"Ibrahim\", \"Anjali\", \"Ashwin\", \"Jasmin\",\n",
    "         \"Kiran\", \"Priya\", \"Krish\", \"Asha\", \"Arjun\", \"Ida\", \"Rajesh\", \"Riya\", \"Dev\", \"Mira\", \"Arun\", \"Shyla\", \"Deepak\", \"Maran\", \"Anand\"]\n"
   ]
  },
  {
   "cell_type": "code",
   "execution_count": 64,
   "id": "ccf04f48",
   "metadata": {},
   "outputs": [
    {
     "ename": "AttributeError",
     "evalue": "'list' object has no attribute 'split'",
     "output_type": "error",
     "traceback": [
      "\u001b[1;31m---------------------------------------------------------------------------\u001b[0m",
      "\u001b[1;31mAttributeError\u001b[0m                            Traceback (most recent call last)",
      "Cell \u001b[1;32mIn[64], line 6\u001b[0m\n\u001b[0;32m      1\u001b[0m names \u001b[38;5;241m=\u001b[39m [\u001b[38;5;124m\"\u001b[39m\u001b[38;5;124mAmanda\u001b[39m\u001b[38;5;124m\"\u001b[39m, \u001b[38;5;124m\"\u001b[39m\u001b[38;5;124mJay\u001b[39m\u001b[38;5;124m\"\u001b[39m, \u001b[38;5;124m\"\u001b[39m\u001b[38;5;124mTamara\u001b[39m\u001b[38;5;124m\"\u001b[39m, \u001b[38;5;124m\"\u001b[39m\u001b[38;5;124mAbdullah\u001b[39m\u001b[38;5;124m\"\u001b[39m, \u001b[38;5;124m\"\u001b[39m\u001b[38;5;124mAnna\u001b[39m\u001b[38;5;124m\"\u001b[39m, \u001b[38;5;124m\"\u001b[39m\u001b[38;5;124mAbdul\u001b[39m\u001b[38;5;124m\"\u001b[39m, \u001b[38;5;124m\"\u001b[39m\u001b[38;5;124mMay\u001b[39m\u001b[38;5;124m\"\u001b[39m, \u001b[38;5;124m\"\u001b[39m\u001b[38;5;124mJai\u001b[39m\u001b[38;5;124m\"\u001b[39m, \u001b[38;5;124m\"\u001b[39m\u001b[38;5;124mTara\u001b[39m\u001b[38;5;124m\"\u001b[39m, \u001b[38;5;124m\"\u001b[39m\u001b[38;5;124mRohan\u001b[39m\u001b[38;5;124m\"\u001b[39m, \u001b[38;5;124m\"\u001b[39m\u001b[38;5;124mAna\u001b[39m\u001b[38;5;124m\"\u001b[39m, \u001b[38;5;124m\"\u001b[39m\u001b[38;5;124mAjay\u001b[39m\u001b[38;5;124m\"\u001b[39m,\n\u001b[0;32m      2\u001b[0m          \u001b[38;5;124m\"\u001b[39m\u001b[38;5;124mAisha\u001b[39m\u001b[38;5;124m\"\u001b[39m, \u001b[38;5;124m\"\u001b[39m\u001b[38;5;124mRam\u001b[39m\u001b[38;5;124m\"\u001b[39m, \u001b[38;5;124m\"\u001b[39m\u001b[38;5;124mAlisha\u001b[39m\u001b[38;5;124m\"\u001b[39m, \u001b[38;5;124m\"\u001b[39m\u001b[38;5;124mSanjay\u001b[39m\u001b[38;5;124m\"\u001b[39m, \u001b[38;5;124m\"\u001b[39m\u001b[38;5;124mAnya\u001b[39m\u001b[38;5;124m\"\u001b[39m, \u001b[38;5;124m\"\u001b[39m\u001b[38;5;124mRavi\u001b[39m\u001b[38;5;124m\"\u001b[39m, \u001b[38;5;124m\"\u001b[39m\u001b[38;5;124mLila\u001b[39m\u001b[38;5;124m\"\u001b[39m, \u001b[38;5;124m\"\u001b[39m\u001b[38;5;124mArman\u001b[39m\u001b[38;5;124m\"\u001b[39m, \u001b[38;5;124m\"\u001b[39m\u001b[38;5;124mAmara\u001b[39m\u001b[38;5;124m\"\u001b[39m, \u001b[38;5;124m\"\u001b[39m\u001b[38;5;124mSandeep\u001b[39m\u001b[38;5;124m\"\u001b[39m, \u001b[38;5;124m\"\u001b[39m\u001b[38;5;124mFatima\u001b[39m\u001b[38;5;124m\"\u001b[39m, \u001b[38;5;124m\"\u001b[39m\u001b[38;5;124mAmit\u001b[39m\u001b[38;5;124m\"\u001b[39m,\n\u001b[0;32m      3\u001b[0m          \u001b[38;5;124m\"\u001b[39m\u001b[38;5;124mAnika\u001b[39m\u001b[38;5;124m\"\u001b[39m, \u001b[38;5;124m\"\u001b[39m\u001b[38;5;124mVijay\u001b[39m\u001b[38;5;124m\"\u001b[39m, \u001b[38;5;124m\"\u001b[39m\u001b[38;5;124mAnita\u001b[39m\u001b[38;5;124m\"\u001b[39m, \u001b[38;5;124m\"\u001b[39m\u001b[38;5;124mRahul\u001b[39m\u001b[38;5;124m\"\u001b[39m, \u001b[38;5;124m\"\u001b[39m\u001b[38;5;124mTrisha\u001b[39m\u001b[38;5;124m\"\u001b[39m, \u001b[38;5;124m\"\u001b[39m\u001b[38;5;124mIra\u001b[39m\u001b[38;5;124m\"\u001b[39m, \u001b[38;5;124m\"\u001b[39m\u001b[38;5;124mArya\u001b[39m\u001b[38;5;124m\"\u001b[39m, \u001b[38;5;124m\"\u001b[39m\u001b[38;5;124mIbrahim\u001b[39m\u001b[38;5;124m\"\u001b[39m, \u001b[38;5;124m\"\u001b[39m\u001b[38;5;124mAnjali\u001b[39m\u001b[38;5;124m\"\u001b[39m, \u001b[38;5;124m\"\u001b[39m\u001b[38;5;124mAshwin\u001b[39m\u001b[38;5;124m\"\u001b[39m, \u001b[38;5;124m\"\u001b[39m\u001b[38;5;124mJasmin\u001b[39m\u001b[38;5;124m\"\u001b[39m,\n\u001b[0;32m      4\u001b[0m          \u001b[38;5;124m\"\u001b[39m\u001b[38;5;124mKiran\u001b[39m\u001b[38;5;124m\"\u001b[39m, \u001b[38;5;124m\"\u001b[39m\u001b[38;5;124mPriya\u001b[39m\u001b[38;5;124m\"\u001b[39m, \u001b[38;5;124m\"\u001b[39m\u001b[38;5;124mKrish\u001b[39m\u001b[38;5;124m\"\u001b[39m, \u001b[38;5;124m\"\u001b[39m\u001b[38;5;124mAsha\u001b[39m\u001b[38;5;124m\"\u001b[39m, \u001b[38;5;124m\"\u001b[39m\u001b[38;5;124mArjun\u001b[39m\u001b[38;5;124m\"\u001b[39m, \u001b[38;5;124m\"\u001b[39m\u001b[38;5;124mIda\u001b[39m\u001b[38;5;124m\"\u001b[39m, \u001b[38;5;124m\"\u001b[39m\u001b[38;5;124mRajesh\u001b[39m\u001b[38;5;124m\"\u001b[39m, \u001b[38;5;124m\"\u001b[39m\u001b[38;5;124mRiya\u001b[39m\u001b[38;5;124m\"\u001b[39m, \u001b[38;5;124m\"\u001b[39m\u001b[38;5;124mDev\u001b[39m\u001b[38;5;124m\"\u001b[39m, \u001b[38;5;124m\"\u001b[39m\u001b[38;5;124mMira\u001b[39m\u001b[38;5;124m\"\u001b[39m, \u001b[38;5;124m\"\u001b[39m\u001b[38;5;124mArun\u001b[39m\u001b[38;5;124m\"\u001b[39m, \u001b[38;5;124m\"\u001b[39m\u001b[38;5;124mShyla\u001b[39m\u001b[38;5;124m\"\u001b[39m, \u001b[38;5;124m\"\u001b[39m\u001b[38;5;124mDeepak\u001b[39m\u001b[38;5;124m\"\u001b[39m, \u001b[38;5;124m\"\u001b[39m\u001b[38;5;124mMaran\u001b[39m\u001b[38;5;124m\"\u001b[39m, \u001b[38;5;124m\"\u001b[39m\u001b[38;5;124mAnand\u001b[39m\u001b[38;5;124m\"\u001b[39m]\n\u001b[1;32m----> 6\u001b[0m names \u001b[38;5;241m=\u001b[39m names\u001b[38;5;241m.\u001b[39msplit(\u001b[38;5;124m\"\u001b[39m\u001b[38;5;124m,\u001b[39m\u001b[38;5;124m\"\u001b[39m)\n\u001b[0;32m      8\u001b[0m \u001b[38;5;28;01mimport\u001b[39;00m \u001b[38;5;21;01mrandom\u001b[39;00m\n\u001b[0;32m     10\u001b[0m \u001b[38;5;66;03m# get tot num of items\u001b[39;00m\n",
      "\u001b[1;31mAttributeError\u001b[0m: 'list' object has no attribute 'split'"
     ]
    }
   ],
   "source": [
    "names = [\"Amanda\", \"Jay\", \"Tamara\", \"Abdullah\", \"Anna\", \"Abdul\", \"May\", \"Jai\", \"Tara\", \"Rohan\", \"Ana\", \"Ajay\",\n",
    "         \"Aisha\", \"Ram\", \"Alisha\", \"Sanjay\", \"Anya\", \"Ravi\", \"Lila\", \"Arman\", \"Amara\", \"Sandeep\", \"Fatima\", \"Amit\",\n",
    "         \"Anika\", \"Vijay\", \"Anita\", \"Rahul\", \"Trisha\", \"Ira\", \"Arya\", \"Ibrahim\", \"Anjali\", \"Ashwin\", \"Jasmin\",\n",
    "         \"Kiran\", \"Priya\", \"Krish\", \"Asha\", \"Arjun\", \"Ida\", \"Rajesh\", \"Riya\", \"Dev\", \"Mira\", \"Arun\", \"Shyla\", \"Deepak\", \"Maran\", \"Anand\"]\n",
    "\n",
    "names = names.split(\",\")\n",
    "\n",
    "import random\n",
    "\n",
    "# get tot num of items\n",
    "\n",
    "num_items = len(names)\n",
    "\n",
    "# generate random no between o and last index\n",
    "random_choice = random.randint(0, num_items-1)\n",
    "# pick out random person from list of names using the random number\n",
    "\n",
    "person_who_will_pay = names[ random_choice]\n",
    "\n",
    "print(person_who_will_pay + \" is going to buy the meal today\")"
   ]
  },
  {
   "cell_type": "code",
   "execution_count": 65,
   "id": "5e15ca15",
   "metadata": {},
   "outputs": [
    {
     "name": "stdout",
     "output_type": "stream",
     "text": [
      "Jay is going to buy the meal today\n"
     ]
    }
   ],
   "source": [
    "names = [\"Amanda\", \"Jay\", \"Tamara\", \"Abdullah\", \"Anna\", \"Abdul\", \"May\", \"Jai\", \"Tara\", \"Rohan\", \"Ana\", \"Ajay\",\n",
    "         \"Aisha\", \"Ram\", \"Alisha\", \"Sanjay\", \"Anya\", \"Ravi\", \"Lila\", \"Arman\", \"Amara\", \"Sandeep\", \"Fatima\", \"Amit\",\n",
    "         \"Anika\", \"Vijay\", \"Anita\", \"Rahul\", \"Trisha\", \"Ira\", \"Arya\", \"Ibrahim\", \"Anjali\", \"Ashwin\", \"Jasmin\",\n",
    "         \"Kiran\", \"Priya\", \"Krish\", \"Asha\", \"Arjun\", \"Ida\", \"Rajesh\", \"Riya\", \"Dev\", \"Mira\", \"Arun\", \"Shyla\", \"Deepak\", \"Maran\", \"Anand\"]\n",
    "\n",
    "import random\n",
    "\n",
    "# get total number of items\n",
    "num_items = len(names)\n",
    "\n",
    "# generate a random number between 0 and the last index\n",
    "random_choice = random.randint(0, num_items - 1)\n",
    "\n",
    "# pick out a random person from the list of names using the random number\n",
    "person_who_will_pay = names[random_choice]\n",
    "\n",
    "print(person_who_will_pay + \" is going to buy the meal today\")\n"
   ]
  },
  {
   "cell_type": "markdown",
   "id": "9dff5177",
   "metadata": {},
   "source": [
    "index out of range err - "
   ]
  },
  {
   "cell_type": "code",
   "execution_count": 66,
   "id": "4c362c2d",
   "metadata": {},
   "outputs": [
    {
     "ename": "IndexError",
     "evalue": "list index out of range",
     "output_type": "error",
     "traceback": [
      "\u001b[1;31m---------------------------------------------------------------------------\u001b[0m",
      "\u001b[1;31mIndexError\u001b[0m                                Traceback (most recent call last)",
      "Cell \u001b[1;32mIn[66], line 1\u001b[0m\n\u001b[1;32m----> 1\u001b[0m \u001b[38;5;28mprint\u001b[39m(names[\u001b[38;5;241m51\u001b[39m])\n",
      "\u001b[1;31mIndexError\u001b[0m: list index out of range"
     ]
    }
   ],
   "source": [
    "print(names[51])"
   ]
  },
  {
   "cell_type": "code",
   "execution_count": 67,
   "id": "561b15c8",
   "metadata": {},
   "outputs": [
    {
     "ename": "IndexError",
     "evalue": "list index out of range",
     "output_type": "error",
     "traceback": [
      "\u001b[1;31m---------------------------------------------------------------------------\u001b[0m",
      "\u001b[1;31mIndexError\u001b[0m                                Traceback (most recent call last)",
      "Cell \u001b[1;32mIn[67], line 1\u001b[0m\n\u001b[1;32m----> 1\u001b[0m \u001b[38;5;28mprint\u001b[39m(names[\u001b[38;5;241m50\u001b[39m])\n",
      "\u001b[1;31mIndexError\u001b[0m: list index out of range"
     ]
    }
   ],
   "source": [
    "print(names[50])"
   ]
  },
  {
   "cell_type": "code",
   "execution_count": 68,
   "id": "218bd81e",
   "metadata": {},
   "outputs": [
    {
     "name": "stdout",
     "output_type": "stream",
     "text": [
      "Anand\n"
     ]
    }
   ],
   "source": [
    "print(names[49])"
   ]
  },
  {
   "cell_type": "code",
   "execution_count": 69,
   "id": "8388304c",
   "metadata": {},
   "outputs": [],
   "source": [
    "#dirty_dozen = [\"Strawberrie\", \"Spinach\", \"Kale\", \"Nectarines\", \"Apples\", \"Grapes\", \"Peaches\",\n",
    "#            \"Cherries\", \"Pears\", \"Tomatoes\", \"Celery\", \"Potatoes\"]\n",
    "# relation between these 2 list are both are fertiliser used products\n",
    "fruits = [\"Strawberries\", \"Nectarines\",\"Apples\", \"Grapes\",\"Peaches\",\"Cherries\",'Pears']\n",
    "vegetables = [\"Spinach\", \"Kale\", \"Tomatoes\", \"Celery\", \"Potatoes\"]\n",
    "\n",
    "dirty_dozen = [fruits, vegetables]"
   ]
  },
  {
   "cell_type": "code",
   "execution_count": 70,
   "id": "dbab5378",
   "metadata": {},
   "outputs": [
    {
     "data": {
      "text/plain": [
       "['Strawberries',\n",
       " 'Nectarines',\n",
       " 'Apples',\n",
       " 'Grapes',\n",
       " 'Peaches',\n",
       " 'Cherries',\n",
       " 'Pears']"
      ]
     },
     "execution_count": 70,
     "metadata": {},
     "output_type": "execute_result"
    }
   ],
   "source": [
    "dirty_dozen[0]"
   ]
  },
  {
   "cell_type": "code",
   "execution_count": 71,
   "id": "0a11aa0c",
   "metadata": {},
   "outputs": [
    {
     "data": {
      "text/plain": [
       "'Nectarines'"
      ]
     },
     "execution_count": 71,
     "metadata": {},
     "output_type": "execute_result"
    }
   ],
   "source": [
    "dirty_dozen[0][1]"
   ]
  },
  {
   "cell_type": "code",
   "execution_count": 72,
   "id": "1d3859cf",
   "metadata": {},
   "outputs": [
    {
     "name": "stdout",
     "output_type": "stream",
     "text": [
      "['apple', 'melons', 'lemons']\n"
     ]
    }
   ],
   "source": [
    "fruits = [\"apple\",\"pears\"]\n",
    "fruits[-1] = \"melons\"\n",
    "fruits.append(\"lemons\")\n",
    "print(fruits)"
   ]
  },
  {
   "cell_type": "code",
   "execution_count": 78,
   "id": "02cf10fe",
   "metadata": {},
   "outputs": [
    {
     "name": "stdout",
     "output_type": "stream",
     "text": [
      "Hiding your treasure  X marks the spot.\n",
      "b3\n"
     ]
    },
    {
     "ename": "TypeError",
     "evalue": "unsupported operand type(s) for -: 'str' and 'int'",
     "output_type": "error",
     "traceback": [
      "\u001b[1;31m---------------------------------------------------------------------------\u001b[0m",
      "\u001b[1;31mTypeError\u001b[0m                                 Traceback (most recent call last)",
      "Cell \u001b[1;32mIn[78], line 15\u001b[0m\n\u001b[0;32m     13\u001b[0m abc     \u001b[38;5;241m=\u001b[39m [\u001b[38;5;124m\"\u001b[39m\u001b[38;5;124ma\u001b[39m\u001b[38;5;124m\"\u001b[39m,\u001b[38;5;124m\"\u001b[39m\u001b[38;5;124mb\u001b[39m\u001b[38;5;124m\"\u001b[39m,\u001b[38;5;124m\"\u001b[39m\u001b[38;5;124mc\u001b[39m\u001b[38;5;124m\"\u001b[39m]\n\u001b[0;32m     14\u001b[0m letter_index \u001b[38;5;241m=\u001b[39m abc\u001b[38;5;241m.\u001b[39mindex(letter)\n\u001b[1;32m---> 15\u001b[0m number_index \u001b[38;5;241m=\u001b[39m \u001b[38;5;28mint\u001b[39m(position[\u001b[38;5;241m1\u001b[39m]\u001b[38;5;241m-\u001b[39m\u001b[38;5;241m1\u001b[39m)\n\u001b[0;32m     16\u001b[0m \u001b[38;5;28mmap\u001b[39m[number_index][letter_index] \u001b[38;5;241m=\u001b[39m \u001b[38;5;124m\"\u001b[39m\u001b[38;5;124mX\u001b[39m\u001b[38;5;124m\"\u001b[39m\n\u001b[0;32m     18\u001b[0m \u001b[38;5;28mprint\u001b[39m(\u001b[38;5;124mf\u001b[39m\u001b[38;5;124m\"\u001b[39m\u001b[38;5;132;01m{\u001b[39;00mline1\u001b[38;5;132;01m}\u001b[39;00m\u001b[38;5;130;01m\\n\u001b[39;00m\u001b[38;5;132;01m{\u001b[39;00mline2\u001b[38;5;132;01m}\u001b[39;00m\u001b[38;5;130;01m\\n\u001b[39;00m\u001b[38;5;132;01m{\u001b[39;00mline3\u001b[38;5;132;01m}\u001b[39;00m\u001b[38;5;124m\"\u001b[39m)\n",
      "\u001b[1;31mTypeError\u001b[0m: unsupported operand type(s) for -: 'str' and 'int'"
     ]
    }
   ],
   "source": [
    "# Treasure Map Code\n",
    "\n",
    "# Create a 5x5 grid (you can modify the size if needed)\n",
    "line1 =  [\"⬜️\", \"⬜️\", \"⬜️\"]\n",
    "line2 =  [\"⬜️\", \"⬜️\", \"⬜️\"]\n",
    "line3 =  [\"⬜️\", \"⬜️\", \"⬜️\"]\n",
    "\n",
    "map = [line1, line2, line3]\n",
    "print(\"Hiding your treasure  X marks the spot.\")\n",
    "position = input()\n",
    "\n",
    "letter  = position[0].lower()\n",
    "abc     = [\"a\",\"b\",\"c\"]\n",
    "letter_index = abc.index(letter)\n",
    "number_index = int(position[1]-1)\n",
    "map[number_index][letter_index] = \"X\"\n",
    "\n",
    "print(f\"{line1}\\n{line2}\\n{line3}\")\n",
    "\n"
   ]
  },
  {
   "cell_type": "code",
   "execution_count": 80,
   "id": "83d0b0b8",
   "metadata": {},
   "outputs": [
    {
     "name": "stdout",
     "output_type": "stream",
     "text": [
      "What do you choose? Type 0 for Rock, 1 for Paper or 2 for Scissors.\n",
      "3\n",
      "Computer chose 2\n"
     ]
    },
    {
     "ename": "TypeError",
     "evalue": "'>=' not supported between instances of 'str' and 'int'",
     "output_type": "error",
     "traceback": [
      "\u001b[1;31m---------------------------------------------------------------------------\u001b[0m",
      "\u001b[1;31mTypeError\u001b[0m                                 Traceback (most recent call last)",
      "Cell \u001b[1;32mIn[80], line 12\u001b[0m\n\u001b[0;32m      9\u001b[0m computer_choice \u001b[38;5;241m=\u001b[39m random\u001b[38;5;241m.\u001b[39mrandint(\u001b[38;5;241m0\u001b[39m, \u001b[38;5;241m2\u001b[39m)\n\u001b[0;32m     10\u001b[0m \u001b[38;5;28mprint\u001b[39m(\u001b[38;5;124mf\u001b[39m\u001b[38;5;124m\"\u001b[39m\u001b[38;5;124mComputer chose \u001b[39m\u001b[38;5;132;01m{\u001b[39;00mcomputer_choice\u001b[38;5;132;01m}\u001b[39;00m\u001b[38;5;124m\"\u001b[39m)\n\u001b[1;32m---> 12\u001b[0m \u001b[38;5;28;01mif\u001b[39;00m user_choice \u001b[38;5;241m>\u001b[39m\u001b[38;5;241m=\u001b[39m \u001b[38;5;241m3\u001b[39m \u001b[38;5;129;01mor\u001b[39;00m user_choice \u001b[38;5;241m<\u001b[39m \u001b[38;5;241m0\u001b[39m:\n\u001b[0;32m     13\u001b[0m     \u001b[38;5;28mprint\u001b[39m(\u001b[38;5;124m\"\u001b[39m\u001b[38;5;124myou typed an invalid number, you lose!\u001b[39m\u001b[38;5;124m\"\u001b[39m)\n\u001b[0;32m     14\u001b[0m \u001b[38;5;28;01melif\u001b[39;00m user_choice \u001b[38;5;241m==\u001b[39m \u001b[38;5;241m0\u001b[39m \u001b[38;5;129;01mand\u001b[39;00m computer_choice \u001b[38;5;241m==\u001b[39m \u001b[38;5;241m2\u001b[39m:\n",
      "\u001b[1;31mTypeError\u001b[0m: '>=' not supported between instances of 'str' and 'int'"
     ]
    }
   ],
   "source": [
    "### paper scissors game \n",
    "\n",
    "import random\n",
    "\n",
    "\n",
    "\n",
    "user_choice = input(\"What do you choose? Type 0 for Rock, 1 for Paper or 2 for Scissors.\\n\")\n",
    "\n",
    "computer_choice = random.randint(0, 2)\n",
    "print(f\"Computer chose {computer_choice}\")\n",
    "\n",
    "if user_choice >= 3 or user_choice < 0:\n",
    "    print(\"you typed an invalid number, you lose!\")\n",
    "elif user_choice == 0 and computer_choice == 2:\n",
    "    print(\"You win!\")\n",
    "elif computer_choice > user_choice:\n",
    "    print(\"You loose\")\n",
    "elif computer_choice == user_choice:\n",
    "    print(\"It's a draw\")\n",
    "elif user_choice >= 3 or user_choice < 0:\n",
    "    print(\"You typed an invalid number, you lose!\")\n",
    "else:\n",
    "    print(\"you typed an invalid number, you loose!\")\n",
    "    "
   ]
  },
  {
   "cell_type": "code",
   "execution_count": null,
   "id": "5ca5c071",
   "metadata": {},
   "outputs": [],
   "source": []
  }
 ],
 "metadata": {
  "kernelspec": {
   "display_name": "Python 3 (ipykernel)",
   "language": "python",
   "name": "python3"
  },
  "language_info": {
   "codemirror_mode": {
    "name": "ipython",
    "version": 3
   },
   "file_extension": ".py",
   "mimetype": "text/x-python",
   "name": "python",
   "nbconvert_exporter": "python",
   "pygments_lexer": "ipython3",
   "version": "3.11.4"
  }
 },
 "nbformat": 4,
 "nbformat_minor": 5
}

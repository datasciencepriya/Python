{
 "cells": [
  {
   "cell_type": "markdown",
   "id": "650aa86f",
   "metadata": {},
   "source": [
    "def my_function(something):\n",
    "    #do this with something"
   ]
  },
  {
   "cell_type": "code",
   "execution_count": 1,
   "id": "b2e93d70",
   "metadata": {},
   "outputs": [],
   "source": [
    "def my_func():\n",
    "    return 3 * 2"
   ]
  },
  {
   "cell_type": "code",
   "execution_count": 2,
   "id": "a71ed4be",
   "metadata": {},
   "outputs": [
    {
     "data": {
      "text/plain": [
       "6"
      ]
     },
     "execution_count": 2,
     "metadata": {},
     "output_type": "execute_result"
    }
   ],
   "source": [
    "my_func()"
   ]
  },
  {
   "cell_type": "code",
   "execution_count": 3,
   "id": "35c8f9fa",
   "metadata": {},
   "outputs": [
    {
     "name": "stdout",
     "output_type": "stream",
     "text": [
      "Priya\n",
      "Priya\n"
     ]
    }
   ],
   "source": [
    "#fns with output\n",
    "\n",
    "def format_name(f_name, l_name):\n",
    "    print(f_name.title()) \n",
    "    print(l_name.title())\n",
    "    \n",
    "format_name(\"priya\",\"PRIYA\")"
   ]
  },
  {
   "cell_type": "code",
   "execution_count": null,
   "id": "32bf2f77",
   "metadata": {},
   "outputs": [],
   "source": [
    "\n",
    "def format_name(f_name, l_name):\n",
    "    print(f_name.title()) \n",
    "    print(l_name.title())\n",
    "    \n",
    "format_name(\"priya\",\"PRIYA\")"
   ]
  },
  {
   "cell_type": "code",
   "execution_count": 4,
   "id": "0d3ab722",
   "metadata": {},
   "outputs": [
    {
     "name": "stdout",
     "output_type": "stream",
     "text": [
      "Priya Priya\n"
     ]
    }
   ],
   "source": [
    "\n",
    "def format_name(f_name, l_name):\n",
    "    formated_f_name = (f_name.title()) \n",
    "    formated_l_name = (l_name.title())\n",
    "    \n",
    "    print(f\"{formated_f_name} {formated_l_name}\")\n",
    "    \n",
    "    \n",
    "format_name(\"priya\",\"PRIYA\")"
   ]
  },
  {
   "cell_type": "code",
   "execution_count": 5,
   "id": "4100c718",
   "metadata": {},
   "outputs": [
    {
     "name": "stdout",
     "output_type": "stream",
     "text": [
      "Priya Priya\n"
     ]
    }
   ],
   "source": [
    "def format_name(f_name, l_name):\n",
    "    formated_f_name = (f_name.title()) \n",
    "    formated_l_name = (l_name.title())\n",
    "    \n",
    "    return f\"{formated_f_name} {formated_l_name}\"\n",
    "    \n",
    "    \n",
    "print(format_name(\"priya\",\"PRIYA\"))"
   ]
  },
  {
   "cell_type": "markdown",
   "id": "d2dfa956",
   "metadata": {},
   "source": [
    "### Multiple return"
   ]
  },
  {
   "cell_type": "code",
   "execution_count": 6,
   "id": "2f7ef388",
   "metadata": {},
   "outputs": [
    {
     "name": "stdout",
     "output_type": "stream",
     "text": [
      "What is your name?priya\n",
      "Priya Priya priya\n"
     ]
    }
   ],
   "source": [
    "def format_name(f_name, l_name):\n",
    "    #if f_name == \"\" or l_name == \"\":\n",
    "    formated_f_name = (f_name.title()) \n",
    "    formated_l_name = (l_name.title())\n",
    "    \n",
    "    return f\"{formated_f_name} {formated_l_name}\"\n",
    "    \n",
    "    \n",
    "print(format_name(\"priya\",\"PRIYA\"),\n",
    "        input(\"What is your name?\"))"
   ]
  },
  {
   "cell_type": "code",
   "execution_count": 7,
   "id": "4ee7f9f3",
   "metadata": {},
   "outputs": [
    {
     "name": "stdout",
     "output_type": "stream",
     "text": [
      "What is your name?priya\n",
      "Result: Priya Priya priya\n"
     ]
    }
   ],
   "source": [
    "def format_name(f_name, l_name):\n",
    "    if f_name == \"\" or l_name == \"\":\n",
    "        return \"You didn't provide valid inputs.\"\n",
    "    formated_f_name = (f_name.title()) \n",
    "    formated_l_name = (l_name.title())\n",
    "    \n",
    "    return f\"Result: {formated_f_name} {formated_l_name}\"\n",
    "    \n",
    "    \n",
    "print(format_name(\"priya\",\"PRIYA\"),\n",
    "        input(\"What is your name?\"))"
   ]
  },
  {
   "cell_type": "markdown",
   "id": "26571faa",
   "metadata": {},
   "source": [
    "### Leap year"
   ]
  },
  {
   "cell_type": "code",
   "execution_count": 8,
   "id": "d0ae7533",
   "metadata": {},
   "outputs": [],
   "source": [
    "def is_leap(year):\n",
    "    if year % 4 == 0:\n",
    "        if year % 100 == 0:\n",
    "            if year % 400 == 0:\n",
    "                print(\"Leap year\")\n",
    "            else:\n",
    "                print(\"Not Leap Year\")\n",
    "        else:\n",
    "            print(\"Leap year\")\n",
    "    else:\n",
    "        print(\"Not Leap Year\")"
   ]
  },
  {
   "cell_type": "code",
   "execution_count": 9,
   "id": "3e6533d9",
   "metadata": {},
   "outputs": [
    {
     "name": "stdout",
     "output_type": "stream",
     "text": [
      "Leap year\n"
     ]
    }
   ],
   "source": [
    "is_leap(1592)"
   ]
  },
  {
   "cell_type": "code",
   "execution_count": 12,
   "id": "171f7207",
   "metadata": {},
   "outputs": [
    {
     "name": "stdout",
     "output_type": "stream",
     "text": [
      "1989\n",
      "3\n"
     ]
    },
    {
     "ename": "TypeError",
     "evalue": "days_in_month() takes 0 positional arguments but 2 were given",
     "output_type": "error",
     "traceback": [
      "\u001b[1;31m---------------------------------------------------------------------------\u001b[0m",
      "\u001b[1;31mTypeError\u001b[0m                                 Traceback (most recent call last)",
      "Cell \u001b[1;32mIn[12], line 11\u001b[0m\n\u001b[0;32m      9\u001b[0m year \u001b[38;5;241m=\u001b[39m \u001b[38;5;28mint\u001b[39m(\u001b[38;5;28minput\u001b[39m())\n\u001b[0;32m     10\u001b[0m month \u001b[38;5;241m=\u001b[39m\u001b[38;5;28mint\u001b[39m(\u001b[38;5;28minput\u001b[39m())\n\u001b[1;32m---> 11\u001b[0m days \u001b[38;5;241m=\u001b[39m days_in_month(year, month)\n\u001b[0;32m     12\u001b[0m \u001b[38;5;28mprint\u001b[39m(days)\n",
      "\u001b[1;31mTypeError\u001b[0m: days_in_month() takes 0 positional arguments but 2 were given"
     ]
    }
   ],
   "source": [
    "def days_in_month():\n",
    "    month_days = [31,28,31,30,31,30,31,31,30,31,30,31]\n",
    "    if month == 2 and is_leap(year):\n",
    "        return 29\n",
    "    else:\n",
    "        return month_days(month-1)\n",
    "    \n",
    "    \n",
    "year = int(input())\n",
    "month =int(input())\n",
    "days = days_in_month(year, month)\n",
    "print(days)"
   ]
  },
  {
   "cell_type": "code",
   "execution_count": null,
   "id": "e3977f75",
   "metadata": {},
   "outputs": [],
   "source": [
    "### Dcostring"
   ]
  },
  {
   "cell_type": "code",
   "execution_count": 1,
   "id": "694248a6",
   "metadata": {},
   "outputs": [
    {
     "ename": "KeyboardInterrupt",
     "evalue": "Interrupted by user",
     "output_type": "error",
     "traceback": [
      "\u001b[1;31m---------------------------------------------------------------------------\u001b[0m",
      "\u001b[1;31mKeyboardInterrupt\u001b[0m                         Traceback (most recent call last)",
      "Cell \u001b[1;32mIn[1], line 13\u001b[0m\n\u001b[0;32m      7\u001b[0m     formated_l_name \u001b[38;5;241m=\u001b[39m (l_name\u001b[38;5;241m.\u001b[39mtitle())\n\u001b[0;32m      9\u001b[0m     \u001b[38;5;28;01mreturn\u001b[39;00m \u001b[38;5;124mf\u001b[39m\u001b[38;5;124m\"\u001b[39m\u001b[38;5;124mResult: \u001b[39m\u001b[38;5;132;01m{\u001b[39;00mformated_f_name\u001b[38;5;132;01m}\u001b[39;00m\u001b[38;5;124m \u001b[39m\u001b[38;5;132;01m{\u001b[39;00mformated_l_name\u001b[38;5;132;01m}\u001b[39;00m\u001b[38;5;124m\"\u001b[39m\n\u001b[0;32m     12\u001b[0m \u001b[38;5;28mprint\u001b[39m(format_name(\u001b[38;5;124m\"\u001b[39m\u001b[38;5;124mpriya\u001b[39m\u001b[38;5;124m\"\u001b[39m,\u001b[38;5;124m\"\u001b[39m\u001b[38;5;124mPRIYA\u001b[39m\u001b[38;5;124m\"\u001b[39m),\n\u001b[1;32m---> 13\u001b[0m         \u001b[38;5;28minput\u001b[39m(\u001b[38;5;124m\"\u001b[39m\u001b[38;5;124mWhat is your name?\u001b[39m\u001b[38;5;124m\"\u001b[39m))\n",
      "File \u001b[1;32m~\\anaconda3\\Lib\\site-packages\\ipykernel\\kernelbase.py:1175\u001b[0m, in \u001b[0;36mKernel.raw_input\u001b[1;34m(self, prompt)\u001b[0m\n\u001b[0;32m   1171\u001b[0m \u001b[38;5;28;01mif\u001b[39;00m \u001b[38;5;129;01mnot\u001b[39;00m \u001b[38;5;28mself\u001b[39m\u001b[38;5;241m.\u001b[39m_allow_stdin:\n\u001b[0;32m   1172\u001b[0m     \u001b[38;5;28;01mraise\u001b[39;00m StdinNotImplementedError(\n\u001b[0;32m   1173\u001b[0m         \u001b[38;5;124m\"\u001b[39m\u001b[38;5;124mraw_input was called, but this frontend does not support input requests.\u001b[39m\u001b[38;5;124m\"\u001b[39m\n\u001b[0;32m   1174\u001b[0m     )\n\u001b[1;32m-> 1175\u001b[0m \u001b[38;5;28;01mreturn\u001b[39;00m \u001b[38;5;28mself\u001b[39m\u001b[38;5;241m.\u001b[39m_input_request(\n\u001b[0;32m   1176\u001b[0m     \u001b[38;5;28mstr\u001b[39m(prompt),\n\u001b[0;32m   1177\u001b[0m     \u001b[38;5;28mself\u001b[39m\u001b[38;5;241m.\u001b[39m_parent_ident[\u001b[38;5;124m\"\u001b[39m\u001b[38;5;124mshell\u001b[39m\u001b[38;5;124m\"\u001b[39m],\n\u001b[0;32m   1178\u001b[0m     \u001b[38;5;28mself\u001b[39m\u001b[38;5;241m.\u001b[39mget_parent(\u001b[38;5;124m\"\u001b[39m\u001b[38;5;124mshell\u001b[39m\u001b[38;5;124m\"\u001b[39m),\n\u001b[0;32m   1179\u001b[0m     password\u001b[38;5;241m=\u001b[39m\u001b[38;5;28;01mFalse\u001b[39;00m,\n\u001b[0;32m   1180\u001b[0m )\n",
      "File \u001b[1;32m~\\anaconda3\\Lib\\site-packages\\ipykernel\\kernelbase.py:1217\u001b[0m, in \u001b[0;36mKernel._input_request\u001b[1;34m(self, prompt, ident, parent, password)\u001b[0m\n\u001b[0;32m   1214\u001b[0m             \u001b[38;5;28;01mbreak\u001b[39;00m\n\u001b[0;32m   1215\u001b[0m \u001b[38;5;28;01mexcept\u001b[39;00m \u001b[38;5;167;01mKeyboardInterrupt\u001b[39;00m:\n\u001b[0;32m   1216\u001b[0m     \u001b[38;5;66;03m# re-raise KeyboardInterrupt, to truncate traceback\u001b[39;00m\n\u001b[1;32m-> 1217\u001b[0m     \u001b[38;5;28;01mraise\u001b[39;00m \u001b[38;5;167;01mKeyboardInterrupt\u001b[39;00m(\u001b[38;5;124m\"\u001b[39m\u001b[38;5;124mInterrupted by user\u001b[39m\u001b[38;5;124m\"\u001b[39m) \u001b[38;5;28;01mfrom\u001b[39;00m \u001b[38;5;28;01mNone\u001b[39;00m\n\u001b[0;32m   1218\u001b[0m \u001b[38;5;28;01mexcept\u001b[39;00m \u001b[38;5;167;01mException\u001b[39;00m:\n\u001b[0;32m   1219\u001b[0m     \u001b[38;5;28mself\u001b[39m\u001b[38;5;241m.\u001b[39mlog\u001b[38;5;241m.\u001b[39mwarning(\u001b[38;5;124m\"\u001b[39m\u001b[38;5;124mInvalid Message:\u001b[39m\u001b[38;5;124m\"\u001b[39m, exc_info\u001b[38;5;241m=\u001b[39m\u001b[38;5;28;01mTrue\u001b[39;00m)\n",
      "\u001b[1;31mKeyboardInterrupt\u001b[0m: Interrupted by user"
     ]
    }
   ],
   "source": [
    "def format_name(f_name, l_name):\n",
    "    ''' Take a first and last name and format it\n",
    "    to return the title case version of the name'''\n",
    "    if f_name == \"\" or l_name == \"\":\n",
    "        return \"You didn't provide valid inputs.\"\n",
    "    formated_f_name = (f_name.title()) \n",
    "    formated_l_name = (l_name.title())\n",
    "    \n",
    "    return f\"Result: {formated_f_name} {formated_l_name}\"\n",
    "    \n",
    "    \n",
    "print(format_name(\"priya\",\"PRIYA\"),\n",
    "        input(\"What is your name?\"))"
   ]
  },
  {
   "cell_type": "markdown",
   "id": "e42b6bb1",
   "metadata": {},
   "source": [
    "# combining dictionaries and functions"
   ]
  },
  {
   "cell_type": "code",
   "execution_count": 12,
   "id": "6b215517",
   "metadata": {},
   "outputs": [
    {
     "name": "stdout",
     "output_type": "stream",
     "text": [
      "whats the first number :6789898\n",
      "whats the second number :675687\n",
      "+\n",
      "-\n",
      "*\n",
      "/\n",
      "pick an operation from the line above:/\n",
      "6789898 / 675687 = 10.048880620760796\n"
     ]
    }
   ],
   "source": [
    "def add (n1,n2):\n",
    "    return n1+n2\n",
    "\n",
    "def sub(n1,n2):\n",
    "    return n1 - n2\n",
    "\n",
    "def mul(n1,n2):\n",
    "    return n1 * n2\n",
    "\n",
    "def divide(n1,n2):\n",
    "    return (n1 / n2)\n",
    "\n",
    "# create a dict\n",
    "operations ={\n",
    "    \"+\":add,\n",
    "    \"-\":sub,\n",
    "    \"*\": mul,\n",
    "    \"/\":divide\n",
    "    \n",
    "}\n",
    "\n",
    "num1 = int(input(\"whats the first number :\"))\n",
    "num2 = int(input(\"whats the second number :\"))\n",
    "\n",
    "for symbol in operations:\n",
    "    print(symbol)\n",
    "    `\n",
    "operation_symbol = input(\"pick an operation from the line above:\")\n",
    "calculation_function = operations[operation_symbol]\n",
    "answer=calculation_function(num1,num2)\n",
    "\n",
    "print(f\"{num1} {operation_symbol} {num2} = {answer}\")"
   ]
  },
  {
   "cell_type": "markdown",
   "id": "4a617573",
   "metadata": {},
   "source": [
    "why dont we print a function instead of returning ?"
   ]
  },
  {
   "cell_type": "code",
   "execution_count": null,
   "id": "f8c25391",
   "metadata": {},
   "outputs": [],
   "source": [
    "def add (n1,n2):\n",
    "    return n1+n2\n",
    "\n",
    "def sub(n1,n2):\n",
    "    return n1 - n2\n",
    "\n",
    "def mul(n1,n2):\n",
    "    return n1 * n2\n",
    "\n",
    "def divide(n1,n2):\n",
    "    return (n1 / n2)\n",
    "\n",
    "# create a dict\n",
    "operations ={\n",
    "    \"+\":add,\n",
    "    \"-\":sub,\n",
    "    \"*\": mul,\n",
    "    \"/\":divide\n",
    "    \n",
    "}\n",
    "\n",
    "num1 = int(input(\"whats the first number :\"))\n",
    "num2 = int(input(\"whats the second number :\"))\n",
    "\n",
    "for symbol in operations:\n",
    "    print(symbol)\n",
    "    `\n",
    "operation_symbol = input(\"pick an operation from the line above:\")\n",
    "calculation_function = operations[operation_symbol]\n",
    "first_answer=calculation_function(num1,num2)\n",
    "\n",
    "print(f\"{num1} {operation_symbol} {num2} = {answer}\")\n",
    "\n",
    "operation_symbol = input(\"pick an operation from the line above:\")\n",
    "num3 = int(input(\"Whats'the next number:\"))\n",
    "calculation_function = operations[operation_symbol]\n",
    "second_answer=calculation_function(calculation_function(num1,num2), num3)\n",
    "\n",
    "print(f\"{first_answer} {operation_symbol} {num} = {second_answer}\")"
   ]
  },
  {
   "cell_type": "markdown",
   "id": "b751cf10",
   "metadata": {},
   "source": [
    "### while loops flag resolution"
   ]
  },
  {
   "cell_type": "code",
   "execution_count": 15,
   "id": "5f8b7aff",
   "metadata": {},
   "outputs": [
    {
     "name": "stdout",
     "output_type": "stream",
     "text": [
      "whats the first number :78\n",
      "+\n",
      "-\n",
      "*\n",
      "/\n",
      "pick an operation from the line above:*\n",
      "whats the second number :45\n",
      "pick an operation from the line above:-\n",
      "whats the second number :89\n",
      "pick an operation from the line above:+\n",
      "whats the second number :32\n"
     ]
    },
    {
     "ename": "KeyboardInterrupt",
     "evalue": "Interrupted by user",
     "output_type": "error",
     "traceback": [
      "\u001b[1;31m---------------------------------------------------------------------------\u001b[0m",
      "\u001b[1;31mKeyboardInterrupt\u001b[0m                         Traceback (most recent call last)",
      "Cell \u001b[1;32mIn[15], line 30\u001b[0m\n\u001b[0;32m     27\u001b[0m should_continue \u001b[38;5;241m=\u001b[39m \u001b[38;5;28;01mTrue\u001b[39;00m\n\u001b[0;32m     29\u001b[0m \u001b[38;5;28;01mwhile\u001b[39;00m should_continue:\n\u001b[1;32m---> 30\u001b[0m     operation_symbol \u001b[38;5;241m=\u001b[39m \u001b[38;5;28minput\u001b[39m(\u001b[38;5;124m\"\u001b[39m\u001b[38;5;124mpick an operation from the line above:\u001b[39m\u001b[38;5;124m\"\u001b[39m)\n\u001b[0;32m     31\u001b[0m     num2 \u001b[38;5;241m=\u001b[39m \u001b[38;5;28mint\u001b[39m(\u001b[38;5;28minput\u001b[39m(\u001b[38;5;124m\"\u001b[39m\u001b[38;5;124mwhats the second number :\u001b[39m\u001b[38;5;124m\"\u001b[39m))\n\u001b[0;32m     32\u001b[0m     calculation_function \u001b[38;5;241m=\u001b[39m operations[operation_symbol]\n",
      "File \u001b[1;32m~\\anaconda3\\Lib\\site-packages\\ipykernel\\kernelbase.py:1175\u001b[0m, in \u001b[0;36mKernel.raw_input\u001b[1;34m(self, prompt)\u001b[0m\n\u001b[0;32m   1171\u001b[0m \u001b[38;5;28;01mif\u001b[39;00m \u001b[38;5;129;01mnot\u001b[39;00m \u001b[38;5;28mself\u001b[39m\u001b[38;5;241m.\u001b[39m_allow_stdin:\n\u001b[0;32m   1172\u001b[0m     \u001b[38;5;28;01mraise\u001b[39;00m StdinNotImplementedError(\n\u001b[0;32m   1173\u001b[0m         \u001b[38;5;124m\"\u001b[39m\u001b[38;5;124mraw_input was called, but this frontend does not support input requests.\u001b[39m\u001b[38;5;124m\"\u001b[39m\n\u001b[0;32m   1174\u001b[0m     )\n\u001b[1;32m-> 1175\u001b[0m \u001b[38;5;28;01mreturn\u001b[39;00m \u001b[38;5;28mself\u001b[39m\u001b[38;5;241m.\u001b[39m_input_request(\n\u001b[0;32m   1176\u001b[0m     \u001b[38;5;28mstr\u001b[39m(prompt),\n\u001b[0;32m   1177\u001b[0m     \u001b[38;5;28mself\u001b[39m\u001b[38;5;241m.\u001b[39m_parent_ident[\u001b[38;5;124m\"\u001b[39m\u001b[38;5;124mshell\u001b[39m\u001b[38;5;124m\"\u001b[39m],\n\u001b[0;32m   1178\u001b[0m     \u001b[38;5;28mself\u001b[39m\u001b[38;5;241m.\u001b[39mget_parent(\u001b[38;5;124m\"\u001b[39m\u001b[38;5;124mshell\u001b[39m\u001b[38;5;124m\"\u001b[39m),\n\u001b[0;32m   1179\u001b[0m     password\u001b[38;5;241m=\u001b[39m\u001b[38;5;28;01mFalse\u001b[39;00m,\n\u001b[0;32m   1180\u001b[0m )\n",
      "File \u001b[1;32m~\\anaconda3\\Lib\\site-packages\\ipykernel\\kernelbase.py:1217\u001b[0m, in \u001b[0;36mKernel._input_request\u001b[1;34m(self, prompt, ident, parent, password)\u001b[0m\n\u001b[0;32m   1214\u001b[0m             \u001b[38;5;28;01mbreak\u001b[39;00m\n\u001b[0;32m   1215\u001b[0m \u001b[38;5;28;01mexcept\u001b[39;00m \u001b[38;5;167;01mKeyboardInterrupt\u001b[39;00m:\n\u001b[0;32m   1216\u001b[0m     \u001b[38;5;66;03m# re-raise KeyboardInterrupt, to truncate traceback\u001b[39;00m\n\u001b[1;32m-> 1217\u001b[0m     \u001b[38;5;28;01mraise\u001b[39;00m \u001b[38;5;167;01mKeyboardInterrupt\u001b[39;00m(\u001b[38;5;124m\"\u001b[39m\u001b[38;5;124mInterrupted by user\u001b[39m\u001b[38;5;124m\"\u001b[39m) \u001b[38;5;28;01mfrom\u001b[39;00m \u001b[38;5;28;01mNone\u001b[39;00m\n\u001b[0;32m   1218\u001b[0m \u001b[38;5;28;01mexcept\u001b[39;00m \u001b[38;5;167;01mException\u001b[39;00m:\n\u001b[0;32m   1219\u001b[0m     \u001b[38;5;28mself\u001b[39m\u001b[38;5;241m.\u001b[39mlog\u001b[38;5;241m.\u001b[39mwarning(\u001b[38;5;124m\"\u001b[39m\u001b[38;5;124mInvalid Message:\u001b[39m\u001b[38;5;124m\"\u001b[39m, exc_info\u001b[38;5;241m=\u001b[39m\u001b[38;5;28;01mTrue\u001b[39;00m)\n",
      "\u001b[1;31mKeyboardInterrupt\u001b[0m: Interrupted by user"
     ]
    }
   ],
   "source": [
    "def add (n1,n2):\n",
    "    return n1+n2\n",
    "\n",
    "def sub(n1,n2):\n",
    "    return n1 - n2\n",
    "\n",
    "def mul(n1,n2):\n",
    "    return n1 * n2\n",
    "\n",
    "def divide(n1,n2):\n",
    "    return (n1 / n2)\n",
    "\n",
    "# create a dict\n",
    "operations ={\n",
    "    \"+\":add,\n",
    "    \"-\":sub,\n",
    "    \"*\": mul,\n",
    "    \"/\":divide\n",
    "    \n",
    "}\n",
    "\n",
    "num1 = int(input(\"whats the first number :\"))\n",
    "\n",
    "\n",
    "for symbol in operations:\n",
    "    print(symbol)\n",
    "should_continue = True\n",
    "\n",
    "while should_continue:\n",
    "    operation_symbol = input(\"pick an operation from the line above:\")\n",
    "    num2 = int(input(\"whats the second number :\"))\n",
    "    calculation_function = operations[operation_symbol]\n",
    "    first_answer=calculation_function(num1,num2)\n",
    "\n",
    "print(f\"{num1} {operation_symbol} {num2} = {answer}\")\n",
    "\n",
    "if input(f\"Type 'y' to continue calculating with {answer} :\") == 'y':\n",
    "    num1 = answer\n",
    "else:\n",
    "    should_continue = False\n"
   ]
  },
  {
   "cell_type": "code",
   "execution_count": 18,
   "id": "664e56df",
   "metadata": {},
   "outputs": [
    {
     "name": "stdout",
     "output_type": "stream",
     "text": [
      "Collecting art\n",
      "  Obtaining dependency information for art from https://files.pythonhosted.org/packages/fc/53/d8792ac2ebb494db0e0ba3ad3f0a9ee71144a5ced266441166f7d038a37e/art-6.1-py3-none-any.whl.metadata\n",
      "  Downloading art-6.1-py3-none-any.whl.metadata (69 kB)\n",
      "     ---------------------------------------- 0.0/69.9 kB ? eta -:--:--\n",
      "     ----- ---------------------------------- 10.2/69.9 kB ? eta -:--:--\n",
      "     --------------------------------- ---- 61.4/69.9 kB 656.4 kB/s eta 0:00:01\n",
      "     -------------------------------------- 69.9/69.9 kB 547.1 kB/s eta 0:00:00\n",
      "Downloading art-6.1-py3-none-any.whl (599 kB)\n",
      "   ---------------------------------------- 0.0/599.8 kB ? eta -:--:--\n",
      "   -- ------------------------------------ 41.0/599.8 kB 653.6 kB/s eta 0:00:01\n",
      "   ---- ---------------------------------- 71.7/599.8 kB 787.7 kB/s eta 0:00:01\n",
      "   ------- ------------------------------ 122.9/599.8 kB 722.1 kB/s eta 0:00:01\n",
      "   --------- ---------------------------- 153.6/599.8 kB 706.2 kB/s eta 0:00:01\n",
      "   ------------ ------------------------- 204.8/599.8 kB 734.2 kB/s eta 0:00:01\n",
      "   ---------------- --------------------- 256.0/599.8 kB 787.7 kB/s eta 0:00:01\n",
      "   ------------------ ------------------- 286.7/599.8 kB 770.1 kB/s eta 0:00:01\n",
      "   --------------------- ---------------- 337.9/599.8 kB 840.2 kB/s eta 0:00:01\n",
      "   ------------------------ ------------- 389.1/599.8 kB 807.8 kB/s eta 0:00:01\n",
      "   --------------------------- ---------- 430.1/599.8 kB 839.7 kB/s eta 0:00:01\n",
      "   ------------------------------ ------- 481.3/599.8 kB 838.1 kB/s eta 0:00:01\n",
      "   -------------------------------- ----- 512.0/599.8 kB 844.7 kB/s eta 0:00:01\n",
      "   ------------------------------------ - 573.4/599.8 kB 858.5 kB/s eta 0:00:01\n",
      "   -------------------------------------- 599.8/599.8 kB 838.7 kB/s eta 0:00:00\n",
      "Installing collected packages: art\n",
      "Successfully installed art-6.1\n",
      "Note: you may need to restart the kernel to use updated packages.\n"
     ]
    }
   ],
   "source": [
    "pip install art"
   ]
  },
  {
   "cell_type": "code",
   "execution_count": null,
   "id": "97d71f75",
   "metadata": {},
   "outputs": [
    {
     "name": "stdout",
     "output_type": "stream",
     "text": [
      "pick an operation from the line above:+\n",
      "whats the second number :89\n",
      "pick an operation from the line above:+\n",
      "whats the second number :88\n",
      "pick an operation from the line above:-\n",
      "whats the second number :67\n"
     ]
    }
   ],
   "source": [
    "\n",
    "def add (n1,n2):\n",
    "    return n1+n2\n",
    "\n",
    "def sub(n1,n2):\n",
    "    return n1 - n2\n",
    "\n",
    "def mul(n1,n2):\n",
    "    return n1 * n2\n",
    "\n",
    "def divide(n1,n2):\n",
    "    return (n1 / n2)\n",
    "\n",
    "# create a dict\n",
    "operations ={\n",
    "    \"+\":add,\n",
    "    \"-\":sub,\n",
    "    \"*\": mul,\n",
    "    \"/\":divide\n",
    "    \n",
    "}\n",
    "\n",
    "def calculator():\n",
    "   \n",
    "    num1 = float(input(\"whats the first number :\"))\n",
    "    for symbol in operations:\n",
    "        print(symbol)\n",
    "    should_continue = True\n",
    "\n",
    "while should_continue:\n",
    "    operation_symbol = input(\"pick an operation from the line above:\")\n",
    "    num2 = float(input(\"whats the second number :\"))\n",
    "    calculation_function = operations[operation_symbol]\n",
    "    first_answer=calculation_function(num1,num2)\n",
    "\n",
    "print(f\"{num1} {operation_symbol} {num2} = {answer}\")\n",
    "\n",
    "if input(f\"Type 'y' to continue calculating with {answer} ,  or type 'n 'to start a new calculation:\") == 'y':\n",
    "    num1 = answer\n",
    "else:\n",
    "    should_continue = False\n",
    "    calculator()\n",
    "    \n",
    "calculator()\n"
   ]
  },
  {
   "cell_type": "code",
   "execution_count": null,
   "id": "3aef71ab",
   "metadata": {},
   "outputs": [],
   "source": [
    "from art import logo\n",
    "\n",
    "def add(n1, n2):\n",
    "    return n1 + n2\n",
    "\n",
    "def sub(n1, n2):\n",
    "    return n1 - n2\n",
    "\n",
    "def mul(n1, n2):\n",
    "    return n1 * n2\n",
    "\n",
    "def divide(n1, n2):\n",
    "    if n2 != 0:\n",
    "        return n1 / n2\n",
    "    else:\n",
    "        return \"Error: Cannot divide by zero\"\n",
    "\n",
    "# Create a dictionary\n",
    "operations = {\n",
    "    \"+\": add,\n",
    "    \"-\": sub,\n",
    "    \"*\": mul,\n",
    "    \"/\": divide\n",
    "}\n",
    "\n",
    "def calculator():\n",
    "    print(logo)\n",
    "\n",
    "calculator()\n",
    "\n",
    "num1 = float(input(\"What's the first number: \"))\n",
    "\n",
    "for symbol in operations:\n",
    "    print(symbol)\n",
    "\n",
    "should_continue = True\n",
    "\n",
    "while should_continue:\n",
    "    operation_symbol = input(\"Pick an operation from the line above: \")\n",
    "    num2 = float(input(\"What's the second number: \"))\n",
    "    \n",
    "    calculation_function = operations.get(operation_symbol)\n",
    "    \n",
    "    if calculation_function:\n",
    "        answer = calculation_function(num1, num2)\n",
    "        print(f\"{num1} {operation_symbol} {num2} = {answer}\")\n",
    "\n",
    "        if input(f\"Type 'y' to continue calculating with {answer}, or type 'n' to start a new calculation: \") == 'y':\n",
    "            num1 = answer\n",
    "        else:\n",
    "            should_continue = False\n",
    "            calculator()\n",
    "    else:\n",
    "        print(\"Invalid operation symbol. Please choose a valid operation.\")\n"
   ]
  },
  {
   "cell_type": "code",
   "execution_count": 8,
   "id": "c9ac21c5",
   "metadata": {},
   "outputs": [
    {
     "name": "stdout",
     "output_type": "stream",
     "text": [
      "What's the first number: 89\n",
      "+\n",
      "-\n",
      "*\n",
      "/\n",
      "Pick an operation from the line above: +\n",
      "What's the second number: 90\n",
      "89.0 + 90.0 = 179.0\n",
      "Type 'y' to continue calculating with 179.0, or type 'n' to start a new calculation: y\n",
      "Pick an operation from the line above: 96\n",
      "What's the second number: 90\n",
      "Invalid operation symbol. Please choose a valid operation.\n",
      "Pick an operation from the line above: *\n",
      "What's the second number: 90\n",
      "179.0 * 90.0 = 16110.0\n",
      "Type 'y' to continue calculating with 16110.0, or type 'n' to start a new calculation: n\n"
     ]
    }
   ],
   "source": [
    "def add(n1, n2):\n",
    "    return n1 + n2\n",
    "\n",
    "def sub(n1, n2):\n",
    "    return n1 - n2\n",
    "\n",
    "def mul(n1, n2):\n",
    "    return n1 * n2\n",
    "\n",
    "def divide(n1, n2):\n",
    "    if n2 != 0:\n",
    "        return n1 / n2\n",
    "    else:\n",
    "        return \"Error: Cannot divide by zero\"\n",
    "\n",
    "# Create a dictionary\n",
    "operations = {\n",
    "    \"+\": add,\n",
    "    \"-\": sub,\n",
    "    \"*\": mul,\n",
    "    \"/\": divide\n",
    "}\n",
    "\n",
    "def calculator():\n",
    "    num1 = float(input(\"What's the first number: \"))\n",
    "\n",
    "    for symbol in operations:\n",
    "        print(symbol)\n",
    "\n",
    "    should_continue = True\n",
    "\n",
    "    while should_continue:\n",
    "        operation_symbol = input(\"Pick an operation from the line above: \")\n",
    "        num2 = float(input(\"What's the second number: \"))\n",
    "\n",
    "        calculation_function = operations.get(operation_symbol)\n",
    "\n",
    "        if calculation_function:\n",
    "            answer = calculation_function(num1, num2)\n",
    "            print(f\"{num1} {operation_symbol} {num2} = {answer}\")\n",
    "\n",
    "            if input(f\"Type 'y' to continue calculating with {answer}, or type 'n' to start a new calculation: \") == 'y':\n",
    "                num1 = answer\n",
    "            else:\n",
    "                should_continue = False\n",
    "        else:\n",
    "            print(\"Invalid operation symbol. Please choose a valid operation.\")\n",
    "\n",
    "calculator()\n"
   ]
  },
  {
   "cell_type": "code",
   "execution_count": null,
   "id": "e49b1d1f",
   "metadata": {},
   "outputs": [],
   "source": []
  }
 ],
 "metadata": {
  "kernelspec": {
   "display_name": "Python 3 (ipykernel)",
   "language": "python",
   "name": "python3"
  },
  "language_info": {
   "codemirror_mode": {
    "name": "ipython",
    "version": 3
   },
   "file_extension": ".py",
   "mimetype": "text/x-python",
   "name": "python",
   "nbconvert_exporter": "python",
   "pygments_lexer": "ipython3",
   "version": "3.11.4"
  }
 },
 "nbformat": 4,
 "nbformat_minor": 5
}

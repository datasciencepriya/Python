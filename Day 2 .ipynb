{
 "cells": [
  {
   "cell_type": "code",
   "execution_count": 1,
   "id": "d101557e",
   "metadata": {},
   "outputs": [
    {
     "name": "stdout",
     "output_type": "stream",
     "text": [
      "5\n"
     ]
    }
   ],
   "source": [
    "print(len(\"Hello\"))"
   ]
  },
  {
   "cell_type": "code",
   "execution_count": 2,
   "id": "290233af",
   "metadata": {},
   "outputs": [
    {
     "ename": "TypeError",
     "evalue": "object of type 'int' has no len()",
     "output_type": "error",
     "traceback": [
      "\u001b[1;31m---------------------------------------------------------------------------\u001b[0m",
      "\u001b[1;31mTypeError\u001b[0m                                 Traceback (most recent call last)",
      "Cell \u001b[1;32mIn[2], line 1\u001b[0m\n\u001b[1;32m----> 1\u001b[0m \u001b[38;5;28mprint\u001b[39m(\u001b[38;5;28mlen\u001b[39m(\u001b[38;5;241m576378\u001b[39m))\n",
      "\u001b[1;31mTypeError\u001b[0m: object of type 'int' has no len()"
     ]
    }
   ],
   "source": [
    "print(len(576378))"
   ]
  },
  {
   "cell_type": "markdown",
   "id": "25356a71",
   "metadata": {},
   "source": [
    "### Data types"
   ]
  },
  {
   "cell_type": "markdown",
   "id": "9d76f63c",
   "metadata": {},
   "source": [
    "- string\n",
    "- int\n",
    "- float\n",
    "- boolean"
   ]
  },
  {
   "cell_type": "code",
   "execution_count": 3,
   "id": "bf5c4dae",
   "metadata": {},
   "outputs": [
    {
     "data": {
      "text/plain": [
       "'Hello'"
      ]
     },
     "execution_count": 3,
     "metadata": {},
     "output_type": "execute_result"
    }
   ],
   "source": [
    "# string\n",
    "\"Hello\""
   ]
  },
  {
   "cell_type": "code",
   "execution_count": 4,
   "id": "886e0903",
   "metadata": {},
   "outputs": [
    {
     "data": {
      "text/plain": [
       "'H'"
      ]
     },
     "execution_count": 4,
     "metadata": {},
     "output_type": "execute_result"
    }
   ],
   "source": [
    "\"Hello\"[0]"
   ]
  },
  {
   "cell_type": "code",
   "execution_count": 5,
   "id": "3471555b",
   "metadata": {},
   "outputs": [
    {
     "name": "stdout",
     "output_type": "stream",
     "text": [
      "e\n"
     ]
    }
   ],
   "source": [
    "print(\"Hello\"[1])"
   ]
  },
  {
   "cell_type": "markdown",
   "id": "932058fe",
   "metadata": {},
   "source": [
    "In Python, string indexing starts from 0 because it follows a zero-based indexing system. This means that the first element of a sequence (such as a string, list, or tuple) is accessed using the index 0.\n",
    "\n",
    "The decision to use zero-based indexing is a convention that is common in many programming languages, including C, C++, and Java. There isn't a universal rule for indexing starting at 0; it's more of a historical and cultural choice made by language designers.\n",
    "\n",
    "One reason behind using zero-based indexing is related to the underlying implementation of arrays and memory addressing in programming languages. In many low-level languages, an array element at index `i` is accessed by offsetting the memory address by `i` times the size of each element. Starting from 0 simplifies the calculation and aligns with the way memory is typically addressed.\n",
    "\n",
    "While the choice of starting indexing at 0 may seem arbitrary, it has become a widely adopted convention in the programming community, and many programmers are accustomed to it. This consistency across languages can make it easier for developers to switch between different languages without having to adjust to different indexing conventions."
   ]
  },
  {
   "cell_type": "markdown",
   "id": "386e95bd",
   "metadata": {},
   "source": [
    "### Subscript"
   ]
  },
  {
   "cell_type": "markdown",
   "id": "69c42ae7",
   "metadata": {},
   "source": [
    "### hello [0] ,[1], [2]......."
   ]
  },
  {
   "cell_type": "markdown",
   "id": "327727c0",
   "metadata": {},
   "source": [
    "In the context of strings, a subscript typically refers to the index used to access individual characters within the string. The subscript is an integer value that represents the position of a character in the string. In Python and many other programming languages, string indexing starts at 0.\n",
    "\n",
    "For example, consider the string \"hello.\" The subscript of each character in the string is as follows:\n",
    "\n",
    "- \"h\" has a subscript of 0\n",
    "- \"e\" has a subscript of 1\n",
    "- \"l\" has a subscript of 2\n",
    "- \"l\" has a subscript of 3\n",
    "- \"o\" has a subscript of 4\n",
    "\n",
    "You can access individual characters in a string using square brackets and the subscript/index:\n",
    "\n",
    "```python\n",
    "my_string = \"hello\"\n",
    "print(my_string[0])  # Output: 'h'\n",
    "print(my_string[1])  # Output: 'e'\n",
    "print(my_string[2])  # Output: 'l'\n",
    "print(my_string[3])  # Output: 'l'\n",
    "print(my_string[4])  # Output: 'o'\n",
    "```\n",
    "\n",
    "It's important to note that attempting to access a character using an index that is outside the valid range of indices for the string will result in an `IndexError`. For example, trying to access `my_string[5]` for the given string would raise an error."
   ]
  },
  {
   "cell_type": "code",
   "execution_count": 6,
   "id": "80ca534d",
   "metadata": {},
   "outputs": [
    {
     "data": {
      "text/plain": [
       "'123'"
      ]
     },
     "execution_count": 6,
     "metadata": {},
     "output_type": "execute_result"
    }
   ],
   "source": [
    "\"123\" # it is treated as a string by the computer"
   ]
  },
  {
   "cell_type": "code",
   "execution_count": 7,
   "id": "96fd5f89",
   "metadata": {},
   "outputs": [
    {
     "name": "stdout",
     "output_type": "stream",
     "text": [
      "123456\n"
     ]
    }
   ],
   "source": [
    "print(\"123\" + \"456\")"
   ]
  },
  {
   "cell_type": "code",
   "execution_count": 8,
   "id": "72b4ac05",
   "metadata": {},
   "outputs": [
    {
     "name": "stdout",
     "output_type": "stream",
     "text": [
      "123123\n"
     ]
    }
   ],
   "source": [
    "print(\"123\" + \"123\")"
   ]
  },
  {
   "cell_type": "markdown",
   "id": "f3a5b5be",
   "metadata": {},
   "source": [
    "# number datatype is Integer"
   ]
  },
  {
   "cell_type": "code",
   "execution_count": 9,
   "id": "da6bd11e",
   "metadata": {},
   "outputs": [
    {
     "name": "stdout",
     "output_type": "stream",
     "text": [
      "579\n"
     ]
    }
   ],
   "source": [
    "print(123  + 456)"
   ]
  },
  {
   "cell_type": "code",
   "execution_count": 10,
   "id": "432ccb21",
   "metadata": {},
   "outputs": [
    {
     "data": {
      "text/plain": [
       "123456789"
      ]
     },
     "execution_count": 10,
     "metadata": {},
     "output_type": "execute_result"
    }
   ],
   "source": [
    "123456789\n"
   ]
  },
  {
   "cell_type": "code",
   "execution_count": 11,
   "id": "1fa0fb64",
   "metadata": {},
   "outputs": [
    {
     "data": {
      "text/plain": [
       "123456789"
      ]
     },
     "execution_count": 11,
     "metadata": {},
     "output_type": "execute_result"
    }
   ],
   "source": [
    "123_456_789 # here why we are usi\n"
   ]
  },
  {
   "cell_type": "markdown",
   "id": "5a47246c",
   "metadata": {},
   "source": [
    "In Python, underscores (`_`) can be used as a visual separator for numeric literals, starting from Python 3.6. This is a feature introduced in PEP 515. It helps improve the readability of large numbers by allowing you to visually separate groups of digits, much like using commas in some other programming languages.\n",
    "\n",
    "When you type `123_456_789`, Python treats it as the integer `123456789`. The underscores are ignored when interpreting the numeric value, and they are there solely for readability.\n",
    "\n",
    "Here's an example:\n",
    "\n",
    "```python\n",
    "number = 123_456_789\n",
    "print(number)\n",
    "```\n",
    "\n",
    "The output of this code will be `123456789`. The underscores don't affect the value of the number; they are just there to make it easier for humans to read and comprehend large numbers."
   ]
  },
  {
   "cell_type": "code",
   "execution_count": 12,
   "id": "5e15e490",
   "metadata": {},
   "outputs": [],
   "source": [
    "# float"
   ]
  },
  {
   "cell_type": "code",
   "execution_count": 13,
   "id": "ce573b3f",
   "metadata": {},
   "outputs": [
    {
     "data": {
      "text/plain": [
       "3.14559"
      ]
     },
     "execution_count": 13,
     "metadata": {},
     "output_type": "execute_result"
    }
   ],
   "source": [
    "3.14559 "
   ]
  },
  {
   "cell_type": "code",
   "execution_count": 14,
   "id": "996badc5",
   "metadata": {},
   "outputs": [
    {
     "data": {
      "text/plain": [
       "3145.59"
      ]
     },
     "execution_count": 14,
     "metadata": {},
     "output_type": "execute_result"
    }
   ],
   "source": [
    "3145.59"
   ]
  },
  {
   "cell_type": "code",
   "execution_count": null,
   "id": "80dddbb2",
   "metadata": {},
   "outputs": [],
   "source": [
    "# Boolean  is True or False\n",
    "\n"
   ]
  },
  {
   "cell_type": "code",
   "execution_count": 15,
   "id": "28b11b03",
   "metadata": {},
   "outputs": [
    {
     "ename": "TypeError",
     "evalue": "'str' object is not callable",
     "output_type": "error",
     "traceback": [
      "\u001b[1;31m---------------------------------------------------------------------------\u001b[0m",
      "\u001b[1;31mTypeError\u001b[0m                                 Traceback (most recent call last)",
      "Cell \u001b[1;32mIn[15], line 2\u001b[0m\n\u001b[0;32m      1\u001b[0m street_name \u001b[38;5;241m=\u001b[39m \u001b[38;5;124m\"\u001b[39m\u001b[38;5;124mAbbey Road\u001b[39m\u001b[38;5;124m\"\u001b[39m\n\u001b[1;32m----> 2\u001b[0m \u001b[38;5;28mprint\u001b[39m(street_name(\u001b[38;5;241m4\u001b[39m) \u001b[38;5;241m+\u001b[39m street_name(\u001b[38;5;241m7\u001b[39m))\n",
      "\u001b[1;31mTypeError\u001b[0m: 'str' object is not callable"
     ]
    }
   ],
   "source": [
    "street_name = \"Abbey Road\"\n",
    "print(street_name(4) + street_name(7))"
   ]
  },
  {
   "cell_type": "code",
   "execution_count": 16,
   "id": "eb8c99b5",
   "metadata": {},
   "outputs": [
    {
     "name": "stdout",
     "output_type": "stream",
     "text": [
      "yo\n"
     ]
    }
   ],
   "source": [
    "street_name = \"Abbey Road\"\n",
    "print(street_name[4] + street_name[7])"
   ]
  },
  {
   "cell_type": "markdown",
   "id": "0a76a7e5",
   "metadata": {},
   "source": [
    "###  Type err, Type checking, Type conversion"
   ]
  },
  {
   "cell_type": "code",
   "execution_count": 17,
   "id": "c73413b2",
   "metadata": {},
   "outputs": [
    {
     "ename": "TypeError",
     "evalue": "object of type 'int' has no len()",
     "output_type": "error",
     "traceback": [
      "\u001b[1;31m---------------------------------------------------------------------------\u001b[0m",
      "\u001b[1;31mTypeError\u001b[0m                                 Traceback (most recent call last)",
      "Cell \u001b[1;32mIn[17], line 1\u001b[0m\n\u001b[1;32m----> 1\u001b[0m \u001b[38;5;28mlen\u001b[39m(\u001b[38;5;241m4867\u001b[39m)\n",
      "\u001b[1;31mTypeError\u001b[0m: object of type 'int' has no len()"
     ]
    }
   ],
   "source": [
    "len(4867)"
   ]
  },
  {
   "cell_type": "code",
   "execution_count": 18,
   "id": "2f9aa0e6",
   "metadata": {},
   "outputs": [
    {
     "name": "stdout",
     "output_type": "stream",
     "text": [
      "what is your namepriya\n",
      "5\n"
     ]
    }
   ],
   "source": [
    "print(len(input(\"what is your name\")))"
   ]
  },
  {
   "cell_type": "code",
   "execution_count": 19,
   "id": "9809fbc5",
   "metadata": {},
   "outputs": [
    {
     "name": "stdout",
     "output_type": "stream",
     "text": [
      "what is your name?Bakkiyalashmi\n"
     ]
    },
    {
     "ename": "TypeError",
     "evalue": "can only concatenate str (not \"int\") to str",
     "output_type": "error",
     "traceback": [
      "\u001b[1;31m---------------------------------------------------------------------------\u001b[0m",
      "\u001b[1;31mTypeError\u001b[0m                                 Traceback (most recent call last)",
      "Cell \u001b[1;32mIn[19], line 2\u001b[0m\n\u001b[0;32m      1\u001b[0m num_char \u001b[38;5;241m=\u001b[39m \u001b[38;5;28mlen\u001b[39m(\u001b[38;5;28minput\u001b[39m(\u001b[38;5;124m\"\u001b[39m\u001b[38;5;124mwhat is your name?\u001b[39m\u001b[38;5;124m\"\u001b[39m))\n\u001b[1;32m----> 2\u001b[0m \u001b[38;5;28mprint\u001b[39m(\u001b[38;5;124m\"\u001b[39m\u001b[38;5;124mYour name has \u001b[39m\u001b[38;5;124m\"\u001b[39m \u001b[38;5;241m+\u001b[39m num_char \u001b[38;5;241m+\u001b[39m \u001b[38;5;124m\"\u001b[39m\u001b[38;5;124m Charecters\u001b[39m\u001b[38;5;124m\"\u001b[39m)\n",
      "\u001b[1;31mTypeError\u001b[0m: can only concatenate str (not \"int\") to str"
     ]
    }
   ],
   "source": [
    "num_char = len(input(\"what is your name?\"))\n",
    "print(\"Your name has \" + num_char + \" Charecters\")"
   ]
  },
  {
   "cell_type": "code",
   "execution_count": 22,
   "id": "061e65c3",
   "metadata": {},
   "outputs": [
    {
     "name": "stdout",
     "output_type": "stream",
     "text": [
      "what is your name?priya\n",
      "<class 'int'>\n"
     ]
    }
   ],
   "source": [
    "num_char = len(input(\"what is your name?\"))\n",
    "#print(\"Your name has \" + num_char + \" Charecters\")\n",
    "\n",
    "print(type(num_char))"
   ]
  },
  {
   "cell_type": "markdown",
   "id": "7b8d1c55",
   "metadata": {},
   "source": [
    "## Type conversion"
   ]
  },
  {
   "cell_type": "code",
   "execution_count": 26,
   "id": "a7c2d45f",
   "metadata": {},
   "outputs": [
    {
     "name": "stdout",
     "output_type": "stream",
     "text": [
      "what is your name?priya\n",
      "Your name has 5 Characters\n"
     ]
    }
   ],
   "source": [
    "num_char = len(input(\"what is your name?\"))\n",
    "#print(\"Your name has \" + num_char + \" Charecters\")\n",
    "new_num_char = str(num_char)\n",
    "print(\"Your name has \" + new_num_char + \" Characters\")"
   ]
  },
  {
   "cell_type": "code",
   "execution_count": 27,
   "id": "de1fa22d",
   "metadata": {},
   "outputs": [
    {
     "data": {
      "text/plain": [
       "int"
      ]
     },
     "execution_count": 27,
     "metadata": {},
     "output_type": "execute_result"
    }
   ],
   "source": [
    "a = 123\n",
    "type(a)"
   ]
  },
  {
   "cell_type": "code",
   "execution_count": 28,
   "id": "dccf1220",
   "metadata": {},
   "outputs": [
    {
     "data": {
      "text/plain": [
       "str"
      ]
     },
     "execution_count": 28,
     "metadata": {},
     "output_type": "execute_result"
    }
   ],
   "source": [
    "a = str(123)\n",
    "type(a)"
   ]
  },
  {
   "cell_type": "code",
   "execution_count": 30,
   "id": "8ef78dd0",
   "metadata": {},
   "outputs": [
    {
     "data": {
      "text/plain": [
       "float"
      ]
     },
     "execution_count": 30,
     "metadata": {},
     "output_type": "execute_result"
    }
   ],
   "source": [
    "a = float(123)\n",
    "type(a)"
   ]
  },
  {
   "cell_type": "code",
   "execution_count": 31,
   "id": "5f36598c",
   "metadata": {},
   "outputs": [
    {
     "name": "stdout",
     "output_type": "stream",
     "text": [
      "170.5\n"
     ]
    }
   ],
   "source": [
    "print(70 + float (\"100.5\"))"
   ]
  },
  {
   "cell_type": "code",
   "execution_count": 32,
   "id": "c37b045f",
   "metadata": {},
   "outputs": [
    {
     "name": "stdout",
     "output_type": "stream",
     "text": [
      "70100\n"
     ]
    }
   ],
   "source": [
    "print(str(70)+str(100))"
   ]
  },
  {
   "cell_type": "code",
   "execution_count": 36,
   "id": "2d6510a7",
   "metadata": {},
   "outputs": [
    {
     "name": "stdout",
     "output_type": "stream",
     "text": [
      "Enter the number:78\n",
      "78\n",
      "15\n"
     ]
    }
   ],
   "source": [
    "# example input : 39 output :12\n",
    "num = input (\"Enter the number:\")\n",
    "print(num)\n",
    "print(int(num[0]) + int(num[1]))"
   ]
  },
  {
   "cell_type": "markdown",
   "id": "f430c0fe",
   "metadata": {},
   "source": [
    "Certainly! Below are a few variations of the code you provided, using different approaches:\n",
    "\n",
    "### Approach 1: Directly Converting Input to Integer\n",
    "```python\n",
    "num = int(input(\"Enter the number:\"))\n",
    "new_num = str(num)\n",
    "print(new_num)\n",
    "print(int(new_num[0]) + int(new_num[1]))\n",
    "```\n",
    "\n",
    "In this version, we directly convert the user input to an integer, eliminating the need for the `new_num` variable.\n",
    "\n",
    "### Approach 2: Using List Comprehension\n",
    "```python\n",
    "num = input(\"Enter the number:\")\n",
    "digits = [int(digit) for digit in str(num)]\n",
    "print(digits)\n",
    "print(digits[0] + digits[1])\n",
    "```\n",
    "\n",
    "This version uses list comprehension to convert each digit of the input number to an integer and stores them in the `digits` list.\n",
    "\n",
    "### Approach 3: Without Using a Separate Variable\n",
    "```python\n",
    "num = input(\"Enter the number:\")\n",
    "print(num)\n",
    "print(int(num[0]) + int(num[1]))\n",
    "```\n",
    "\n",
    "This version eliminates the `new_num` variable and directly uses the input variable for subsequent operations.\n",
    "\n",
    "Feel free to choose the approach that best suits your preferences or requirements!"
   ]
  },
  {
   "cell_type": "markdown",
   "id": "2b68d069",
   "metadata": {},
   "source": [
    "To generalize the code for a variable length number, you can iterate over each digit in the input number and perform the desired operation. Here's a generalized version:\n",
    "\n",
    "```python\n",
    "num = input(\"Enter the number:\")\n",
    "\n",
    "# Convert each digit to an integer and store them in a list\n",
    "digits = [int(digit) for digit in str(num)]\n",
    "\n",
    "# Print the original number\n",
    "print(\"Original number:\", num)\n",
    "\n",
    "# Calculate and print the sum of the digits\n",
    "sum_of_digits = sum(digits)\n",
    "print(\"Sum of digits:\", sum_of_digits)\n",
    "```\n",
    "\n",
    "This code will work for any length of input number. It converts each digit to an integer and stores them in the `digits` list using list comprehension. Then, it calculates the sum of the digits using the `sum` function.\n",
    "\n",
    "Now, you don't need to modify the code if the input number has a different length. It will adapt to any length provided by the user."
   ]
  },
  {
   "cell_type": "markdown",
   "id": "b32766c5",
   "metadata": {},
   "source": [
    "## tutor method :"
   ]
  },
  {
   "cell_type": "code",
   "execution_count": 37,
   "id": "c15aa3ad",
   "metadata": {},
   "outputs": [
    {
     "name": "stdout",
     "output_type": "stream",
     "text": [
      "67\n",
      "<class 'str'>\n"
     ]
    }
   ],
   "source": [
    "two_digit_number = input()\n",
    "print(type(two_digit_number))"
   ]
  },
  {
   "cell_type": "code",
   "execution_count": 38,
   "id": "c79d92da",
   "metadata": {},
   "outputs": [
    {
     "name": "stdout",
     "output_type": "stream",
     "text": [
      "<class 'str'>\n",
      "<class 'str'>\n"
     ]
    }
   ],
   "source": [
    "first_digit = two_digit_number[0]\n",
    "print(type(two_digit_number[0]))\n",
    "second_digit = two_digit_number[1]\n",
    "print(type(two_digit_number[1]))"
   ]
  },
  {
   "cell_type": "code",
   "execution_count": 40,
   "id": "302da78b",
   "metadata": {},
   "outputs": [],
   "source": [
    "result = int(first_digit) + int(second_digit)"
   ]
  },
  {
   "cell_type": "code",
   "execution_count": 41,
   "id": "c9db560c",
   "metadata": {},
   "outputs": [
    {
     "name": "stdout",
     "output_type": "stream",
     "text": [
      "13\n"
     ]
    }
   ],
   "source": [
    "print(result)"
   ]
  },
  {
   "cell_type": "code",
   "execution_count": 42,
   "id": "89d830ba",
   "metadata": {},
   "outputs": [
    {
     "name": "stdout",
     "output_type": "stream",
     "text": [
      "13\n"
     ]
    }
   ],
   "source": [
    "print(int(first_digit) + int(second_digit))"
   ]
  },
  {
   "cell_type": "code",
   "execution_count": 44,
   "id": "12577020",
   "metadata": {},
   "outputs": [
    {
     "name": "stdout",
     "output_type": "stream",
     "text": [
      "8\n",
      "4\n",
      "30\n",
      "1.0\n",
      "4.0\n"
     ]
    }
   ],
   "source": [
    "print(3 + 5)\n",
    "\n",
    "print(7 - 3)\n",
    "\n",
    "print(5 * 6)\n",
    "\n",
    "print(7 / 7)  # division always gives floating points\n",
    "\n",
    "print(44/11)"
   ]
  },
  {
   "cell_type": "code",
   "execution_count": 45,
   "id": "bd0290bd",
   "metadata": {},
   "outputs": [
    {
     "name": "stdout",
     "output_type": "stream",
     "text": [
      "4\n"
     ]
    }
   ],
   "source": [
    "print ( 2 ** 2)"
   ]
  },
  {
   "cell_type": "code",
   "execution_count": 46,
   "id": "edebc5e8",
   "metadata": {},
   "outputs": [
    {
     "name": "stdout",
     "output_type": "stream",
     "text": [
      "8\n"
     ]
    }
   ],
   "source": [
    "print( 2 ** 3)"
   ]
  },
  {
   "cell_type": "markdown",
   "id": "dd2bd38e",
   "metadata": {},
   "source": [
    "### PEMDAS\n",
    "- ()\n",
    "- **\n",
    "- *, /\n",
    "- + ,-"
   ]
  },
  {
   "cell_type": "code",
   "execution_count": 47,
   "id": "0b76842b",
   "metadata": {},
   "outputs": [
    {
     "name": "stdout",
     "output_type": "stream",
     "text": [
      "7.0\n"
     ]
    }
   ],
   "source": [
    "print(3  * 3 + 3 / 3 - 3)"
   ]
  },
  {
   "cell_type": "code",
   "execution_count": null,
   "id": "a3a74bcc",
   "metadata": {},
   "outputs": [],
   "source": [
    "# pedmas (),**,* /,+ -"
   ]
  },
  {
   "cell_type": "markdown",
   "id": "05eddf53",
   "metadata": {},
   "source": [
    "### BMI calculator"
   ]
  },
  {
   "cell_type": "code",
   "execution_count": 62,
   "id": "feef6e2d",
   "metadata": {},
   "outputs": [
    {
     "name": "stdout",
     "output_type": "stream",
     "text": [
      "Enter Your Weight in kg:89\n",
      "Enter Your height in meters: 1.78\n",
      "Your BMI index : 28\n"
     ]
    }
   ],
   "source": [
    "weight = float(input(\"Enter Your Weight in kg:\"))\n",
    "height = float(input(\"Enter Your height in meters: \"))\n",
    "# BMI = weight / height * height\n",
    "bmi_index =  (weight / (height * height))\n",
    "print(\"Your BMI index :\", round(bmi_index))"
   ]
  },
  {
   "cell_type": "code",
   "execution_count": 63,
   "id": "9af24d59",
   "metadata": {},
   "outputs": [
    {
     "name": "stdout",
     "output_type": "stream",
     "text": [
      "Enter Your Weight in kg:89\n",
      "Enter Your height in meters: 1.89\n",
      "Your BMI index : 24\n"
     ]
    }
   ],
   "source": [
    "weight = float(input(\"Enter Your Weight in kg:\"))\n",
    "height = float(input(\"Enter Your height in meters: \"))\n",
    "# BMI = weight / height * height\n",
    "bmi_index =  (weight / (height * height))\n",
    "print(\"Your BMI index :\", int(bmi_index))"
   ]
  },
  {
   "cell_type": "markdown",
   "id": "ab9509ee",
   "metadata": {},
   "source": [
    "### Mentors method"
   ]
  },
  {
   "cell_type": "code",
   "execution_count": 65,
   "id": "833568ae",
   "metadata": {},
   "outputs": [
    {
     "name": "stdout",
     "output_type": "stream",
     "text": [
      "89\n",
      "1.67\n",
      "31\n"
     ]
    }
   ],
   "source": [
    "height = input()\n",
    "weight = input()\n",
    "height_as_float = float(weight)\n",
    "weight_as_int = int(height)\n",
    "bmi = weight_as_int /( height_as_float ** 2)\n",
    "bmi_as_int = int(bmi)\n",
    "print(bmi_as_int)"
   ]
  },
  {
   "cell_type": "markdown",
   "id": "9f27fc94",
   "metadata": {},
   "source": [
    "### Number manipulation and f string in python"
   ]
  },
  {
   "cell_type": "code",
   "execution_count": 67,
   "id": "16b07504",
   "metadata": {},
   "outputs": [
    {
     "name": "stdout",
     "output_type": "stream",
     "text": [
      "2\n"
     ]
    }
   ],
   "source": [
    "print(int(8/3))"
   ]
  },
  {
   "cell_type": "code",
   "execution_count": 68,
   "id": "c11db0be",
   "metadata": {
    "scrolled": true
   },
   "outputs": [
    {
     "name": "stdout",
     "output_type": "stream",
     "text": [
      "3\n"
     ]
    }
   ],
   "source": [
    "print(round(8/3))"
   ]
  },
  {
   "cell_type": "markdown",
   "id": "5344a3f9",
   "metadata": {},
   "source": [
    "The `round()` function in Python is used to round a floating-point number to a specified number of decimal places or to the nearest integer. The general syntax is as follows:\n",
    "\n",
    "```python\n",
    "round(number, ndigits)\n",
    "```\n",
    "\n",
    "- `number`: The number to be rounded.\n",
    "- `ndigits` (optional): The number of decimal places to round the `number` to. If omitted or set to 0, `round()` returns the nearest integer.\n",
    "\n",
    "Here are a few examples:\n",
    "\n",
    "### Rounding to the Nearest Integer:\n",
    "\n",
    "```python\n",
    "result = round(3.14159)\n",
    "print(result)  # Output: 3\n",
    "```\n",
    "\n",
    "### Rounding to a Specific Number of Decimal Places:\n",
    "\n",
    "```python\n",
    "result = round(3.14159, 2)\n",
    "print(result)  # Output: 3.14\n",
    "```\n",
    "\n",
    "In this example, `round()` is used to round the number `3.14159` to two decimal places.\n",
    "\n",
    "### Rounding with Negative `ndigits`:\n",
    "\n",
    "```python\n",
    "result = round(12345, -2)\n",
    "print(result)  # Output: 12300\n",
    "```\n",
    "\n",
    "When `ndigits` is a negative integer, the `number` is rounded to the left of the decimal point. In this case, the result is `12300`.\n",
    "\n",
    "### Floating-Point Precision Consideration:\n",
    "\n",
    "```python\n",
    "result = round(1.23456789, 5)\n",
    "print(result)  # Output: 1.23457\n",
    "```\n",
    "\n",
    "Keep in mind that floating-point representation in computers might lead to unexpected results due to precision issues. Always consider the inherent limitations of floating-point arithmetic when working with rounding operations."
   ]
  },
  {
   "cell_type": "raw",
   "id": "4791cd7d",
   "metadata": {},
   "source": [
    "print(round(8/3,2))"
   ]
  },
  {
   "cell_type": "code",
   "execution_count": 70,
   "id": "d53b3375",
   "metadata": {},
   "outputs": [
    {
     "name": "stdout",
     "output_type": "stream",
     "text": [
      "2.67\n"
     ]
    }
   ],
   "source": [
    "print(round(2.666666,2))"
   ]
  },
  {
   "cell_type": "code",
   "execution_count": 71,
   "id": "cff5dd58",
   "metadata": {},
   "outputs": [
    {
     "name": "stdout",
     "output_type": "stream",
     "text": [
      "2\n"
     ]
    }
   ],
   "source": [
    "print(8 // 3)"
   ]
  },
  {
   "cell_type": "code",
   "execution_count": 72,
   "id": "9c337a41",
   "metadata": {},
   "outputs": [
    {
     "name": "stdout",
     "output_type": "stream",
     "text": [
      "<class 'int'>\n"
     ]
    }
   ],
   "source": [
    "print(type(8 // 3))"
   ]
  },
  {
   "cell_type": "markdown",
   "id": "c54e69f6",
   "metadata": {},
   "source": [
    "Floor division is a mathematical operation that returns the largest integer that is less than or equal to the result of the division. In Python, the floor division operator is represented by a double forward slash (`//`).\n",
    "\n",
    "Here's a simple example:\n",
    "\n",
    "```python\n",
    "result = 7 // 2\n",
    "print(result)\n",
    "```\n",
    "\n",
    "The output of this code will be `3`. In the expression `7 // 2`, the floor division operator divides 7 by 2 and then rounds down to the nearest whole number. So, the result is 3 because 3 is the largest integer less than or equal to the result of the division (3.5).\n",
    "\n",
    "In the context of negative numbers, the behavior is consistent with the definition of floor division. For example:\n",
    "\n",
    "```python\n",
    "result = -7 // 2\n",
    "print(result)\n",
    "```\n",
    "\n",
    "The output of this code will be `-4`. In this case, -3.5 is rounded down to the nearest whole number, which is -4.\n",
    "\n",
    "Floor division is useful in situations where you want to obtain the quotient of a division operation without the remainder and ensure that the result is an integer."
   ]
  },
  {
   "cell_type": "code",
   "execution_count": 73,
   "id": "da47d167",
   "metadata": {},
   "outputs": [
    {
     "name": "stdout",
     "output_type": "stream",
     "text": [
      "<class 'float'>\n"
     ]
    }
   ],
   "source": [
    "print(type(8 / 3))"
   ]
  },
  {
   "cell_type": "code",
   "execution_count": 74,
   "id": "4962ce18",
   "metadata": {},
   "outputs": [
    {
     "name": "stdout",
     "output_type": "stream",
     "text": [
      "1.0\n"
     ]
    }
   ],
   "source": [
    "result = 4/2\n",
    "result /= 2\n",
    "print(result)"
   ]
  },
  {
   "cell_type": "code",
   "execution_count": 75,
   "id": "31de0589",
   "metadata": {},
   "outputs": [],
   "source": [
    "score = 0\n",
    "\n",
    "# user scores a point\n",
    "score += 1"
   ]
  },
  {
   "cell_type": "code",
   "execution_count": 76,
   "id": "36c5d6f7",
   "metadata": {},
   "outputs": [
    {
     "name": "stdout",
     "output_type": "stream",
     "text": [
      "1\n"
     ]
    }
   ],
   "source": [
    "print(score)"
   ]
  },
  {
   "cell_type": "code",
   "execution_count": 77,
   "id": "6212ba12",
   "metadata": {},
   "outputs": [
    {
     "ename": "TypeError",
     "evalue": "can only concatenate str (not \"int\") to str",
     "output_type": "error",
     "traceback": [
      "\u001b[1;31m---------------------------------------------------------------------------\u001b[0m",
      "\u001b[1;31mTypeError\u001b[0m                                 Traceback (most recent call last)",
      "Cell \u001b[1;32mIn[77], line 1\u001b[0m\n\u001b[1;32m----> 1\u001b[0m \u001b[38;5;28mprint\u001b[39m(\u001b[38;5;124m'\u001b[39m\u001b[38;5;124mYour score is \u001b[39m\u001b[38;5;124m'\u001b[39m \u001b[38;5;241m+\u001b[39m score)\n",
      "\u001b[1;31mTypeError\u001b[0m: can only concatenate str (not \"int\") to str"
     ]
    }
   ],
   "source": [
    "print('Your score is ' + score)"
   ]
  },
  {
   "cell_type": "code",
   "execution_count": 78,
   "id": "d67876d3",
   "metadata": {},
   "outputs": [
    {
     "name": "stdout",
     "output_type": "stream",
     "text": [
      "Your score is  1\n"
     ]
    }
   ],
   "source": [
    "print('Your score is ',int(score))"
   ]
  },
  {
   "cell_type": "code",
   "execution_count": 79,
   "id": "96bfcb5a",
   "metadata": {},
   "outputs": [
    {
     "name": "stdout",
     "output_type": "stream",
     "text": [
      "Your score is  1\n"
     ]
    }
   ],
   "source": [
    "print('Your score is ',str(score))"
   ]
  },
  {
   "cell_type": "code",
   "execution_count": 80,
   "id": "94f9ab95",
   "metadata": {},
   "outputs": [
    {
     "name": "stdout",
     "output_type": "stream",
     "text": [
      "Your score is 0\n"
     ]
    }
   ],
   "source": [
    "score = 0 \n",
    "height = 1.8\n",
    "iswinning = True\n",
    "\n",
    "print(\"Your score is \" + str(score))"
   ]
  },
  {
   "cell_type": "markdown",
   "id": "4308e1fd",
   "metadata": {},
   "source": [
    "An f-string, also known as a formatted string literal, is a way to embed expressions inside string literals in Python. F-strings were introduced in Python 3.6 as a concise and convenient way to format strings using variables and expressions.\n",
    "\n",
    "To create an f-string, you prefix the string literal with the letter 'f' or 'F' and then include expressions inside curly braces `{}`. The expressions inside the curly braces are evaluated at runtime and their values are inserted into the string.\n",
    "\n",
    "Here's a simple example:\n",
    "\n",
    "```python\n",
    "name = \"Alice\"\n",
    "age = 30\n",
    "height = 5.8\n",
    "\n",
    "# F-string\n",
    "message = f\"My name is {name}, I am {age} years old, and my height is {height} feet.\"\n",
    "print(message)\n",
    "```\n",
    "\n",
    "In this example, the variables `name`, `age`, and `height` are inserted into the string using f-string syntax. The output of this code will be:\n",
    "\n",
    "```\n",
    "My name is Alice, I am 30 years old, and my height is 5.8 feet.\n",
    "```\n",
    "\n",
    "F-strings support various expressions, including arithmetic operations, function calls, and more. They provide a concise and readable way to format strings compared to traditional methods like using the `%` formatting or the `str.format()` method.\n",
    "\n",
    "Note: F-strings are available in Python 3.6 and later versions. If you're using an older version of Python, you won't be able to use f-strings, and you may need to use other formatting methods."
   ]
  },
  {
   "cell_type": "code",
   "execution_count": 84,
   "id": "c9da30d8",
   "metadata": {},
   "outputs": [
    {
     "name": "stdout",
     "output_type": "stream",
     "text": [
      "Your score is 0 , your height is 1.8, you are winning True\n"
     ]
    }
   ],
   "source": [
    "# f-string\n",
    "score= 0 \n",
    "height = 1.8\n",
    "iswinning = True\n",
    "\n",
    "print(f\"Your score is {score} , your height is {height}, you are winning {iswinning}\" )"
   ]
  },
  {
   "cell_type": "markdown",
   "id": "de1420b5",
   "metadata": {},
   "source": [
    "The `format()` method in Python is a built-in string method used for formatting strings. It provides a flexible and powerful way to insert values into strings, allowing you to control the appearance and arrangement of the output.\n",
    "\n",
    "The general syntax of the `format()` method is as follows:\n",
    "\n",
    "```python\n",
    "formatted_string = \"Some text with {} and {}.\".format(value1, value2)\n",
    "```\n",
    "\n",
    "In this syntax:\n",
    "\n",
    "- `{}` is a placeholder that will be replaced by the values provided to the `format()` method.\n",
    "- `value1` and `value2` are the values to be inserted into the respective placeholders.\n",
    "\n",
    "Here's a simple example:\n",
    "\n",
    "```python\n",
    "name = \"Alice\"\n",
    "age = 30\n",
    "\n",
    "# Using format() method\n",
    "message = \"My name is {}, and I am {} years old.\".format(name, age)\n",
    "print(message)\n",
    "```\n",
    "\n",
    "In this example, the values of `name` and `age` are inserted into the placeholders `{}`.\n",
    "\n",
    "The `format()` method also allows you to specify the order in which the values are inserted and provides more control over the formatting. You can use positional arguments or named arguments:\n",
    "\n",
    "```python\n",
    "# Using positional arguments\n",
    "message = \"My name is {1}, and I am {0} years old.\".format(age, name)\n",
    "\n",
    "# Using named arguments\n",
    "message = \"My name is {n}, and I am {a} years old.\".format(a=age, n=name)\n",
    "```\n",
    "\n",
    "Starting from Python 3.6, f-strings (formatted string literals) have become a more concise and readable alternative to the `format()` method for simple string formatting. F-strings are often preferred for their clarity and ease of use.\n",
    "\n",
    "```python\n",
    "# Using f-string\n",
    "message = f\"My name is {name}, and I am {age} years old.\"\n",
    "```\n",
    "\n",
    "Both `format()` and f-strings are powerful tools for string formatting, and the choice between them often depends on personal preference and the complexity of the formatting requirements."
   ]
  },
  {
   "cell_type": "code",
   "execution_count": 87,
   "id": "890b33de",
   "metadata": {},
   "outputs": [
    {
     "name": "stdout",
     "output_type": "stream",
     "text": [
      "Your score is 0 , your height is 1.8, you are winning True\n"
     ]
    }
   ],
   "source": [
    "score= 0 \n",
    "height = 1.8\n",
    "iswinning = True\n",
    "\n",
    "print(\"Your score is {} , your height is {}, you are winning {}\".format(score,height,iswinning))"
   ]
  },
  {
   "cell_type": "markdown",
   "id": "b39cee38",
   "metadata": {},
   "source": [
    "f-string Vs format"
   ]
  },
  {
   "cell_type": "markdown",
   "id": "0a8eedf3",
   "metadata": {},
   "source": [
    "Both f-strings and the `format()` method are used for string formatting in Python, and each has its own advantages and use cases. Here are some pros and cons for each:\n",
    "\n",
    "### F-strings:\n",
    "\n",
    "**Pros:**\n",
    "1. **Conciseness:** F-strings provide a concise and readable syntax for embedding expressions in strings. The syntax is clean and resembles the final output.\n",
    "  \n",
    "2. **Clarity:** F-strings often result in more readable code, especially for simple cases. The variable names are directly embedded in the string, making it clear what values are being used.\n",
    "\n",
    "3. **Performance:** F-strings are generally faster than the `format()` method and older formatting methods.\n",
    "\n",
    "**Cons:**\n",
    "1. **Compatibility:** F-strings were introduced in Python 3.6, so if you're working with an older version of Python, they may not be available.\n",
    "\n",
    "### `format()` Method:\n",
    "\n",
    "**Pros:**\n",
    "1. **Versatility:** The `format()` method is more versatile and allows for more complex formatting. You can control the order of values, specify the precision of floating-point numbers, and use various formatting options.\n",
    "\n",
    "2. **Compatibility:** The `format()` method is available in all versions of Python 2 and 3, making it a more portable choice if you need to write code that works across different versions.\n",
    "\n",
    "**Cons:**\n",
    "1. **Verbosity:** The syntax of the `format()` method can be more verbose, especially for simple cases. The placeholders and the order of arguments can make the code less straightforward.\n",
    "\n",
    "2. **Readability:** In some cases, especially when dealing with a large number of placeholders or complex formatting, the code using `format()` might be less readable than the equivalent code using f-strings.\n",
    "\n",
    "### Conclusion:\n",
    "\n",
    "The choice between f-strings and the `format()` method often comes down to personal preference, code readability, and the specific formatting needs of your application. For simple cases, f-strings are often preferred for their clarity, while the `format()` method may be more suitable for complex formatting requirements. It's worth noting that f-strings have become increasingly popular and are widely used in modern Python codebases."
   ]
  },
  {
   "cell_type": "markdown",
   "id": "7d44c749",
   "metadata": {},
   "source": [
    "### Program"
   ]
  },
  {
   "cell_type": "markdown",
   "id": "54df845a",
   "metadata": {},
   "source": [
    "# create a program using maths and f-string that tells us how many weeks we have left if we live untill 90 years old"
   ]
  },
  {
   "cell_type": "code",
   "execution_count": 94,
   "id": "ab405e7b",
   "metadata": {},
   "outputs": [
    {
     "name": "stdout",
     "output_type": "stream",
     "text": [
      "Enter your age :34\n",
      "left age in weeks 2912\n"
     ]
    }
   ],
   "source": [
    "age             = input(\"Enter your age :\")\n",
    "age_weeks       = int(age) * 52\n",
    "life_expectency = 90\n",
    "ninety_in_weeks = int(life_expectency) * 52\n",
    "left_weeks      =  ninety_in_weeks - age_weeks\n",
    "print(f'left age in weeks {left_weeks}' )"
   ]
  },
  {
   "cell_type": "code",
   "execution_count": 96,
   "id": "79843c9f",
   "metadata": {},
   "outputs": [
    {
     "name": "stdout",
     "output_type": "stream",
     "text": [
      "38\n",
      "weeks left 2704\n"
     ]
    }
   ],
   "source": [
    "age   = input()\n",
    "years = 90 - int(age)\n",
    "weeks = years * 52\n",
    "print(f'weeks left {weeks}')"
   ]
  },
  {
   "cell_type": "code",
   "execution_count": 97,
   "id": "2b84218b",
   "metadata": {},
   "outputs": [
    {
     "ename": "TypeError",
     "evalue": "can only concatenate str (not \"int\") to str",
     "output_type": "error",
     "traceback": [
      "\u001b[1;31m---------------------------------------------------------------------------\u001b[0m",
      "\u001b[1;31mTypeError\u001b[0m                                 Traceback (most recent call last)",
      "Cell \u001b[1;32mIn[97], line 2\u001b[0m\n\u001b[0;32m      1\u001b[0m age \u001b[38;5;241m=\u001b[39m \u001b[38;5;241m12\u001b[39m\n\u001b[1;32m----> 2\u001b[0m \u001b[38;5;28mprint\u001b[39m(\u001b[38;5;124m\"\u001b[39m\u001b[38;5;124myou are\u001b[39m\u001b[38;5;124m\"\u001b[39m \u001b[38;5;241m+\u001b[39m age \u001b[38;5;241m+\u001b[39m \u001b[38;5;124m\"\u001b[39m\u001b[38;5;124mYears old\u001b[39m\u001b[38;5;124m\"\u001b[39m)\n",
      "\u001b[1;31mTypeError\u001b[0m: can only concatenate str (not \"int\") to str"
     ]
    }
   ],
   "source": [
    "age = 12\n",
    "print(\"you are\" + age + \"Years old\")"
   ]
  },
  {
   "cell_type": "markdown",
   "id": "df49ec3f",
   "metadata": {},
   "source": [
    "### Tip calculator"
   ]
  },
  {
   "cell_type": "code",
   "execution_count": 13,
   "id": "b4d64f6b",
   "metadata": {},
   "outputs": [
    {
     "name": "stdout",
     "output_type": "stream",
     "text": [
      "Welcome to the tip calculator.\n",
      "Enter your bill amount:100\n",
      "Enter your percentage :10\n",
      "How many people to split the bill? :4\n",
      "each person should pay 2.5\n"
     ]
    }
   ],
   "source": [
    "print('Welcome to the tip calculator.')\n",
    "bill              = input(\"Enter your bill amount:\")\n",
    "bill_percentage   = input('Enter your percentage :')\n",
    "tips              = float(bill) * (int(bill_percentage)/100)\n",
    "people_share      = int(input(\"How many people to split the bill? :\"))\n",
    "each_person_share = round(tips/int(people_share),2) \n",
    "print(f\"each person should pay {each_person_share}\")\n"
   ]
  },
  {
   "cell_type": "code",
   "execution_count": 8,
   "id": "5b541641",
   "metadata": {},
   "outputs": [
    {
     "name": "stdout",
     "output_type": "stream",
     "text": [
      "Welcome to the tip calculator.\n",
      "Enter your bill amount: 78466\n",
      "Enter the tip percentage: 16\n",
      "Tip amount: $12554.56\n"
     ]
    }
   ],
   "source": [
    "print('Welcome to the tip calculator.')\n",
    "bill = input(\"Enter your bill amount: \")\n",
    "bill_percentage = input(\"Enter the tip percentage: \")\n",
    "\n",
    "# Make sure to convert input values to appropriate data types (float) for calculations\n",
    "bill_amount = float(bill)\n",
    "tip_percentage = float(bill_percentage)\n",
    "\n",
    "tips = bill_amount * (tip_percentage / 100)\n",
    "print(f'Tip amount: ${tips:.2f}')\n"
   ]
  },
  {
   "cell_type": "markdown",
   "id": "1fc48061",
   "metadata": {},
   "source": [
    "### Mentor code"
   ]
  },
  {
   "cell_type": "code",
   "execution_count": null,
   "id": "24fdb2be",
   "metadata": {},
   "outputs": [],
   "source": [
    "print(\"welcome to the tip calculator!\")\n",
    "bill = input(\"What was the total bill?  $\")\n",
    "print(type(bill))"
   ]
  },
  {
   "cell_type": "code",
   "execution_count": 14,
   "id": "24b0899c",
   "metadata": {},
   "outputs": [
    {
     "name": "stdout",
     "output_type": "stream",
     "text": [
      "welcome to the tip calculator!\n",
      "What was the total bill?  $100\n",
      "How much tip would ypou like to give? 10, 12, or 15?10\n",
      "How many people to split the bill?4\n",
      "bill with tip : 110.0\n"
     ]
    }
   ],
   "source": [
    "print(\"welcome to the tip calculator!\")\n",
    "bill = float(input(\"What was the total bill?  $\"))\n",
    "tip  = int(input(\"How much tip would ypou like to give? 10, 12, or 15?\"))\n",
    "people = int(input(\"How many people to split the bill?\"))\n",
    "bill_with_tip = tip /100 * bill + bill\n",
    "\n",
    "print(f\"bill with tip : {bill_with_tip }\")"
   ]
  },
  {
   "cell_type": "code",
   "execution_count": 21,
   "id": "a2824fe8",
   "metadata": {},
   "outputs": [
    {
     "name": "stdout",
     "output_type": "stream",
     "text": [
      "welcome to the tip calculator!\n",
      "What was the total bill?  $150\n",
      "How much tip would ypou like to give? 10, 12, or 15?12\n",
      "How many people to split the bill?5\n",
      "Each person should pay : 33.6\n"
     ]
    }
   ],
   "source": [
    "print(\"welcome to the tip calculator!\")\n",
    "bill = float(input(\"What was the total bill?  $\"))\n",
    "tip               = int(input(\"How much tip would ypou like to give? 10, 12, or 15?\"))\n",
    "people            = int(input(\"How many people to split the bill?\"))\n",
    "tip_as_percent    = tip /100 \n",
    "total_tip_amount  = bill * tip_as_percent\n",
    "total_bill        = bill + total_tip_amount\n",
    "bill_per_person   = (total_bill / people)\n",
    "final_amount      = round(bill_per_person,2)\n",
    "print(f\"Each person should pay : {final_amount}\")"
   ]
  },
  {
   "cell_type": "code",
   "execution_count": null,
   "id": "b05dd8d1",
   "metadata": {},
   "outputs": [],
   "source": [
    "# to get 2 decimal point out we use this method"
   ]
  },
  {
   "cell_type": "code",
   "execution_count": 20,
   "id": "8c4ca7fa",
   "metadata": {},
   "outputs": [
    {
     "name": "stdout",
     "output_type": "stream",
     "text": [
      "welcome to the tip calculator!\n",
      "What was the total bill?  $150\n",
      "How much tip would ypou like to give? 10, 12, or 15?12\n",
      "How many people to split the bill?5\n",
      "Each person should pay : 33.60\n"
     ]
    }
   ],
   "source": [
    "print(\"welcome to the tip calculator!\")\n",
    "bill = float(input(\"What was the total bill?  $\"))\n",
    "tip               = int(input(\"How much tip would ypou like to give? 10, 12, or 15?\"))\n",
    "people            = int(input(\"How many people to split the bill?\"))\n",
    "tip_as_percent    = tip /100 \n",
    "total_tip_amount  = bill * tip_as_percent\n",
    "total_bill        = bill + total_tip_amount\n",
    "bill_per_person   = (total_bill / people)\n",
    "final_amount      = round(bill_per_person,2)\n",
    "final_amount      = \"{:.2f}\".format(bill_per_person)\n",
    "print(f\"Each person should pay : {final_amount}\")"
   ]
  },
  {
   "cell_type": "code",
   "execution_count": null,
   "id": "af21c54a",
   "metadata": {},
   "outputs": [],
   "source": []
  }
 ],
 "metadata": {
  "kernelspec": {
   "display_name": "Python 3 (ipykernel)",
   "language": "python",
   "name": "python3"
  },
  "language_info": {
   "codemirror_mode": {
    "name": "ipython",
    "version": 3
   },
   "file_extension": ".py",
   "mimetype": "text/x-python",
   "name": "python",
   "nbconvert_exporter": "python",
   "pygments_lexer": "ipython3",
   "version": "3.11.4"
  }
 },
 "nbformat": 4,
 "nbformat_minor": 5
}

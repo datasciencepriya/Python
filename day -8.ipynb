{
 "cells": [
  {
   "cell_type": "code",
   "execution_count": null,
   "id": "23695795",
   "metadata": {},
   "outputs": [],
   "source": [
    "# function greet"
   ]
  },
  {
   "cell_type": "code",
   "execution_count": 3,
   "id": "d6187214",
   "metadata": {},
   "outputs": [],
   "source": [
    "def my_function():\n",
    "    print(\"Hello priya\")\n",
    "    print(\"Happy Pongal\")\n",
    "    print(\"Have a great day!!!!\")"
   ]
  },
  {
   "cell_type": "code",
   "execution_count": 4,
   "id": "89e28042",
   "metadata": {},
   "outputs": [
    {
     "name": "stdout",
     "output_type": "stream",
     "text": [
      "Hello priya\n",
      "Happy Pongal\n",
      "Have a great day!!!!\n"
     ]
    }
   ],
   "source": [
    "my_function()"
   ]
  },
  {
   "cell_type": "code",
   "execution_count": 5,
   "id": "4449f4af",
   "metadata": {},
   "outputs": [],
   "source": [
    "def my_function():\n",
    "    print(\"Hello priya\", end = ' ')\n",
    "    print(\"Happy Pongal\", end = ' ')\n",
    "    print(\"Have a great day!!!!\")"
   ]
  },
  {
   "cell_type": "code",
   "execution_count": 6,
   "id": "6c9de46e",
   "metadata": {},
   "outputs": [
    {
     "name": "stdout",
     "output_type": "stream",
     "text": [
      "Hello priya Happy Pongal Have a great day!!!!\n"
     ]
    }
   ],
   "source": [
    "my_function()"
   ]
  },
  {
   "cell_type": "code",
   "execution_count": 10,
   "id": "f082d9ee",
   "metadata": {},
   "outputs": [],
   "source": [
    "def greet():\n",
    "    print(\"Hello\")\n",
    "    print(\"How do you do priya\")\n",
    "    print(\"Isn't the weather nice today?\")"
   ]
  },
  {
   "cell_type": "code",
   "execution_count": 11,
   "id": "cf119fa3",
   "metadata": {},
   "outputs": [
    {
     "name": "stdout",
     "output_type": "stream",
     "text": [
      "Hello\n",
      "How do you do priya\n",
      "Isn't the weather nice today?\n"
     ]
    }
   ],
   "source": [
    "greet()"
   ]
  },
  {
   "cell_type": "markdown",
   "id": "378cc545",
   "metadata": {},
   "source": [
    "Function with inputs"
   ]
  },
  {
   "cell_type": "markdown",
   "id": "f8991169",
   "metadata": {},
   "source": [
    "def my_func(something): like passing parameters"
   ]
  },
  {
   "cell_type": "code",
   "execution_count": 12,
   "id": "50a5c6ad",
   "metadata": {},
   "outputs": [],
   "source": [
    "def greet_with_name(name):\n",
    "    print(f'Hello {name}')\n",
    "    print(f\"How are you {name}?\")\n"
   ]
  },
  {
   "cell_type": "code",
   "execution_count": 13,
   "id": "bac6930c",
   "metadata": {},
   "outputs": [
    {
     "name": "stdout",
     "output_type": "stream",
     "text": [
      "Hello priya\n",
      "How are you priya?\n"
     ]
    }
   ],
   "source": [
    "greet_with_name(\"priya\") # here name parameter priya is arg"
   ]
  },
  {
   "cell_type": "code",
   "execution_count": 4,
   "id": "471fd2c3",
   "metadata": {},
   "outputs": [],
   "source": [
    "###  Positional arg\n",
    "\n",
    "def greet_with(name, location):\n",
    "    print(f\"Hello, {name}\")\n",
    "    print(f\"What are all the famous place in {location}\")"
   ]
  },
  {
   "cell_type": "code",
   "execution_count": 5,
   "id": "b9cf2474",
   "metadata": {},
   "outputs": [
    {
     "name": "stdout",
     "output_type": "stream",
     "text": [
      "Hello, priya\n",
      "What are all the famous place in kanchipuram\n"
     ]
    }
   ],
   "source": [
    "greet_with('priya','kanchipuram')"
   ]
  },
  {
   "cell_type": "markdown",
   "id": "7d3d46e7",
   "metadata": {},
   "source": [
    "def my_func(a,b,c):"
   ]
  },
  {
   "cell_type": "markdown",
   "id": "bf046574",
   "metadata": {},
   "source": [
    "### keyword arg"
   ]
  },
  {
   "cell_type": "markdown",
   "id": "9cf119cb",
   "metadata": {},
   "source": [
    "myfun (c=3, a=1,b=2)"
   ]
  },
  {
   "cell_type": "code",
   "execution_count": null,
   "id": "023e9e92",
   "metadata": {},
   "outputs": [],
   "source": [
    "greet_with(name=\"priya\", location='India') # order doesnt matter "
   ]
  },
  {
   "cell_type": "markdown",
   "id": "46380df1",
   "metadata": {},
   "source": [
    "#### paint area calculates\n",
    "you are painting a wall .The instruction on the paint can says that 1 can of paint can cover 5 square meters of wall. given a random\n",
    "height and width of wall calculate how many cans of paint u ll need to buy"
   ]
  },
  {
   "cell_type": "code",
   "execution_count": 12,
   "id": "f9c726ab",
   "metadata": {},
   "outputs": [
    {
     "name": "stdout",
     "output_type": "stream",
     "text": [
      "Enter the width:4\n",
      "Enter the height:5\n",
      "The number of cans to  buy : 4\n"
     ]
    }
   ],
   "source": [
    "width  = float(input(\"Enter the width:\"))\n",
    "height = float(input(\"Enter the height:\"))\n",
    "coverage = 5\n",
    "# num of can = (h \\* w)/ 5\n",
    "number_of_can = round((width * height) / coverage)\n",
    "\n",
    "print (f'The number of cans to  buy : {number_of_can}')"
   ]
  },
  {
   "cell_type": "code",
   "execution_count": 10,
   "id": "95a824c5",
   "metadata": {},
   "outputs": [
    {
     "data": {
      "text/plain": [
       "1.6"
      ]
     },
     "execution_count": 10,
     "metadata": {},
     "output_type": "execute_result"
    }
   ],
   "source": [
    "2 * 4/5"
   ]
  },
  {
   "cell_type": "code",
   "execution_count": 22,
   "id": "e5a8a67b",
   "metadata": {},
   "outputs": [],
   "source": [
    "import math\n",
    "def paint_calc(height,width, cover):\n",
    "    num_of_can = (height * width) / cover\n",
    "    round_up_cans = math.ceil(num_of_can)\n",
    "    print(f\"You'll need {round_up_cans} cans of paint\")"
   ]
  },
  {
   "cell_type": "code",
   "execution_count": 23,
   "id": "7fb9cc9b",
   "metadata": {},
   "outputs": [
    {
     "name": "stdout",
     "output_type": "stream",
     "text": [
      "You'll need 3 cans of paint\n"
     ]
    }
   ],
   "source": [
    "paint_calc(4,3,5)"
   ]
  },
  {
   "cell_type": "code",
   "execution_count": 24,
   "id": "33078f21",
   "metadata": {},
   "outputs": [],
   "source": [
    "### Check prime number"
   ]
  },
  {
   "cell_type": "code",
   "execution_count": 30,
   "id": "93674034",
   "metadata": {},
   "outputs": [
    {
     "name": "stdout",
     "output_type": "stream",
     "text": [
      "5\n",
      "It's a prime number\n"
     ]
    }
   ],
   "source": [
    "def prime_checker(number):\n",
    "    is_prime = True\n",
    "    for i in range(2, n):\n",
    "        if n % i == 0:\n",
    "            is_prime = False\n",
    "    if is_prime:\n",
    "        print(\"It's a prime number\")\n",
    "    else:\n",
    "        print(\"It's not a prime number\")\n",
    "\n",
    "\n",
    "n = int(input())\n",
    "prime_checker(number = n)"
   ]
  },
  {
   "cell_type": "code",
   "execution_count": null,
   "id": "f9618e3b",
   "metadata": {},
   "outputs": [],
   "source": [
    "def prime_checker(number):\n",
    "    is_prime = True\n",
    "    for i in range(2, number):\n",
    "    "
   ]
  },
  {
   "cell_type": "code",
   "execution_count": 32,
   "id": "0d38bbb7",
   "metadata": {},
   "outputs": [],
   "source": [
    "def is_prime(num):\n",
    "    if num <= 1:\n",
    "        return False\n",
    "    for i in range(2, int(num**0.5) + 1):\n",
    "        if num % i == 0:\n",
    "            return False\n",
    "    return True\n",
    "\n",
    "# Example usage:\n",
    "# result = is_prime(17)\n",
    "# print(result)  # Output: True\n"
   ]
  },
  {
   "cell_type": "code",
   "execution_count": 33,
   "id": "4c3db3bb",
   "metadata": {},
   "outputs": [
    {
     "data": {
      "text/plain": [
       "False"
      ]
     },
     "execution_count": 33,
     "metadata": {},
     "output_type": "execute_result"
    }
   ],
   "source": [
    "is_prime(6)"
   ]
  },
  {
   "cell_type": "markdown",
   "id": "3c240e95",
   "metadata": {},
   "source": [
    "### Ceaser Cipher"
   ]
  },
  {
   "cell_type": "markdown",
   "id": "7580f720",
   "metadata": {},
   "source": [
    "### shift alphabet as per input"
   ]
  },
  {
   "cell_type": "code",
   "execution_count": 43,
   "id": "778e17b0",
   "metadata": {},
   "outputs": [
    {
     "name": "stdout",
     "output_type": "stream",
     "text": [
      "Type 'encode' to encrypt , type 'decode' to decrypt :\n",
      "encode\n",
      "Type your message:\n",
      "hello\n",
      "Type the shift number:\n",
      "5\n",
      "The encoded text is mjqqt\n"
     ]
    }
   ],
   "source": [
    "alphabet = ['a', 'b', 'c', 'd', 'e', 'f', 'g', 'h', 'i', 'j', 'k', 'l', 'm', \n",
    "            'n', 'o', 'p', 'q', 'r', 's', 't', 'u', 'v', 'w', 'x', 'y', 'z']\n",
    "\n",
    "direction = input(\"Type 'encode' to encrypt , type 'decode' to decrypt :\\n\")\n",
    "text      = input(\"Type your message:\\n\").lower()\n",
    "shift     = int(input(\"Type the shift number:\\n\"))\n",
    "                \n",
    "# create fn called encrypt that takes input test and shift as inputs\n",
    "                \n",
    "def encrypt(plain_text, shift_amount):\n",
    "    cipher_text = \"\"\n",
    "    for letter in plain_text:\n",
    "        position     = alphabet.index(letter)\n",
    "        new_position  = position + shift_amount\n",
    "        new_letter   = alphabet[new_position]\n",
    "        cipher_text += new_letter\n",
    "    print(f'The encoded text is {cipher_text}')\n",
    "                \n",
    "encrypt(plain_text = text, shift_amount = shift)\n",
    "                \n",
    "                "
   ]
  },
  {
   "cell_type": "code",
   "execution_count": 44,
   "id": "50cd1d8a",
   "metadata": {},
   "outputs": [
    {
     "name": "stdout",
     "output_type": "stream",
     "text": [
      "Type 'encode' to encrypt , type 'decode' to decrypt :\n",
      "encode\n",
      "Type your message:\n",
      "zulu\n",
      "Type the shift number:\n",
      "5\n"
     ]
    },
    {
     "ename": "IndexError",
     "evalue": "list index out of range",
     "output_type": "error",
     "traceback": [
      "\u001b[1;31m---------------------------------------------------------------------------\u001b[0m",
      "\u001b[1;31mIndexError\u001b[0m                                Traceback (most recent call last)",
      "Cell \u001b[1;32mIn[44], line 21\u001b[0m\n\u001b[0;32m     18\u001b[0m         cipher_text \u001b[38;5;241m+\u001b[39m\u001b[38;5;241m=\u001b[39m new_letter\n\u001b[0;32m     19\u001b[0m     \u001b[38;5;28mprint\u001b[39m(\u001b[38;5;124mf\u001b[39m\u001b[38;5;124m'\u001b[39m\u001b[38;5;124mThe encoded text is \u001b[39m\u001b[38;5;132;01m{\u001b[39;00mcipher_text\u001b[38;5;132;01m}\u001b[39;00m\u001b[38;5;124m'\u001b[39m)\n\u001b[1;32m---> 21\u001b[0m encrypt(plain_text \u001b[38;5;241m=\u001b[39m text, shift_amount \u001b[38;5;241m=\u001b[39m shift)\n",
      "Cell \u001b[1;32mIn[44], line 17\u001b[0m, in \u001b[0;36mencrypt\u001b[1;34m(plain_text, shift_amount)\u001b[0m\n\u001b[0;32m     15\u001b[0m     position     \u001b[38;5;241m=\u001b[39m alphabet\u001b[38;5;241m.\u001b[39mindex(letter)\n\u001b[0;32m     16\u001b[0m     new_position  \u001b[38;5;241m=\u001b[39m position \u001b[38;5;241m+\u001b[39m shift_amount\n\u001b[1;32m---> 17\u001b[0m     new_letter   \u001b[38;5;241m=\u001b[39m alphabet[new_position]\n\u001b[0;32m     18\u001b[0m     cipher_text \u001b[38;5;241m+\u001b[39m\u001b[38;5;241m=\u001b[39m new_letter\n\u001b[0;32m     19\u001b[0m \u001b[38;5;28mprint\u001b[39m(\u001b[38;5;124mf\u001b[39m\u001b[38;5;124m'\u001b[39m\u001b[38;5;124mThe encoded text is \u001b[39m\u001b[38;5;132;01m{\u001b[39;00mcipher_text\u001b[38;5;132;01m}\u001b[39;00m\u001b[38;5;124m'\u001b[39m)\n",
      "\u001b[1;31mIndexError\u001b[0m: list index out of range"
     ]
    }
   ],
   "source": [
    "alphabet = ['a', 'b', 'c', 'd', 'e', 'f', 'g', 'h', 'i', 'j', 'k', 'l', 'm', \n",
    "            'n', 'o', 'p', 'q', 'r', 's', 't', 'u', 'v', 'w', 'x', 'y', 'z'\n",
    "           'a', 'b', 'c', 'd', 'e', 'f', 'g', 'h', 'i', 'j', 'k', 'l', 'm', \n",
    "            'n', 'o', 'p', 'q', 'r', 's', 't', 'u', 'v', 'w', 'x', 'y', 'z']\n",
    "\n",
    "direction = input(\"Type 'encode' to encrypt , type 'decode' to decrypt :\\n\")\n",
    "text      = input(\"Type your message:\\n\").lower()\n",
    "shift     = int(input(\"Type the shift number:\\n\"))\n",
    "                \n",
    "# create fn called encrypt that takes input test and shift as inputs\n",
    "                \n",
    "def encrypt(plain_text, shift_amount):\n",
    "    cipher_text = \"\"\n",
    "    for letter in plain_text:\n",
    "        position     = alphabet.index(letter)\n",
    "        new_position  = position + shift_amount\n",
    "        new_letter   = alphabet[new_position]\n",
    "        cipher_text += new_letter\n",
    "    print(f'The encoded text is {cipher_text}')\n",
    "                \n",
    "encrypt(plain_text = text, shift_amount = shift)\n",
    "                \n",
    "                "
   ]
  },
  {
   "cell_type": "code",
   "execution_count": 50,
   "id": "6aedcb37",
   "metadata": {},
   "outputs": [
    {
     "name": "stdout",
     "output_type": "stream",
     "text": [
      "Type 'encode' to encrypt , type 'decode' to decrypt :\n",
      "encode\n",
      "Type your message:\n",
      "zulu\n",
      "Type the shift number:\n",
      "5\n",
      "The encoded text is ezqz\n",
      "The encoded text is ezqz\n"
     ]
    }
   ],
   "source": [
    "alphabet = ['a', 'b', 'c', 'd', 'e', 'f', 'g', 'h', 'i', 'j', 'k', 'l', 'm', \n",
    "            'n', 'o', 'p', 'q', 'r', 's', 't', 'u', 'v', 'w', 'x', 'y', 'z',\n",
    "           'a', 'b', 'c', 'd', 'e', 'f', 'g', 'h', 'i', 'j', 'k', 'l', 'm', \n",
    "            'n', 'o', 'p', 'q', 'r', 's', 't', 'u', 'v', 'w', 'x', 'y', 'z']\n",
    "\n",
    "direction = input(\"Type 'encode' to encrypt , type 'decode' to decrypt :\\n\")\n",
    "text      = input(\"Type your message:\\n\").lower()\n",
    "shift     = int(input(\"Type the shift number:\\n\"))\n",
    "                \n",
    "# create fn called encrypt that takes input test and shift as inputs\n",
    "                \n",
    "def encrypt(plain_text, shift_amount):\n",
    "    cipher_text = \"\"\n",
    "    for letter in plain_text:\n",
    "        position     = alphabet.index(letter)\n",
    "        new_position  = position + shift_amount\n",
    "        new_letter   = alphabet[new_position]\n",
    "        cipher_text += new_letter\n",
    "    print(f'The encoded text is {cipher_text}')\n",
    "                \n",
    "encrypt(plain_text = text, shift_amount = shift)\n",
    "                \n",
    "def decrypt(cipher_text, shift_amount):\n",
    "    plain_text =\"\"\n",
    "    for letter in cipher_text:\n",
    "        position = alphabet.index(letter)\n",
    "        new_position = position - shift_amount\n",
    "        plain_text += alphabet[new_position]\n",
    "    print(f\"The Decoded text is {plain_text}\")\n",
    "    \n",
    "    \n",
    "if direction == 'encode':\n",
    "    encrypt(plain_text = text, shift_amount = shift)\n",
    "elif direction == \"decode\":\n",
    "    decrypt(cipher_text = text, shift_amount= shift)\n",
    "                "
   ]
  },
  {
   "cell_type": "code",
   "execution_count": 52,
   "id": "718757a3",
   "metadata": {},
   "outputs": [
    {
     "name": "stdout",
     "output_type": "stream",
     "text": [
      "Type 'encode' to encrypt , type 'decode' to decrypt :\n",
      "encode\n",
      "Type your message:\n",
      "bakkiyalakshmi\n",
      "Type the shift number:\n",
      "5\n",
      "The encoded text is gfppndfqfpxmrn\n",
      "The encoded text is gfppndfqfpxmrn\n"
     ]
    },
    {
     "ename": "NameError",
     "evalue": "name 'new_position' is not defined",
     "output_type": "error",
     "traceback": [
      "\u001b[1;31m---------------------------------------------------------------------------\u001b[0m",
      "\u001b[1;31mNameError\u001b[0m                                 Traceback (most recent call last)",
      "Cell \u001b[1;32mIn[52], line 50\u001b[0m\n\u001b[0;32m     45\u001b[0m \u001b[38;5;28;01melif\u001b[39;00m direction \u001b[38;5;241m==\u001b[39m \u001b[38;5;124m\"\u001b[39m\u001b[38;5;124mdecode\u001b[39m\u001b[38;5;124m\"\u001b[39m:\n\u001b[0;32m     46\u001b[0m     decrypt(cipher_text \u001b[38;5;241m=\u001b[39m text, shift_amount\u001b[38;5;241m=\u001b[39m shift)\n\u001b[1;32m---> 50\u001b[0m caesar(start_text \u001b[38;5;241m=\u001b[39m text,shift_amount \u001b[38;5;241m=\u001b[39m shift, cipher_direction\u001b[38;5;241m=\u001b[39m direction)\n",
      "Cell \u001b[1;32mIn[52], line 18\u001b[0m, in \u001b[0;36mcaesar\u001b[1;34m(start_text, shift_amount, cipher_direction)\u001b[0m\n\u001b[0;32m     16\u001b[0m \u001b[38;5;28;01mif\u001b[39;00m cipher_direction \u001b[38;5;241m==\u001b[39m \u001b[38;5;124m\"\u001b[39m\u001b[38;5;124mencode\u001b[39m\u001b[38;5;124m\"\u001b[39m:\n\u001b[0;32m     17\u001b[0m     shift_amount \u001b[38;5;241m*\u001b[39m\u001b[38;5;241m=\u001b[39m \u001b[38;5;241m-\u001b[39m\u001b[38;5;241m1\u001b[39m   \u001b[38;5;66;03m# 5 * -1 = -5, 12 + -5 = 7\u001b[39;00m\n\u001b[1;32m---> 18\u001b[0m     new_position \u001b[38;5;241m==\u001b[39m position \u001b[38;5;241m+\u001b[39m shift_number\n\u001b[0;32m     19\u001b[0m     end_text     \u001b[38;5;241m+\u001b[39m\u001b[38;5;241m=\u001b[39m alphabet[new_position]\n\u001b[0;32m     20\u001b[0m \u001b[38;5;28mprint\u001b[39m(\u001b[38;5;124mf\u001b[39m\u001b[38;5;124m\"\u001b[39m\u001b[38;5;124mThe \u001b[39m\u001b[38;5;132;01m{\u001b[39;00mcipher_direction\u001b[38;5;132;01m}\u001b[39;00m\u001b[38;5;124m is \u001b[39m\u001b[38;5;132;01m{\u001b[39;00mend_text\u001b[38;5;132;01m}\u001b[39;00m\u001b[38;5;124m\"\u001b[39m)\n",
      "\u001b[1;31mNameError\u001b[0m: name 'new_position' is not defined"
     ]
    }
   ],
   "source": [
    "alphabet = ['a', 'b', 'c', 'd', 'e', 'f', 'g', 'h', 'i', 'j', 'k', 'l', 'm', \n",
    "            'n', 'o', 'p', 'q', 'r', 's', 't', 'u', 'v', 'w', 'x', 'y', 'z',\n",
    "           'a', 'b', 'c', 'd', 'e', 'f', 'g', 'h', 'i', 'j', 'k', 'l', 'm', \n",
    "            'n', 'o', 'p', 'q', 'r', 's', 't', 'u', 'v', 'w', 'x', 'y', 'z']\n",
    "\n",
    "direction = input(\"Type 'encode' to encrypt , type 'decode' to decrypt :\\n\")\n",
    "text      = input(\"Type your message:\\n\").lower()\n",
    "shift     = int(input(\"Type the shift number:\\n\"))\n",
    "                \n",
    "# create fn called encrypt that takes input test and shift as inputs\n",
    "\n",
    "def caesar(start_text, shift_amount, cipher_direction):\n",
    "    end_text = \"\"\n",
    "    for letter in start_text:\n",
    "        position = alphabet.index(letter)\n",
    "        if cipher_direction == \"encode\":\n",
    "            shift_amount *= -1   # 5 * -1 = -5, 12 + -5 = 7\n",
    "            new_position == position + shift_number\n",
    "            end_text     += alphabet[new_position]\n",
    "        print(f\"The {cipher_direction} is {end_text}\")\n",
    "            \n",
    "                \n",
    "def encrypt(plain_text, shift_amount):\n",
    "    cipher_text = \"\"\n",
    "    for letter in plain_text:\n",
    "        position     = alphabet.index(letter)\n",
    "        new_position  = position + shift_amount\n",
    "        new_letter   = alphabet[new_position]\n",
    "        cipher_text += new_letter\n",
    "    print(f'The encoded text is {cipher_text}')\n",
    "                \n",
    "encrypt(plain_text = text, shift_amount = shift)\n",
    "                \n",
    "def decrypt(cipher_text, shift_amount):\n",
    "    plain_text =\"\"\n",
    "    for letter in cipher_text:\n",
    "        position = alphabet.index(letter)\n",
    "        new_position = position - shift_amount\n",
    "        plain_text += alphabet[new_position]\n",
    "    print(f\"The Decoded text is {plain_text}\")\n",
    "    \n",
    "    \n",
    "if direction == 'encode':\n",
    "    encrypt(plain_text = text, shift_amount = shift)\n",
    "elif direction == \"decode\":\n",
    "    decrypt(cipher_text = text, shift_amount= shift)\n",
    "                \n",
    "        \n",
    "        \n",
    "caesar(start_text = text,shift_amount = shift, cipher_direction= direction)"
   ]
  },
  {
   "cell_type": "code",
   "execution_count": 57,
   "id": "c80ea835",
   "metadata": {},
   "outputs": [
    {
     "name": "stdout",
     "output_type": "stream",
     "text": [
      "Type 'encode' to encrypt, type 'decode' to decrypt:\n",
      "encode\n",
      "Type your message:\n",
      "priya\n",
      "Type the shift number:\n",
      "5\n",
      "The encoded text is uwndf\n"
     ]
    },
    {
     "ename": "UnboundLocalError",
     "evalue": "cannot access local variable 'letter' where it is not associated with a value",
     "output_type": "error",
     "traceback": [
      "\u001b[1;31m---------------------------------------------------------------------------\u001b[0m",
      "\u001b[1;31mUnboundLocalError\u001b[0m                         Traceback (most recent call last)",
      "Cell \u001b[1;32mIn[57], line 55\u001b[0m\n\u001b[0;32m     53\u001b[0m \u001b[38;5;28;01mif\u001b[39;00m direction \u001b[38;5;241m==\u001b[39m \u001b[38;5;124m'\u001b[39m\u001b[38;5;124mencode\u001b[39m\u001b[38;5;124m'\u001b[39m:\n\u001b[0;32m     54\u001b[0m     encrypt(plain_text\u001b[38;5;241m=\u001b[39mtext, shift_amount\u001b[38;5;241m=\u001b[39mshift)\n\u001b[1;32m---> 55\u001b[0m     caesar(start_text\u001b[38;5;241m=\u001b[39mtext, shift_amount\u001b[38;5;241m=\u001b[39mshift, cipher_direction\u001b[38;5;241m=\u001b[39mdirection)\n\u001b[0;32m     56\u001b[0m \u001b[38;5;28;01melif\u001b[39;00m direction \u001b[38;5;241m==\u001b[39m \u001b[38;5;124m\"\u001b[39m\u001b[38;5;124mdecode\u001b[39m\u001b[38;5;124m\"\u001b[39m:\n\u001b[0;32m     57\u001b[0m     decrypt(cipher_text\u001b[38;5;241m=\u001b[39mtext, shift_amount\u001b[38;5;241m=\u001b[39mshift)\n",
      "Cell \u001b[1;32mIn[57], line 39\u001b[0m, in \u001b[0;36mcaesar\u001b[1;34m(start_text, shift_amount, cipher_direction)\u001b[0m\n\u001b[0;32m     37\u001b[0m \u001b[38;5;28;01mdef\u001b[39;00m \u001b[38;5;21mcaesar\u001b[39m(start_text, shift_amount, cipher_direction):\n\u001b[0;32m     38\u001b[0m     end_text \u001b[38;5;241m=\u001b[39m \u001b[38;5;124m\"\u001b[39m\u001b[38;5;124m\"\u001b[39m\n\u001b[1;32m---> 39\u001b[0m     \u001b[38;5;28;01mif\u001b[39;00m letter \u001b[38;5;129;01min\u001b[39;00m alphabet:\n\u001b[0;32m     40\u001b[0m             position \u001b[38;5;241m=\u001b[39m alphabet\u001b[38;5;241m.\u001b[39mindex(letter)\n\u001b[0;32m     41\u001b[0m     \u001b[38;5;28;01mfor\u001b[39;00m letter \u001b[38;5;129;01min\u001b[39;00m start_text:\n",
      "\u001b[1;31mUnboundLocalError\u001b[0m: cannot access local variable 'letter' where it is not associated with a value"
     ]
    }
   ],
   "source": [
    "alphabet = ['a', 'b', 'c', 'd', 'e', 'f', 'g', 'h', 'i', 'j', 'k', 'l', 'm', \n",
    "            'n', 'o', 'p', 'q', 'r', 's', 't', 'u', 'v', 'w', 'x', 'y', 'z',\n",
    "            'a', 'b', 'c', 'd', 'e', 'f', 'g', 'h', 'i', 'j', 'k', 'l', 'm', \n",
    "            'n', 'o', 'p', 'q', 'r', 's', 't', 'u', 'v', 'w', 'x', 'y', 'z']\n",
    "\n",
    "direction = input(\"Type 'encode' to encrypt, type 'decode' to decrypt:\\n\")\n",
    "text = input(\"Type your message:\\n\").lower()\n",
    "shift = int(input(\"Type the shift number:\\n\"))\n",
    "                \n",
    "# create function called encrypt that takes input text and shift as inputs\n",
    "def encrypt(plain_text, shift_amount):\n",
    "    cipher_text = \"\"\n",
    "    for letter in plain_text:\n",
    "        if letter in alphabet:\n",
    "            position = alphabet.index(letter)\n",
    "            new_position = position + shift_amount\n",
    "            new_letter = alphabet[new_position]\n",
    "            cipher_text += new_letter\n",
    "        else:\n",
    "            cipher_text += letter  # Keep non-alphabetic characters unchanged\n",
    "    print(f'The encoded text is {cipher_text}')\n",
    "\n",
    "# create function called decrypt that takes input text and shift as inputs\n",
    "def decrypt(cipher_text, shift_amount):\n",
    "    plain_text = \"\"\n",
    "    for letter in cipher_text:\n",
    "        if letter in alphabet:\n",
    "            position = alphabet.index(letter)\n",
    "            new_position = position - shift_amount\n",
    "            new_letter = alphabet[new_position]\n",
    "            plain_text += new_letter\n",
    "        else:\n",
    "            plain_text += letter  # Keep non-alphabetic characters unchanged\n",
    "    print(f\"The decoded text is {plain_text}\")\n",
    "\n",
    "# create function called caesar that takes input text, shift, and direction as inputs\n",
    "def caesar(start_text, shift_amount, cipher_direction):\n",
    "    end_text = \"\"\n",
    "    if letter in alphabet:\n",
    "            position = alphabet.index(letter)\n",
    "    for letter in start_text:\n",
    "        \n",
    "            if cipher_direction == \"encode\":\n",
    "                shift_amount *= -1\n",
    "                new_position = position + shift_amount\n",
    "                new_letter = alphabet[new_position]\n",
    "                end_text += new_letter\n",
    "            else:\n",
    "                end_text += letter  # Keep non-alphabetic characters unchanged\n",
    "    print(f\"The {cipher_direction}d text is {end_text}\")\n",
    "\n",
    "# Check the direction and call the appropriate function\n",
    "if direction == 'encode':\n",
    "    encrypt(plain_text=text, shift_amount=shift)\n",
    "    caesar(start_text=text, shift_amount=shift, cipher_direction=direction)\n",
    "elif direction == \"decode\":\n",
    "    decrypt(cipher_text=text, shift_amount=shift)\n",
    "    caesar(start_text=text, shift_amount=shift, cipher_direction=direction)\n"
   ]
  },
  {
   "cell_type": "code",
   "execution_count": 60,
   "id": "11c032a2",
   "metadata": {},
   "outputs": [
    {
     "name": "stdout",
     "output_type": "stream",
     "text": [
      "Type 'encode' to encrypt, type 'decode' to decrypt:\n",
      "encode\n",
      "Type your message:\n",
      "lakshmi\n",
      "Type the shift number:\n",
      "5\n"
     ]
    },
    {
     "ename": "ModuleNotFoundError",
     "evalue": "No module named 'art'",
     "output_type": "error",
     "traceback": [
      "\u001b[1;31m---------------------------------------------------------------------------\u001b[0m",
      "\u001b[1;31mModuleNotFoundError\u001b[0m                       Traceback (most recent call last)",
      "Cell \u001b[1;32mIn[60], line 52\u001b[0m\n\u001b[0;32m     49\u001b[0m                 end_text \u001b[38;5;241m+\u001b[39m\u001b[38;5;241m=\u001b[39m char  \u001b[38;5;66;03m# Keep non-alphabetic characters unchanged\u001b[39;00m\n\u001b[0;32m     50\u001b[0m     \u001b[38;5;28mprint\u001b[39m(\u001b[38;5;124mf\u001b[39m\u001b[38;5;124m\"\u001b[39m\u001b[38;5;124mThe \u001b[39m\u001b[38;5;132;01m{\u001b[39;00mcipher_direction\u001b[38;5;132;01m}\u001b[39;00m\u001b[38;5;124md text is \u001b[39m\u001b[38;5;132;01m{\u001b[39;00mend_text\u001b[38;5;132;01m}\u001b[39;00m\u001b[38;5;124m\"\u001b[39m)\n\u001b[1;32m---> 52\u001b[0m \u001b[38;5;28;01mfrom\u001b[39;00m \u001b[38;5;21;01mart\u001b[39;00m \u001b[38;5;28;01mimport\u001b[39;00m logo\n\u001b[0;32m     53\u001b[0m \u001b[38;5;28mprint\u001b[39m(logo)\n\u001b[0;32m     54\u001b[0m \u001b[38;5;66;03m# Check the direction and call the appropriate function\u001b[39;00m\n",
      "\u001b[1;31mModuleNotFoundError\u001b[0m: No module named 'art'"
     ]
    }
   ],
   "source": [
    "alphabet = ['a', 'b', 'c', 'd', 'e', 'f', 'g', 'h', 'i', 'j', 'k', 'l', 'm', \n",
    "            'n', 'o', 'p', 'q', 'r', 's', 't', 'u', 'v', 'w', 'x', 'y', 'z',\n",
    "            'a', 'b', 'c', 'd', 'e', 'f', 'g', 'h', 'i', 'j', 'k', 'l', 'm', \n",
    "            'n', 'o', 'p', 'q', 'r', 's', 't', 'u', 'v', 'w', 'x', 'y', 'z']\n",
    "should_continue = True\n",
    "while should_continue:\n",
    "    direction = input(\"Type 'encode' to encrypt, type 'decode' to decrypt:\\n\")\n",
    "    text = input(\"Type your message:\\n\").lower()\n",
    "    shift = int(input(\"Type the shift number:\\n\"))\n",
    "\n",
    "shift = shift % 26\n",
    "caeser(start_text=text, shift_amount = shift, cipher_direction= direction)\n",
    "result = input(\"type 'yes' if you want to go again. otherwise type 'no'.\\n\")\n",
    "if result == 'no':\n",
    "    should_continue = False\n",
    "    print(\"Goodbye\")\n",
    "                \n",
    "# create function called encrypt that takes input text and shift as inputs\n",
    "def encrypt(plain_text, shift_amount):\n",
    "    cipher_text = \"\"\n",
    "    for letter in plain_text:\n",
    "        if letter in alphabet:\n",
    "            position = alphabet.index(letter)\n",
    "            new_position = position + shift_amount\n",
    "            new_letter = alphabet[new_position]\n",
    "            cipher_text += new_letter\n",
    "        else:\n",
    "            cipher_text += letter  # Keep non-alphabetic characters unchanged\n",
    "    print(f'The encoded text is {cipher_text}')\n",
    "\n",
    "# create function called decrypt that takes input text and shift as inputs\n",
    "def decrypt(cipher_text, shift_amount):\n",
    "    plain_text = \"\"\n",
    "    for letter in cipher_text:\n",
    "        if letter in alphabet:\n",
    "            position = alphabet.index(letter)\n",
    "            new_position = position - shift_amount\n",
    "            new_letter = alphabet[new_position]\n",
    "            plain_text += new_letter\n",
    "        else:\n",
    "            plain_text += letter  # Keep non-alphabetic characters unchanged\n",
    "    print(f\"The decoded text is {plain_text}\")\n",
    "\n",
    "# create function called caesar that takes input text, shift, and direction as inputs\n",
    "def caesar(start_text, shift_amount, cipher_direction):\n",
    "    end_text = \"\"\n",
    "    if cipher_direction == \"decode\":\n",
    "        shift_amount *= -1\n",
    "    for char in start_text:\n",
    "        if char in alphabet:\n",
    "            position = alphabet.index(letter)\n",
    "            new_position = position + shift_amount\n",
    "            end_text += new_letter[new_position]\n",
    "        else:\n",
    "                end_text += char  # Keep non-alphabetic characters unchanged\n",
    "    print(f\"The {cipher_direction}d text is {end_text}\")\n",
    "\n",
    "from art import logo\n",
    "print(logo)\n",
    "# Check the direction and call the appropriate function\n",
    "if direction == 'encode':\n",
    "    encrypt(plain_text=text, shift_amount=shift)\n",
    "    caesar(start_text=text, shift_amount=shift, cipher_direction=direction)\n",
    "elif direction == \"decode\":\n",
    "    decrypt(cipher_text=text, shift_amount=shift)\n",
    "    caesar(start_text=text, shift_amount=shift, cipher_direction=direction)\n"
   ]
  },
  {
   "cell_type": "code",
   "execution_count": null,
   "id": "867a03ac",
   "metadata": {},
   "outputs": [],
   "source": []
  }
 ],
 "metadata": {
  "kernelspec": {
   "display_name": "Python 3 (ipykernel)",
   "language": "python",
   "name": "python3"
  },
  "language_info": {
   "codemirror_mode": {
    "name": "ipython",
    "version": 3
   },
   "file_extension": ".py",
   "mimetype": "text/x-python",
   "name": "python",
   "nbconvert_exporter": "python",
   "pygments_lexer": "ipython3",
   "version": "3.11.4"
  }
 },
 "nbformat": 4,
 "nbformat_minor": 5
}
